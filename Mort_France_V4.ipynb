{
 "cells": [
  {
   "cell_type": "code",
   "execution_count": 371,
   "id": "73e404b8",
   "metadata": {},
   "outputs": [],
   "source": [
    "import numpy as np\n",
    "import matplotlib.pyplot as plt\n",
    "import pandas as pd\n",
    "from scipy.interpolate import interp1d\n",
    "import seaborn as sns\n",
    "pd.options.mode.chained_assignment = None  # default='warn'"
   ]
  },
  {
   "cell_type": "code",
   "execution_count": 153,
   "id": "0eb619f2",
   "metadata": {},
   "outputs": [],
   "source": [
    "def add_new_year(Year):\n",
    "    #DOB Filter empty year\n",
    "    dead = pd.read_fwf('./deces-' + str(Year) + '.txt',widths=(80,1,8,5,30,30,8,5),header=0,names=('NomPrenom','Sexe','DOB','CodeLieuxNaissance','AdressseNaissance','Etranger','DOD','CodeLieuDeces'), encoding= 'unicode_escape')\n",
    "    dead.drop(dead[dead['DOB']/10**7%10==0].index,inplace=True)\n",
    "    dead.drop(dead[dead['DOB']/10**6%10==0].index,inplace=True)    \n",
    "    #DOB Filter empty day and force 00 to 01\n",
    "    dead['DOB'] = np.where((dead['DOB']%10==0) & (dead['DOB']/10%10==0), dead['DOB'] + 1, dead['DOB'])\n",
    "    #DOB Filter empty month and force 00 to 01\n",
    "    dead['DOB'] = np.where((np.trunc(dead['DOB']/100%10)==0) & (np.trunc(dead['DOB']/1000%10)==0), dead['DOB'] + 100, dead['DOB'])\n",
    "    \n",
    "    #DOD Filter empty year\n",
    "    dead.drop(dead[dead['DOD']<19000101].index,inplace=True)\n",
    "    dead.drop(dead[dead['DOD']/10**7%10==0].index,inplace=True)\n",
    "    dead.drop(dead[dead['DOD']/10**6%10==0].index,inplace=True)    \n",
    "    #DOD Filter empty day and force 00 to 01\n",
    "    dead['DOD'] = np.where((dead['DOD']%10==0) & (dead['DOD']/10%10==0), dead['DOD'] + 1, dead['DOD'])\n",
    "    #DOD Filter empty month and force 00 to 01\n",
    "    dead['DOD'] = np.where((np.trunc(dead['DOD']/100%10)==0) & (np.trunc(dead['DOD']/1000%10)==0), dead['DOD'] + 100, dead['DOD'])\n",
    "    \n",
    "    #Remove '/' in Col 1\n",
    "    dead.iloc[:,0]=dead.iloc[:,0].str[:-1]\n",
    "    #Split Name * Col 1\n",
    "    dead[['Last','First']] = dead.NomPrenom.str.split(\"*\",expand=True)\n",
    "    dead.drop(columns='NomPrenom',inplace=True)\n",
    "    # shift column to first position\n",
    "    first = dead.pop('Last')\n",
    "    second = dead.pop('First')\n",
    "\n",
    "    dead.insert(0, 'Last', first)\n",
    "    dead.insert(0, 'First', second)\n",
    "    #Change format DOB, DOD\n",
    "    dead[\"DOB\"] = pd.to_datetime(dead[\"DOB\"], yearfirst=True, errors='coerce', dayfirst=False, format=\"%Y%m%d\")\n",
    "    dead[\"DOD\"] = pd.to_datetime(dead[\"DOD\"], yearfirst=True, dayfirst=False, format=\"%Y%m%d\")\n",
    "    dead[\"Age\"]= (dead[\"DOD\"] - dead[\"DOB\"])/np.timedelta64(1,'Y')\n",
    "    dead.drop(dead[dead['Age']>130].index,inplace=True)\n",
    "    dead.drop(dead[dead['Age']<=0].index,inplace=True)\n",
    "    \n",
    "    #Corse exeption 2A, 2B\n",
    "    if dead['CodeLieuxNaissance'].dtype!='int64':\n",
    "        dead['CodeLieuxNaissance'] = np.where(dead['CodeLieuxNaissance'].isnull()==True,00000, dead['CodeLieuxNaissance'])\n",
    "        dead['CodeLieuxNaissance'] = np.where(dead['CodeLieuxNaissance'].str[:-3]=='2B',20200, dead['CodeLieuxNaissance'])\n",
    "        dead['CodeLieuxNaissance'] = np.where(dead['CodeLieuxNaissance'].str[:-3]=='2A',20000, dead['CodeLieuxNaissance'])\n",
    "    if dead['CodeLieuDeces'].dtype!='int64':\n",
    "        dead['CodeLieuDeces'] = np.where(dead['CodeLieuDeces'].isnull()==True,00000, dead['CodeLieuDeces'])\n",
    "        dead['CodeLieuDeces'] = np.where(dead['CodeLieuDeces'].str[:-3]=='2B',20200, dead['CodeLieuDeces'])\n",
    "        dead['CodeLieuDeces'] = np.where(dead['CodeLieuDeces'].str[:-3]=='2A',20000, dead['CodeLieuDeces'])\n",
    "    dead=dead.astype({'CodeLieuxNaissance': 'int64', 'CodeLieuDeces':'int64'})\n",
    "    #Departement Naissance\n",
    "    dead['DEP_B'] = np.trunc(dead['CodeLieuxNaissance']/1000)\n",
    "    dead=dead.astype({'DEP_B': 'int64'})\n",
    "    \n",
    "    return dead"
   ]
  },
  {
   "cell_type": "code",
   "execution_count": 154,
   "id": "cb3f3db6",
   "metadata": {},
   "outputs": [],
   "source": [
    "dead=add_new_year(2010)"
   ]
  },
  {
   "cell_type": "code",
   "execution_count": 155,
   "id": "22292d63",
   "metadata": {},
   "outputs": [
    {
     "data": {
      "text/html": [
       "<div>\n",
       "<style scoped>\n",
       "    .dataframe tbody tr th:only-of-type {\n",
       "        vertical-align: middle;\n",
       "    }\n",
       "\n",
       "    .dataframe tbody tr th {\n",
       "        vertical-align: top;\n",
       "    }\n",
       "\n",
       "    .dataframe thead th {\n",
       "        text-align: right;\n",
       "    }\n",
       "</style>\n",
       "<table border=\"1\" class=\"dataframe\">\n",
       "  <thead>\n",
       "    <tr style=\"text-align: right;\">\n",
       "      <th></th>\n",
       "      <th>Sexe</th>\n",
       "      <th>CodeLieuxNaissance</th>\n",
       "      <th>CodeLieuDeces</th>\n",
       "      <th>Age</th>\n",
       "      <th>DEP_B</th>\n",
       "    </tr>\n",
       "  </thead>\n",
       "  <tbody>\n",
       "    <tr>\n",
       "      <th>Sexe</th>\n",
       "      <td>1.000000</td>\n",
       "      <td>-0.017295</td>\n",
       "      <td>-0.003681</td>\n",
       "      <td>0.240559</td>\n",
       "      <td>-0.017235</td>\n",
       "    </tr>\n",
       "    <tr>\n",
       "      <th>CodeLieuxNaissance</th>\n",
       "      <td>-0.017295</td>\n",
       "      <td>1.000000</td>\n",
       "      <td>0.433865</td>\n",
       "      <td>-0.053552</td>\n",
       "      <td>0.999982</td>\n",
       "    </tr>\n",
       "    <tr>\n",
       "      <th>CodeLieuDeces</th>\n",
       "      <td>-0.003681</td>\n",
       "      <td>0.433865</td>\n",
       "      <td>1.000000</td>\n",
       "      <td>-0.048877</td>\n",
       "      <td>0.433672</td>\n",
       "    </tr>\n",
       "    <tr>\n",
       "      <th>Age</th>\n",
       "      <td>0.240559</td>\n",
       "      <td>-0.053552</td>\n",
       "      <td>-0.048877</td>\n",
       "      <td>1.000000</td>\n",
       "      <td>-0.053360</td>\n",
       "    </tr>\n",
       "    <tr>\n",
       "      <th>DEP_B</th>\n",
       "      <td>-0.017235</td>\n",
       "      <td>0.999982</td>\n",
       "      <td>0.433672</td>\n",
       "      <td>-0.053360</td>\n",
       "      <td>1.000000</td>\n",
       "    </tr>\n",
       "  </tbody>\n",
       "</table>\n",
       "</div>"
      ],
      "text/plain": [
       "                        Sexe  CodeLieuxNaissance  CodeLieuDeces       Age  \\\n",
       "Sexe                1.000000           -0.017295      -0.003681  0.240559   \n",
       "CodeLieuxNaissance -0.017295            1.000000       0.433865 -0.053552   \n",
       "CodeLieuDeces      -0.003681            0.433865       1.000000 -0.048877   \n",
       "Age                 0.240559           -0.053552      -0.048877  1.000000   \n",
       "DEP_B              -0.017235            0.999982       0.433672 -0.053360   \n",
       "\n",
       "                       DEP_B  \n",
       "Sexe               -0.017235  \n",
       "CodeLieuxNaissance  0.999982  \n",
       "CodeLieuDeces       0.433672  \n",
       "Age                -0.053360  \n",
       "DEP_B               1.000000  "
      ]
     },
     "execution_count": 155,
     "metadata": {},
     "output_type": "execute_result"
    }
   ],
   "source": [
    "dead.corr()"
   ]
  },
  {
   "cell_type": "code",
   "execution_count": 156,
   "id": "a436a803",
   "metadata": {},
   "outputs": [],
   "source": [
    "#dead.to_csv('1999.csv')"
   ]
  },
  {
   "cell_type": "code",
   "execution_count": 157,
   "id": "b22b10b7",
   "metadata": {},
   "outputs": [
    {
     "data": {
      "text/html": [
       "<div>\n",
       "<style scoped>\n",
       "    .dataframe tbody tr th:only-of-type {\n",
       "        vertical-align: middle;\n",
       "    }\n",
       "\n",
       "    .dataframe tbody tr th {\n",
       "        vertical-align: top;\n",
       "    }\n",
       "\n",
       "    .dataframe thead th {\n",
       "        text-align: right;\n",
       "    }\n",
       "</style>\n",
       "<table border=\"1\" class=\"dataframe\">\n",
       "  <thead>\n",
       "    <tr style=\"text-align: right;\">\n",
       "      <th></th>\n",
       "      <th>Sexe</th>\n",
       "      <th>CodeLieuxNaissance</th>\n",
       "      <th>CodeLieuDeces</th>\n",
       "      <th>Age</th>\n",
       "      <th>DEP_B</th>\n",
       "    </tr>\n",
       "  </thead>\n",
       "  <tbody>\n",
       "    <tr>\n",
       "      <th>count</th>\n",
       "      <td>549744.000000</td>\n",
       "      <td>549744.000000</td>\n",
       "      <td>549744.000000</td>\n",
       "      <td>549738.000000</td>\n",
       "      <td>549744.000000</td>\n",
       "    </tr>\n",
       "    <tr>\n",
       "      <th>mean</th>\n",
       "      <td>1.488957</td>\n",
       "      <td>58320.032350</td>\n",
       "      <td>52493.948038</td>\n",
       "      <td>77.080567</td>\n",
       "      <td>58.092150</td>\n",
       "    </tr>\n",
       "    <tr>\n",
       "      <th>std</th>\n",
       "      <td>0.499878</td>\n",
       "      <td>28421.792348</td>\n",
       "      <td>27360.027809</td>\n",
       "      <td>16.389639</td>\n",
       "      <td>28.417297</td>\n",
       "    </tr>\n",
       "    <tr>\n",
       "      <th>min</th>\n",
       "      <td>1.000000</td>\n",
       "      <td>0.000000</td>\n",
       "      <td>0.000000</td>\n",
       "      <td>0.002738</td>\n",
       "      <td>0.000000</td>\n",
       "    </tr>\n",
       "    <tr>\n",
       "      <th>25%</th>\n",
       "      <td>1.000000</td>\n",
       "      <td>34301.000000</td>\n",
       "      <td>30189.000000</td>\n",
       "      <td>68.902168</td>\n",
       "      <td>34.000000</td>\n",
       "    </tr>\n",
       "    <tr>\n",
       "      <th>50%</th>\n",
       "      <td>1.000000</td>\n",
       "      <td>61148.000000</td>\n",
       "      <td>56260.000000</td>\n",
       "      <td>81.474637</td>\n",
       "      <td>61.000000</td>\n",
       "    </tr>\n",
       "    <tr>\n",
       "      <th>75%</th>\n",
       "      <td>2.000000</td>\n",
       "      <td>78551.000000</td>\n",
       "      <td>75116.000000</td>\n",
       "      <td>88.267384</td>\n",
       "      <td>78.000000</td>\n",
       "    </tr>\n",
       "    <tr>\n",
       "      <th>max</th>\n",
       "      <td>2.000000</td>\n",
       "      <td>99514.000000</td>\n",
       "      <td>99990.000000</td>\n",
       "      <td>112.443103</td>\n",
       "      <td>99.000000</td>\n",
       "    </tr>\n",
       "  </tbody>\n",
       "</table>\n",
       "</div>"
      ],
      "text/plain": [
       "                Sexe  CodeLieuxNaissance  CodeLieuDeces            Age  \\\n",
       "count  549744.000000       549744.000000  549744.000000  549738.000000   \n",
       "mean        1.488957        58320.032350   52493.948038      77.080567   \n",
       "std         0.499878        28421.792348   27360.027809      16.389639   \n",
       "min         1.000000            0.000000       0.000000       0.002738   \n",
       "25%         1.000000        34301.000000   30189.000000      68.902168   \n",
       "50%         1.000000        61148.000000   56260.000000      81.474637   \n",
       "75%         2.000000        78551.000000   75116.000000      88.267384   \n",
       "max         2.000000        99514.000000   99990.000000     112.443103   \n",
       "\n",
       "               DEP_B  \n",
       "count  549744.000000  \n",
       "mean       58.092150  \n",
       "std        28.417297  \n",
       "min         0.000000  \n",
       "25%        34.000000  \n",
       "50%        61.000000  \n",
       "75%        78.000000  \n",
       "max        99.000000  "
      ]
     },
     "execution_count": 157,
     "metadata": {},
     "output_type": "execute_result"
    }
   ],
   "source": [
    "dead.describe()"
   ]
  },
  {
   "cell_type": "code",
   "execution_count": 147,
   "id": "cd09b87a",
   "metadata": {},
   "outputs": [
    {
     "data": {
      "text/plain": [
       "False    549734\n",
       "True         10\n",
       "Name: CodeLieuxNaissance, dtype: int64"
      ]
     },
     "execution_count": 147,
     "metadata": {},
     "output_type": "execute_result"
    }
   ],
   "source": [
    "dead['CodeLieuxNaissance'].isnull().value_counts()"
   ]
  },
  {
   "cell_type": "code",
   "execution_count": 177,
   "id": "cb479f19",
   "metadata": {},
   "outputs": [
    {
     "data": {
      "text/plain": [
       "<seaborn.axisgrid.JointGrid at 0x1c02d013ee0>"
      ]
     },
     "execution_count": 177,
     "metadata": {},
     "output_type": "execute_result"
    },
    {
     "data": {
      "image/png": "[encoded data removed]",
      "text/plain": [
       "<Figure size 432x432 with 3 Axes>"
      ]
     },
     "metadata": {
      "needs_background": "light"
     },
     "output_type": "display_data"
    }
   ],
   "source": [
    "ALL_FILTERED=dead[(dead['DOD'].dt.year>2009) & (dead['Sexe']==2)]\n",
    "sns.jointplot(x='DOD',y='Age',data=ALL_FILTERED, kind='kde',shade=True,cmap='YlGnBu')"
   ]
  },
  {
   "cell_type": "code",
   "execution_count": 174,
   "id": "0d0d1e9d",
   "metadata": {},
   "outputs": [
    {
     "data": {
      "text/plain": [
       "0          True\n",
       "1          True\n",
       "2         False\n",
       "3          True\n",
       "4          True\n",
       "          ...  \n",
       "551009    False\n",
       "551010    False\n",
       "551011    False\n",
       "551012     True\n",
       "551013     True\n",
       "Length: 549744, dtype: bool"
      ]
     },
     "execution_count": 174,
     "metadata": {},
     "output_type": "execute_result"
    }
   ],
   "source": [
    "(dead['DOD'].dt.year>2000) & (dead['Sexe']==1)"
   ]
  },
  {
   "cell_type": "code",
   "execution_count": 161,
   "id": "b2cb186a",
   "metadata": {
    "scrolled": true
   },
   "outputs": [
    {
     "name": "stdout",
     "output_type": "stream",
     "text": [
      "1971\n",
      "1973\n",
      "1975\n",
      "1977\n",
      "1979\n",
      "1981\n",
      "1983\n",
      "1985\n",
      "1987\n",
      "1989\n",
      "1991\n",
      "1993\n",
      "1995\n",
      "1997\n",
      "1999\n",
      "2001\n",
      "2003\n",
      "2005\n",
      "2007\n",
      "2009\n",
      "2011\n",
      "2013\n",
      "2015\n",
      "2017\n",
      "2019\n",
      "2021\n"
     ]
    },
    {
     "data": {
      "text/html": [
       "<div>\n",
       "<style scoped>\n",
       "    .dataframe tbody tr th:only-of-type {\n",
       "        vertical-align: middle;\n",
       "    }\n",
       "\n",
       "    .dataframe tbody tr th {\n",
       "        vertical-align: top;\n",
       "    }\n",
       "\n",
       "    .dataframe thead th {\n",
       "        text-align: right;\n",
       "    }\n",
       "</style>\n",
       "<table border=\"1\" class=\"dataframe\">\n",
       "  <thead>\n",
       "    <tr style=\"text-align: right;\">\n",
       "      <th></th>\n",
       "      <th>First</th>\n",
       "      <th>Last</th>\n",
       "      <th>Sexe</th>\n",
       "      <th>DOB</th>\n",
       "      <th>CodeLieuxNaissance</th>\n",
       "      <th>AdressseNaissance</th>\n",
       "      <th>Etranger</th>\n",
       "      <th>DOD</th>\n",
       "      <th>CodeLieuDeces</th>\n",
       "      <th>Age</th>\n",
       "      <th>DEP_B</th>\n",
       "    </tr>\n",
       "  </thead>\n",
       "  <tbody>\n",
       "    <tr>\n",
       "      <th>0</th>\n",
       "      <td>JOANNY</td>\n",
       "      <td>PERRUCHET</td>\n",
       "      <td>1</td>\n",
       "      <td>1905-08-08</td>\n",
       "      <td>1001</td>\n",
       "      <td>L'ABERGEMENT-CLEMENCIAT</td>\n",
       "      <td>NaN</td>\n",
       "      <td>1971-03-10</td>\n",
       "      <td>71270</td>\n",
       "      <td>65.586562</td>\n",
       "      <td>1</td>\n",
       "    </tr>\n",
       "    <tr>\n",
       "      <th>1</th>\n",
       "      <td>JEANNE MARIE</td>\n",
       "      <td>RIGAUD</td>\n",
       "      <td>2</td>\n",
       "      <td>1908-08-05</td>\n",
       "      <td>1001</td>\n",
       "      <td>L'ABERGEMENT-CLEMENCIAT</td>\n",
       "      <td>NaN</td>\n",
       "      <td>1971-02-18</td>\n",
       "      <td>1446</td>\n",
       "      <td>62.539272</td>\n",
       "      <td>1</td>\n",
       "    </tr>\n",
       "    <tr>\n",
       "      <th>2</th>\n",
       "      <td>ANTOINETTE</td>\n",
       "      <td>GUICHARD</td>\n",
       "      <td>2</td>\n",
       "      <td>1913-04-26</td>\n",
       "      <td>1001</td>\n",
       "      <td>L'ABERGEMENT-CLEMENCIAT</td>\n",
       "      <td>NaN</td>\n",
       "      <td>1971-05-23</td>\n",
       "      <td>1028</td>\n",
       "      <td>58.073746</td>\n",
       "      <td>1</td>\n",
       "    </tr>\n",
       "    <tr>\n",
       "      <th>3</th>\n",
       "      <td>JEAN CLAUDE</td>\n",
       "      <td>BOUCHY</td>\n",
       "      <td>1</td>\n",
       "      <td>1894-09-30</td>\n",
       "      <td>1001</td>\n",
       "      <td>L'ABERGEMENT-CLEMENCIAT</td>\n",
       "      <td>NaN</td>\n",
       "      <td>1971-02-18</td>\n",
       "      <td>69384</td>\n",
       "      <td>76.384868</td>\n",
       "      <td>1</td>\n",
       "    </tr>\n",
       "    <tr>\n",
       "      <th>4</th>\n",
       "      <td>MICHEL</td>\n",
       "      <td>GAUTHIER</td>\n",
       "      <td>1</td>\n",
       "      <td>1899-09-22</td>\n",
       "      <td>1001</td>\n",
       "      <td>L'ABERGEMENT-CLEMENCIAT</td>\n",
       "      <td>NaN</td>\n",
       "      <td>1971-07-23</td>\n",
       "      <td>1028</td>\n",
       "      <td>71.831728</td>\n",
       "      <td>1</td>\n",
       "    </tr>\n",
       "  </tbody>\n",
       "</table>\n",
       "</div>"
      ],
      "text/plain": [
       "          First       Last  Sexe        DOB  CodeLieuxNaissance  \\\n",
       "0        JOANNY  PERRUCHET     1 1905-08-08                1001   \n",
       "1  JEANNE MARIE     RIGAUD     2 1908-08-05                1001   \n",
       "2    ANTOINETTE   GUICHARD     2 1913-04-26                1001   \n",
       "3   JEAN CLAUDE     BOUCHY     1 1894-09-30                1001   \n",
       "4        MICHEL   GAUTHIER     1 1899-09-22                1001   \n",
       "\n",
       "         AdressseNaissance Etranger        DOD  CodeLieuDeces        Age  \\\n",
       "0  L'ABERGEMENT-CLEMENCIAT      NaN 1971-03-10          71270  65.586562   \n",
       "1  L'ABERGEMENT-CLEMENCIAT      NaN 1971-02-18           1446  62.539272   \n",
       "2  L'ABERGEMENT-CLEMENCIAT      NaN 1971-05-23           1028  58.073746   \n",
       "3  L'ABERGEMENT-CLEMENCIAT      NaN 1971-02-18          69384  76.384868   \n",
       "4  L'ABERGEMENT-CLEMENCIAT      NaN 1971-07-23           1028  71.831728   \n",
       "\n",
       "   DEP_B  \n",
       "0      1  \n",
       "1      1  \n",
       "2      1  \n",
       "3      1  \n",
       "4      1  "
      ]
     },
     "execution_count": 161,
     "metadata": {},
     "output_type": "execute_result"
    }
   ],
   "source": [
    "All_deads = pd.DataFrame()\n",
    "for i in np.arange(1971,2022,2):\n",
    "    print(i)\n",
    "    New_year = pd.DataFrame()\n",
    "    New_year=add_new_year(i)    \n",
    "    All_deads=pd.concat([All_deads,New_year]).reset_index(drop=True)\n",
    "All_deads.head()"
   ]
  },
  {
   "cell_type": "code",
   "execution_count": 163,
   "id": "0961153d",
   "metadata": {},
   "outputs": [
    {
     "data": {
      "text/plain": [
       "<seaborn.axisgrid.JointGrid at 0x1c016947610>"
      ]
     },
     "execution_count": 163,
     "metadata": {},
     "output_type": "execute_result"
    },
    {
     "data": {
      "image/png": "[encoded data removed]",
      "text/plain": [
       "<Figure size 432x432 with 3 Axes>"
      ]
     },
     "metadata": {
      "needs_background": "light"
     },
     "output_type": "display_data"
    }
   ],
   "source": [
    "ALL_FILTERED=All_deads[All_deads['DOD'].dt.year>1970]\n",
    "sns.jointplot(x='DOD',y='Age',data=ALL_FILTERED, kind='kde',shade=True,cmap='YlGnBu')"
   ]
  },
  {
   "cell_type": "code",
   "execution_count": 179,
   "id": "500b6d46",
   "metadata": {},
   "outputs": [
    {
     "data": {
      "text/plain": [
       "First                         object\n",
       "Last                          object\n",
       "Sexe                           int64\n",
       "DOB                   datetime64[ns]\n",
       "CodeLieuxNaissance             int64\n",
       "AdressseNaissance             object\n",
       "Etranger                      object\n",
       "DOD                   datetime64[ns]\n",
       "CodeLieuDeces                  int64\n",
       "Age                          float64\n",
       "DEP_B                          int64\n",
       "dtype: object"
      ]
     },
     "execution_count": 179,
     "metadata": {},
     "output_type": "execute_result"
    }
   ],
   "source": [
    "All_deads.dtypes"
   ]
  },
  {
   "cell_type": "code",
   "execution_count": 203,
   "id": "b8b81c62",
   "metadata": {},
   "outputs": [
    {
     "data": {
      "text/html": [
       "<div>\n",
       "<style scoped>\n",
       "    .dataframe tbody tr th:only-of-type {\n",
       "        vertical-align: middle;\n",
       "    }\n",
       "\n",
       "    .dataframe tbody tr th {\n",
       "        vertical-align: top;\n",
       "    }\n",
       "\n",
       "    .dataframe thead th {\n",
       "        text-align: right;\n",
       "    }\n",
       "</style>\n",
       "<table border=\"1\" class=\"dataframe\">\n",
       "  <thead>\n",
       "    <tr style=\"text-align: right;\">\n",
       "      <th></th>\n",
       "      <th>Sexe</th>\n",
       "      <th>CodeLieuxNaissance</th>\n",
       "      <th>CodeLieuDeces</th>\n",
       "      <th>Age</th>\n",
       "      <th>DEP_B</th>\n",
       "    </tr>\n",
       "  </thead>\n",
       "  <tbody>\n",
       "    <tr>\n",
       "      <th>Sexe</th>\n",
       "      <td>1.000000</td>\n",
       "      <td>-0.012205</td>\n",
       "      <td>0.000069</td>\n",
       "      <td>0.235086</td>\n",
       "      <td>-0.012168</td>\n",
       "    </tr>\n",
       "    <tr>\n",
       "      <th>CodeLieuxNaissance</th>\n",
       "      <td>-0.012205</td>\n",
       "      <td>1.000000</td>\n",
       "      <td>0.467858</td>\n",
       "      <td>-0.025062</td>\n",
       "      <td>0.999981</td>\n",
       "    </tr>\n",
       "    <tr>\n",
       "      <th>CodeLieuDeces</th>\n",
       "      <td>0.000069</td>\n",
       "      <td>0.467858</td>\n",
       "      <td>1.000000</td>\n",
       "      <td>-0.046052</td>\n",
       "      <td>0.467650</td>\n",
       "    </tr>\n",
       "    <tr>\n",
       "      <th>Age</th>\n",
       "      <td>0.235086</td>\n",
       "      <td>-0.025062</td>\n",
       "      <td>-0.046052</td>\n",
       "      <td>1.000000</td>\n",
       "      <td>-0.024913</td>\n",
       "    </tr>\n",
       "    <tr>\n",
       "      <th>DEP_B</th>\n",
       "      <td>-0.012168</td>\n",
       "      <td>0.999981</td>\n",
       "      <td>0.467650</td>\n",
       "      <td>-0.024913</td>\n",
       "      <td>1.000000</td>\n",
       "    </tr>\n",
       "  </tbody>\n",
       "</table>\n",
       "</div>"
      ],
      "text/plain": [
       "                        Sexe  CodeLieuxNaissance  CodeLieuDeces       Age  \\\n",
       "Sexe                1.000000           -0.012205       0.000069  0.235086   \n",
       "CodeLieuxNaissance -0.012205            1.000000       0.467858 -0.025062   \n",
       "CodeLieuDeces       0.000069            0.467858       1.000000 -0.046052   \n",
       "Age                 0.235086           -0.025062      -0.046052  1.000000   \n",
       "DEP_B              -0.012168            0.999981       0.467650 -0.024913   \n",
       "\n",
       "                       DEP_B  \n",
       "Sexe               -0.012168  \n",
       "CodeLieuxNaissance  0.999981  \n",
       "CodeLieuDeces       0.467650  \n",
       "Age                -0.024913  \n",
       "DEP_B               1.000000  "
      ]
     },
     "execution_count": 203,
     "metadata": {},
     "output_type": "execute_result"
    }
   ],
   "source": [
    "All_deads.corr()"
   ]
  },
  {
   "cell_type": "code",
   "execution_count": null,
   "id": "b3f69630",
   "metadata": {},
   "outputs": [],
   "source": []
  },
  {
   "cell_type": "code",
   "execution_count": 193,
   "id": "9f0da366",
   "metadata": {},
   "outputs": [
    {
     "data": {
      "text/plain": [
       "(60.0, 90.0)"
      ]
     },
     "execution_count": 193,
     "metadata": {},
     "output_type": "execute_result"
    },
    {
     "data": {
      "image/png": "[encoded data removed]",
      "text/plain": [
       "<Figure size 432x288 with 1 Axes>"
      ]
     },
     "metadata": {
      "needs_background": "light"
     },
     "output_type": "display_data"
    }
   ],
   "source": [
    "ALL_FILTERED=All_deads[All_deads['DOD'].dt.year>1970]\n",
    "DEP=pd.pivot_table(ALL_FILTERED,index=[\"Sexe\",\"DEP_B\"],values=[\"Age\"],aggfunc=[np.mean])\n",
    "\n",
    "DEP2=DEP['mean']\n",
    "DEP3=pd.pivot_table(dead,index=[\"DEP_B\"],columns='Sexe',values=[\"Age\"])\n",
    "plt.plot(DEP3)\n",
    "plt.legend([1,2])\n",
    "plt.xlim(0,100)\n",
    "plt.ylim(60,90)"
   ]
  },
  {
   "cell_type": "code",
   "execution_count": 198,
   "id": "1e632a6c",
   "metadata": {},
   "outputs": [
    {
     "name": "stderr",
     "output_type": "stream",
     "text": [
      "C:\\ProgramData\\Anaconda3\\lib\\site-packages\\seaborn\\_decorators.py:36: FutureWarning: Pass the following variables as keyword args: x, y. From version 0.12, the only valid positional argument will be `data`, and passing other arguments without an explicit keyword will result in an error or misinterpretation.\n",
      "  warnings.warn(\n"
     ]
    },
    {
     "data": {
      "text/plain": [
       "6.0    1942179\n",
       "0.0    1941168\n",
       "5.0    1913802\n",
       "3.0    1893502\n",
       "4.0    1890633\n",
       "1.0    1882930\n",
       "2.0    1880047\n",
       "Name: DOB, dtype: int64"
      ]
     },
     "execution_count": 198,
     "metadata": {},
     "output_type": "execute_result"
    },
    {
     "data": {
      "image/png": "[encoded data removed]",
      "text/plain": [
       "<Figure size 432x288 with 1 Axes>"
      ]
     },
     "metadata": {
      "needs_background": "light"
     },
     "output_type": "display_data"
    }
   ],
   "source": [
    "Day=ALL_FILTERED['DOB'].dt.dayofweek.value_counts()\n",
    "sns.barplot(Day.index,Day.values)\n",
    "plt.gca().set_ylim(1500000, 2500000)\n",
    "Day"
   ]
  },
  {
   "cell_type": "code",
   "execution_count": 202,
   "id": "aabacfc9",
   "metadata": {},
   "outputs": [
    {
     "name": "stderr",
     "output_type": "stream",
     "text": [
      "C:\\ProgramData\\Anaconda3\\lib\\site-packages\\seaborn\\_decorators.py:36: FutureWarning: Pass the following variables as keyword args: x, y. From version 0.12, the only valid positional argument will be `data`, and passing other arguments without an explicit keyword will result in an error or misinterpretation.\n",
      "  warnings.warn(\n"
     ]
    },
    {
     "data": {
      "text/plain": [
       "1     1282567\n",
       "12    1240421\n",
       "3     1181877\n",
       "2     1126561\n",
       "10    1117007\n",
       "11    1107642\n",
       "4     1088170\n",
       "5     1076864\n",
       "7     1044115\n",
       "8     1041138\n",
       "6     1026800\n",
       "9     1011123\n",
       "Name: DOD, dtype: int64"
      ]
     },
     "execution_count": 202,
     "metadata": {},
     "output_type": "execute_result"
    },
    {
     "data": {
      "image/png": "[encoded data removed]",
      "text/plain": [
       "<Figure size 432x288 with 1 Axes>"
      ]
     },
     "metadata": {
      "needs_background": "light"
     },
     "output_type": "display_data"
    }
   ],
   "source": [
    "Month=ALL_FILTERED['DOD'].dt.month.value_counts()\n",
    "sns.barplot(Month.index,Month.values)\n",
    "#plt.gca().set_ylim(25000, 45000)\n",
    "Month"
   ]
  },
  {
   "cell_type": "code",
   "execution_count": 51,
   "id": "6a4214c1",
   "metadata": {},
   "outputs": [
    {
     "ename": "NameError",
     "evalue": "name 'dead_2021' is not defined",
     "output_type": "error",
     "traceback": [
      "\u001b[1;31m---------------------------------------------------------------------------\u001b[0m",
      "\u001b[1;31mNameError\u001b[0m                                 Traceback (most recent call last)",
      "\u001b[1;32m~\\AppData\\Local\\Temp/ipykernel_30304/2534865459.py\u001b[0m in \u001b[0;36m<module>\u001b[1;34m\u001b[0m\n\u001b[1;32m----> 1\u001b[1;33m \u001b[0mMeuf2021\u001b[0m\u001b[1;33m=\u001b[0m\u001b[0mdead_2021\u001b[0m\u001b[1;33m[\u001b[0m\u001b[0mdead_2021\u001b[0m\u001b[1;33m[\u001b[0m\u001b[1;34m'Sexe'\u001b[0m\u001b[1;33m]\u001b[0m\u001b[1;33m==\u001b[0m\u001b[1;36m2\u001b[0m\u001b[1;33m]\u001b[0m\u001b[1;33m\u001b[0m\u001b[1;33m\u001b[0m\u001b[0m\n\u001b[0m\u001b[0;32m      2\u001b[0m \u001b[0mKem2021\u001b[0m\u001b[1;33m=\u001b[0m\u001b[0mdead_2021\u001b[0m\u001b[1;33m[\u001b[0m\u001b[0mdead_2021\u001b[0m\u001b[1;33m[\u001b[0m\u001b[1;34m'Sexe'\u001b[0m\u001b[1;33m]\u001b[0m\u001b[1;33m==\u001b[0m\u001b[1;36m1\u001b[0m\u001b[1;33m]\u001b[0m\u001b[1;33m\u001b[0m\u001b[1;33m\u001b[0m\u001b[0m\n\u001b[0;32m      3\u001b[0m \u001b[1;33m\u001b[0m\u001b[0m\n\u001b[0;32m      4\u001b[0m \u001b[0msns\u001b[0m\u001b[1;33m.\u001b[0m\u001b[0mhistplot\u001b[0m\u001b[1;33m(\u001b[0m\u001b[0mMeuf2021\u001b[0m\u001b[1;33m[\u001b[0m\u001b[1;34m'Age'\u001b[0m\u001b[1;33m]\u001b[0m\u001b[1;33m,\u001b[0m\u001b[0mkde\u001b[0m\u001b[1;33m=\u001b[0m\u001b[1;32mTrue\u001b[0m\u001b[1;33m,\u001b[0m\u001b[0mcolor\u001b[0m\u001b[1;33m=\u001b[0m\u001b[1;34m\"y\"\u001b[0m\u001b[1;33m)\u001b[0m\u001b[1;33m\u001b[0m\u001b[1;33m\u001b[0m\u001b[0m\n\u001b[0;32m      5\u001b[0m \u001b[0msns\u001b[0m\u001b[1;33m.\u001b[0m\u001b[0mhistplot\u001b[0m\u001b[1;33m(\u001b[0m\u001b[0mKem2021\u001b[0m\u001b[1;33m[\u001b[0m\u001b[1;34m'Age'\u001b[0m\u001b[1;33m]\u001b[0m\u001b[1;33m,\u001b[0m\u001b[0mkde\u001b[0m\u001b[1;33m=\u001b[0m\u001b[1;32mTrue\u001b[0m\u001b[1;33m,\u001b[0m\u001b[0mcolor\u001b[0m\u001b[1;33m=\u001b[0m\u001b[1;34m\"r\"\u001b[0m\u001b[1;33m)\u001b[0m\u001b[1;33m\u001b[0m\u001b[1;33m\u001b[0m\u001b[0m\n",
      "\u001b[1;31mNameError\u001b[0m: name 'dead_2021' is not defined"
     ]
    }
   ],
   "source": [
    "Meuf2021=dead_2021[dead_2021['Sexe']==2]\n",
    "Kem2021=dead_2021[dead_2021['Sexe']==1]\n",
    "\n",
    "sns.histplot(Meuf2021['Age'],kde=True,color=\"y\")\n",
    "sns.histplot(Kem2021['Age'],kde=True,color=\"r\")\n",
    "\n",
    "Meuf1975=dead_1975[dead_1975['Sexe']==2]\n",
    "Kem1975=dead_1975[dead_1975['Sexe']==1]\n",
    "\n",
    "sns.histplot(Meuf1975['Age'],kde=True,color=\"g\")\n",
    "sns.histplot(Kem1975['Age'],kde=True,color=\"b\")\n",
    "      "
   ]
  },
  {
   "cell_type": "code",
   "execution_count": null,
   "id": "dc1969c3",
   "metadata": {},
   "outputs": [],
   "source": [
    "sns.scatterplot(x=dead_2021['DOB_AAAA'],y=dead_2021['Age'],hue=dead_2021['Sexe'],palette='YlGnBu')"
   ]
  },
  {
   "cell_type": "code",
   "execution_count": null,
   "id": "416b310e",
   "metadata": {},
   "outputs": [],
   "source": [
    "sns.boxplot(x='DOB_AAAA',y='Age',data=All_deads, hue='Sexe', palette='YlGnBu')"
   ]
  },
  {
   "cell_type": "code",
   "execution_count": 97,
   "id": "1693e0a3",
   "metadata": {},
   "outputs": [],
   "source": [
    "#All_deads=pd.concat([dead_1975,dead_1985,dead_1995,dead_2005,dead_2021]).reset_index(drop=True)"
   ]
  },
  {
   "cell_type": "code",
   "execution_count": 115,
   "id": "f0dd8b51",
   "metadata": {
    "scrolled": true
   },
   "outputs": [
    {
     "data": {
      "text/plain": [
       "<AxesSubplot:xlabel='DOB_AAAA', ylabel='Age'>"
      ]
     },
     "execution_count": 115,
     "metadata": {},
     "output_type": "execute_result"
    },
    {
     "data": {
      "image/png": "[encoded data removed]",
      "text/plain": [
       "<Figure size 432x288 with 1 Axes>"
      ]
     },
     "metadata": {
      "needs_background": "light"
     },
     "output_type": "display_data"
    }
   ],
   "source": [
    "sns.scatterplot(x=All_deads['DOB_AAAA'],y=All_deads['Age'],hue=All_deads['Sexe'],palette='YlGnBu')"
   ]
  },
  {
   "cell_type": "code",
   "execution_count": 116,
   "id": "129f8ee9",
   "metadata": {},
   "outputs": [
    {
     "data": {
      "text/plain": [
       "<AxesSubplot:xlabel='DOB_AAAA', ylabel='Age'>"
      ]
     },
     "execution_count": 116,
     "metadata": {},
     "output_type": "execute_result"
    },
    {
     "data": {
      "image/png": "[encoded data removed]",
      "text/plain": [
       "<Figure size 432x288 with 1 Axes>"
      ]
     },
     "metadata": {
      "needs_background": "light"
     },
     "output_type": "display_data"
    }
   ],
   "source": [
    "sns.boxplot(x='DOB_AAAA',y='Age',data=All_deads, hue='Sexe', palette='YlGnBu')"
   ]
  },
  {
   "cell_type": "code",
   "execution_count": 117,
   "id": "9d3daa05",
   "metadata": {},
   "outputs": [
    {
     "data": {
      "text/plain": [
       "<AxesSubplot:xlabel='DOB_AAAA', ylabel='Age'>"
      ]
     },
     "execution_count": 117,
     "metadata": {},
     "output_type": "execute_result"
    },
    {
     "data": {
      "image/png": "[encoded data removed]",
      "text/plain": [
       "<Figure size 432x288 with 1 Axes>"
      ]
     },
     "metadata": {
      "needs_background": "light"
     },
     "output_type": "display_data"
    }
   ],
   "source": [
    "sns.barplot(x='DOB_AAAA',y='Age',data=All_deads, hue='Sexe', palette='YlGnBu')"
   ]
  },
  {
   "cell_type": "code",
   "execution_count": 118,
   "id": "f965b7e6",
   "metadata": {},
   "outputs": [
    {
     "data": {
      "text/plain": [
       "<seaborn.axisgrid.JointGrid at 0x24cf5900e50>"
      ]
     },
     "execution_count": 118,
     "metadata": {},
     "output_type": "execute_result"
    },
    {
     "data": {
      "image/png": "[encoded data removed]",
      "text/plain": [
       "<Figure size 432x432 with 3 Axes>"
      ]
     },
     "metadata": {
      "needs_background": "light"
     },
     "output_type": "display_data"
    }
   ],
   "source": [
    "sns.jointplot(x='DOB_AAAA',y='Age',data=All_deads, kind='reg')"
   ]
  },
  {
   "cell_type": "code",
   "execution_count": null,
   "id": "e9fe2629",
   "metadata": {},
   "outputs": [],
   "source": [
    "sns.jointplot(x='DOB_AAAA',y='Age',data=All_deads, kind='kde')"
   ]
  },
  {
   "cell_type": "code",
   "execution_count": 114,
   "id": "fd15e91d",
   "metadata": {},
   "outputs": [
    {
     "data": {
      "text/html": [
       "<div>\n",
       "<style scoped>\n",
       "    .dataframe tbody tr th:only-of-type {\n",
       "        vertical-align: middle;\n",
       "    }\n",
       "\n",
       "    .dataframe tbody tr th {\n",
       "        vertical-align: top;\n",
       "    }\n",
       "\n",
       "    .dataframe thead th {\n",
       "        text-align: right;\n",
       "    }\n",
       "</style>\n",
       "<table border=\"1\" class=\"dataframe\">\n",
       "  <thead>\n",
       "    <tr style=\"text-align: right;\">\n",
       "      <th></th>\n",
       "      <th>1975</th>\n",
       "      <th>1980</th>\n",
       "      <th>1985</th>\n",
       "      <th>1990</th>\n",
       "      <th>1995</th>\n",
       "      <th>2000</th>\n",
       "      <th>2005</th>\n",
       "      <th>2010</th>\n",
       "      <th>2015</th>\n",
       "      <th>2020</th>\n",
       "    </tr>\n",
       "  </thead>\n",
       "  <tbody>\n",
       "    <tr>\n",
       "      <th>0</th>\n",
       "      <td>57713</td>\n",
       "      <td>63061</td>\n",
       "      <td>69020</td>\n",
       "      <td>79386</td>\n",
       "      <td>75912</td>\n",
       "      <td>82345</td>\n",
       "      <td>80561</td>\n",
       "      <td>79496</td>\n",
       "      <td>88150</td>\n",
       "      <td>97908</td>\n",
       "    </tr>\n",
       "    <tr>\n",
       "      <th>1</th>\n",
       "      <td>56643</td>\n",
       "      <td>63813</td>\n",
       "      <td>69087</td>\n",
       "      <td>78191</td>\n",
       "      <td>75605</td>\n",
       "      <td>82229</td>\n",
       "      <td>80183</td>\n",
       "      <td>79520</td>\n",
       "      <td>88290</td>\n",
       "      <td>98224</td>\n",
       "    </tr>\n",
       "    <tr>\n",
       "      <th>2</th>\n",
       "      <td>58270</td>\n",
       "      <td>63793</td>\n",
       "      <td>67652</td>\n",
       "      <td>77805</td>\n",
       "      <td>74318</td>\n",
       "      <td>81271</td>\n",
       "      <td>79523</td>\n",
       "      <td>78734</td>\n",
       "      <td>87028</td>\n",
       "      <td>97190</td>\n",
       "    </tr>\n",
       "    <tr>\n",
       "      <th>3</th>\n",
       "      <td>56777</td>\n",
       "      <td>61804</td>\n",
       "      <td>67573</td>\n",
       "      <td>77648</td>\n",
       "      <td>74730</td>\n",
       "      <td>81062</td>\n",
       "      <td>79883</td>\n",
       "      <td>78770</td>\n",
       "      <td>86843</td>\n",
       "      <td>97575</td>\n",
       "    </tr>\n",
       "    <tr>\n",
       "      <th>4</th>\n",
       "      <td>56845</td>\n",
       "      <td>62488</td>\n",
       "      <td>67438</td>\n",
       "      <td>78516</td>\n",
       "      <td>74833</td>\n",
       "      <td>81594</td>\n",
       "      <td>79678</td>\n",
       "      <td>79223</td>\n",
       "      <td>87550</td>\n",
       "      <td>98255</td>\n",
       "    </tr>\n",
       "    <tr>\n",
       "      <th>5</th>\n",
       "      <td>56705</td>\n",
       "      <td>61648</td>\n",
       "      <td>67278</td>\n",
       "      <td>78283</td>\n",
       "      <td>73849</td>\n",
       "      <td>81153</td>\n",
       "      <td>78947</td>\n",
       "      <td>77389</td>\n",
       "      <td>86871</td>\n",
       "      <td>95782</td>\n",
       "    </tr>\n",
       "    <tr>\n",
       "      <th>6</th>\n",
       "      <td>55727</td>\n",
       "      <td>60887</td>\n",
       "      <td>66328</td>\n",
       "      <td>76811</td>\n",
       "      <td>72170</td>\n",
       "      <td>79931</td>\n",
       "      <td>77522</td>\n",
       "      <td>76612</td>\n",
       "      <td>84089</td>\n",
       "      <td>94298</td>\n",
       "    </tr>\n",
       "  </tbody>\n",
       "</table>\n",
       "</div>"
      ],
      "text/plain": [
       "    1975   1980   1985   1990   1995   2000   2005   2010   2015   2020\n",
       "0  57713  63061  69020  79386  75912  82345  80561  79496  88150  97908\n",
       "1  56643  63813  69087  78191  75605  82229  80183  79520  88290  98224\n",
       "2  58270  63793  67652  77805  74318  81271  79523  78734  87028  97190\n",
       "3  56777  61804  67573  77648  74730  81062  79883  78770  86843  97575\n",
       "4  56845  62488  67438  78516  74833  81594  79678  79223  87550  98255\n",
       "5  56705  61648  67278  78283  73849  81153  78947  77389  86871  95782\n",
       "6  55727  60887  66328  76811  72170  79931  77522  76612  84089  94298"
      ]
     },
     "execution_count": 114,
     "metadata": {},
     "output_type": "execute_result"
    }
   ],
   "source": [
    "Day=dead_1975['DOD'].dt.dayofweek.value_counts()\n",
    "\n",
    "Days=pd.DataFrame([dead_1975['DOD'].dt.dayofweek.value_counts(),dead_1980['DOD'].dt.dayofweek.value_counts(),dead_1985['DOD'].dt.dayofweek.value_counts(),dead_1990['DOD'].dt.dayofweek.value_counts(),dead_1995['DOD'].dt.dayofweek.value_counts(),dead_2000['DOD'].dt.dayofweek.value_counts(),dead_2005['DOD'].dt.dayofweek.value_counts(),dead_2010['DOD'].dt.dayofweek.value_counts(),dead_2015['DOD'].dt.dayofweek.value_counts(),dead_2020['DOD'].dt.dayofweek.value_counts()], index=[1975,1980,1985,1990,1995,2000,2005,2010,2015,2020])\n",
    "#sns.barplot(x='DOB_AAAA',y='Age',data=All_deads, hue='Sexe', palette='YlGnBu')\n",
    "Days\n",
    "DaysT=Days.transpose()\n",
    "DaysT"
   ]
  },
  {
   "cell_type": "code",
   "execution_count": 115,
   "id": "003c87b7",
   "metadata": {},
   "outputs": [
    {
     "data": {
      "text/plain": [
       "[<matplotlib.lines.Line2D at 0x2bb39995be0>,\n",
       " <matplotlib.lines.Line2D at 0x2bb39995c10>,\n",
       " <matplotlib.lines.Line2D at 0x2bb39995d30>,\n",
       " <matplotlib.lines.Line2D at 0x2bb39995e50>,\n",
       " <matplotlib.lines.Line2D at 0x2bb39995f70>,\n",
       " <matplotlib.lines.Line2D at 0x2bb3fbc70d0>,\n",
       " <matplotlib.lines.Line2D at 0x2bb3fbc71f0>,\n",
       " <matplotlib.lines.Line2D at 0x2bb3fbc7310>,\n",
       " <matplotlib.lines.Line2D at 0x2bb3fbc7430>,\n",
       " <matplotlib.lines.Line2D at 0x2bb3fbc7550>]"
      ]
     },
     "execution_count": 115,
     "metadata": {},
     "output_type": "execute_result"
    },
    {
     "data": {
      "image/png": "[encoded data removed]",
      "text/plain": [
       "<Figure size 432x288 with 1 Axes>"
      ]
     },
     "metadata": {
      "needs_background": "light"
     },
     "output_type": "display_data"
    }
   ],
   "source": [
    "plt.plot(DaysT)"
   ]
  },
  {
   "cell_type": "code",
   "execution_count": 121,
   "id": "e2c69d3d",
   "metadata": {},
   "outputs": [
    {
     "data": {
      "text/html": [
       "<div>\n",
       "<style scoped>\n",
       "    .dataframe tbody tr th:only-of-type {\n",
       "        vertical-align: middle;\n",
       "    }\n",
       "\n",
       "    .dataframe tbody tr th {\n",
       "        vertical-align: top;\n",
       "    }\n",
       "\n",
       "    .dataframe thead th {\n",
       "        text-align: right;\n",
       "    }\n",
       "</style>\n",
       "<table border=\"1\" class=\"dataframe\">\n",
       "  <thead>\n",
       "    <tr style=\"text-align: right;\">\n",
       "      <th></th>\n",
       "      <th>1975</th>\n",
       "      <th>1980</th>\n",
       "      <th>1985</th>\n",
       "      <th>1990</th>\n",
       "      <th>1995</th>\n",
       "      <th>2000</th>\n",
       "      <th>2005</th>\n",
       "      <th>2010</th>\n",
       "      <th>2015</th>\n",
       "      <th>2020</th>\n",
       "    </tr>\n",
       "  </thead>\n",
       "  <tbody>\n",
       "    <tr>\n",
       "      <th>1</th>\n",
       "      <td>38409</td>\n",
       "      <td>40402</td>\n",
       "      <td>49178</td>\n",
       "      <td>57682</td>\n",
       "      <td>49680</td>\n",
       "      <td>61777</td>\n",
       "      <td>50491</td>\n",
       "      <td>52621</td>\n",
       "      <td>59569</td>\n",
       "      <td>58146</td>\n",
       "    </tr>\n",
       "    <tr>\n",
       "      <th>2</th>\n",
       "      <td>31049</td>\n",
       "      <td>35315</td>\n",
       "      <td>40478</td>\n",
       "      <td>44774</td>\n",
       "      <td>41857</td>\n",
       "      <td>49638</td>\n",
       "      <td>51942</td>\n",
       "      <td>47056</td>\n",
       "      <td>58490</td>\n",
       "      <td>52038</td>\n",
       "    </tr>\n",
       "    <tr>\n",
       "      <th>3</th>\n",
       "      <td>34196</td>\n",
       "      <td>35708</td>\n",
       "      <td>43993</td>\n",
       "      <td>46080</td>\n",
       "      <td>47310</td>\n",
       "      <td>46978</td>\n",
       "      <td>55300</td>\n",
       "      <td>48813</td>\n",
       "      <td>56070</td>\n",
       "      <td>63858</td>\n",
       "    </tr>\n",
       "    <tr>\n",
       "      <th>4</th>\n",
       "      <td>33442</td>\n",
       "      <td>36602</td>\n",
       "      <td>39064</td>\n",
       "      <td>44756</td>\n",
       "      <td>46672</td>\n",
       "      <td>44134</td>\n",
       "      <td>45121</td>\n",
       "      <td>44968</td>\n",
       "      <td>48713</td>\n",
       "      <td>67638</td>\n",
       "    </tr>\n",
       "    <tr>\n",
       "      <th>5</th>\n",
       "      <td>32934</td>\n",
       "      <td>36756</td>\n",
       "      <td>39112</td>\n",
       "      <td>43019</td>\n",
       "      <td>44756</td>\n",
       "      <td>43578</td>\n",
       "      <td>44454</td>\n",
       "      <td>45286</td>\n",
       "      <td>47207</td>\n",
       "      <td>49773</td>\n",
       "    </tr>\n",
       "    <tr>\n",
       "      <th>6</th>\n",
       "      <td>31383</td>\n",
       "      <td>34317</td>\n",
       "      <td>35902</td>\n",
       "      <td>41757</td>\n",
       "      <td>42443</td>\n",
       "      <td>42231</td>\n",
       "      <td>42583</td>\n",
       "      <td>42442</td>\n",
       "      <td>45656</td>\n",
       "      <td>46874</td>\n",
       "    </tr>\n",
       "    <tr>\n",
       "      <th>7</th>\n",
       "      <td>32099</td>\n",
       "      <td>35781</td>\n",
       "      <td>37275</td>\n",
       "      <td>44212</td>\n",
       "      <td>44696</td>\n",
       "      <td>43712</td>\n",
       "      <td>41469</td>\n",
       "      <td>43238</td>\n",
       "      <td>47811</td>\n",
       "      <td>47910</td>\n",
       "    </tr>\n",
       "    <tr>\n",
       "      <th>8</th>\n",
       "      <td>32811</td>\n",
       "      <td>34170</td>\n",
       "      <td>35568</td>\n",
       "      <td>43679</td>\n",
       "      <td>42846</td>\n",
       "      <td>42813</td>\n",
       "      <td>40714</td>\n",
       "      <td>42400</td>\n",
       "      <td>47557</td>\n",
       "      <td>50008</td>\n",
       "    </tr>\n",
       "    <tr>\n",
       "      <th>9</th>\n",
       "      <td>30682</td>\n",
       "      <td>32761</td>\n",
       "      <td>33609</td>\n",
       "      <td>40855</td>\n",
       "      <td>41483</td>\n",
       "      <td>41061</td>\n",
       "      <td>40518</td>\n",
       "      <td>42369</td>\n",
       "      <td>45888</td>\n",
       "      <td>50070</td>\n",
       "    </tr>\n",
       "    <tr>\n",
       "      <th>10</th>\n",
       "      <td>33923</td>\n",
       "      <td>37122</td>\n",
       "      <td>38012</td>\n",
       "      <td>45303</td>\n",
       "      <td>42996</td>\n",
       "      <td>47117</td>\n",
       "      <td>44301</td>\n",
       "      <td>46534</td>\n",
       "      <td>51234</td>\n",
       "      <td>58888</td>\n",
       "    </tr>\n",
       "    <tr>\n",
       "      <th>11</th>\n",
       "      <td>32266</td>\n",
       "      <td>38278</td>\n",
       "      <td>40864</td>\n",
       "      <td>41352</td>\n",
       "      <td>33310</td>\n",
       "      <td>52003</td>\n",
       "      <td>43919</td>\n",
       "      <td>44692</td>\n",
       "      <td>47778</td>\n",
       "      <td>67008</td>\n",
       "    </tr>\n",
       "    <tr>\n",
       "      <th>12</th>\n",
       "      <td>35486</td>\n",
       "      <td>40282</td>\n",
       "      <td>41321</td>\n",
       "      <td>53171</td>\n",
       "      <td>43368</td>\n",
       "      <td>54543</td>\n",
       "      <td>55485</td>\n",
       "      <td>49325</td>\n",
       "      <td>52848</td>\n",
       "      <td>67021</td>\n",
       "    </tr>\n",
       "  </tbody>\n",
       "</table>\n",
       "</div>"
      ],
      "text/plain": [
       "     1975   1980   1985   1990   1995   2000   2005   2010   2015   2020\n",
       "1   38409  40402  49178  57682  49680  61777  50491  52621  59569  58146\n",
       "2   31049  35315  40478  44774  41857  49638  51942  47056  58490  52038\n",
       "3   34196  35708  43993  46080  47310  46978  55300  48813  56070  63858\n",
       "4   33442  36602  39064  44756  46672  44134  45121  44968  48713  67638\n",
       "5   32934  36756  39112  43019  44756  43578  44454  45286  47207  49773\n",
       "6   31383  34317  35902  41757  42443  42231  42583  42442  45656  46874\n",
       "7   32099  35781  37275  44212  44696  43712  41469  43238  47811  47910\n",
       "8   32811  34170  35568  43679  42846  42813  40714  42400  47557  50008\n",
       "9   30682  32761  33609  40855  41483  41061  40518  42369  45888  50070\n",
       "10  33923  37122  38012  45303  42996  47117  44301  46534  51234  58888\n",
       "11  32266  38278  40864  41352  33310  52003  43919  44692  47778  67008\n",
       "12  35486  40282  41321  53171  43368  54543  55485  49325  52848  67021"
      ]
     },
     "execution_count": 121,
     "metadata": {},
     "output_type": "execute_result"
    }
   ],
   "source": [
    "Month=dead_1975['DOD'].dt.month.value_counts()\n",
    "\n",
    "Months=pd.DataFrame([dead_1975['DOD'].dt.month.value_counts(),dead_1980['DOD'].dt.month.value_counts(),dead_1985['DOD'].dt.month.value_counts(),dead_1990['DOD'].dt.month.value_counts(),dead_1995['DOD'].dt.month.value_counts(),dead_2000['DOD'].dt.month.value_counts(),dead_2005['DOD'].dt.month.value_counts(),dead_2010['DOD'].dt.month.value_counts(),dead_2015['DOD'].dt.month.value_counts(),dead_2020['DOD'].dt.month.value_counts()], index=[1975,1980,1985,1990,1995,2000,2005,2010,2015,2020])\n",
    "#sns.barplot(x='DOB_AAAA',y='Age',data=All_deads, hue='Sexe', palette='YlGnBu')\n",
    "MonthsT=Months.transpose()\n",
    "MonthsT"
   ]
  },
  {
   "cell_type": "code",
   "execution_count": 129,
   "id": "b253a2f5",
   "metadata": {},
   "outputs": [
    {
     "data": {
      "text/plain": [
       "<matplotlib.legend.Legend at 0x2bb4b3995e0>"
      ]
     },
     "execution_count": 129,
     "metadata": {},
     "output_type": "execute_result"
    },
    {
     "data": {
      "image/png": "[encoded data removed]",
      "text/plain": [
       "<Figure size 432x288 with 1 Axes>"
      ]
     },
     "metadata": {
      "needs_background": "light"
     },
     "output_type": "display_data"
    }
   ],
   "source": [
    "plt.plot(MonthsT)\n",
    "plt.legend([1975,1980,1985,1990,1995,2000,2005,2010,2015,2020])"
   ]
  },
  {
   "cell_type": "code",
   "execution_count": 150,
   "id": "20715444",
   "metadata": {},
   "outputs": [],
   "source": [
    "Pivot1=All_deads.pivot_table(index=All_deads['DOB'].dt.month, columns='Sexe', values='Age')"
   ]
  },
  {
   "cell_type": "code",
   "execution_count": 151,
   "id": "193bc387",
   "metadata": {},
   "outputs": [
    {
     "data": {
      "text/html": [
       "<div>\n",
       "<style scoped>\n",
       "    .dataframe tbody tr th:only-of-type {\n",
       "        vertical-align: middle;\n",
       "    }\n",
       "\n",
       "    .dataframe tbody tr th {\n",
       "        vertical-align: top;\n",
       "    }\n",
       "\n",
       "    .dataframe thead th {\n",
       "        text-align: right;\n",
       "    }\n",
       "</style>\n",
       "<table border=\"1\" class=\"dataframe\">\n",
       "  <thead>\n",
       "    <tr style=\"text-align: right;\">\n",
       "      <th>Sexe</th>\n",
       "      <th>1</th>\n",
       "      <th>2</th>\n",
       "    </tr>\n",
       "    <tr>\n",
       "      <th>DOB</th>\n",
       "      <th></th>\n",
       "      <th></th>\n",
       "    </tr>\n",
       "  </thead>\n",
       "  <tbody>\n",
       "    <tr>\n",
       "      <th>1.0</th>\n",
       "      <td>70.735265</td>\n",
       "      <td>78.786087</td>\n",
       "    </tr>\n",
       "    <tr>\n",
       "      <th>2.0</th>\n",
       "      <td>70.758838</td>\n",
       "      <td>79.040479</td>\n",
       "    </tr>\n",
       "    <tr>\n",
       "      <th>3.0</th>\n",
       "      <td>70.745486</td>\n",
       "      <td>78.965645</td>\n",
       "    </tr>\n",
       "    <tr>\n",
       "      <th>4.0</th>\n",
       "      <td>70.644538</td>\n",
       "      <td>78.909396</td>\n",
       "    </tr>\n",
       "    <tr>\n",
       "      <th>5.0</th>\n",
       "      <td>70.290033</td>\n",
       "      <td>78.675513</td>\n",
       "    </tr>\n",
       "    <tr>\n",
       "      <th>6.0</th>\n",
       "      <td>70.223591</td>\n",
       "      <td>78.603018</td>\n",
       "    </tr>\n",
       "    <tr>\n",
       "      <th>7.0</th>\n",
       "      <td>70.109657</td>\n",
       "      <td>78.571664</td>\n",
       "    </tr>\n",
       "    <tr>\n",
       "      <th>8.0</th>\n",
       "      <td>70.251603</td>\n",
       "      <td>78.719584</td>\n",
       "    </tr>\n",
       "    <tr>\n",
       "      <th>9.0</th>\n",
       "      <td>70.324830</td>\n",
       "      <td>78.769988</td>\n",
       "    </tr>\n",
       "    <tr>\n",
       "      <th>10.0</th>\n",
       "      <td>70.361080</td>\n",
       "      <td>78.836956</td>\n",
       "    </tr>\n",
       "    <tr>\n",
       "      <th>11.0</th>\n",
       "      <td>70.470394</td>\n",
       "      <td>78.910913</td>\n",
       "    </tr>\n",
       "    <tr>\n",
       "      <th>12.0</th>\n",
       "      <td>70.367196</td>\n",
       "      <td>78.723622</td>\n",
       "    </tr>\n",
       "  </tbody>\n",
       "</table>\n",
       "</div>"
      ],
      "text/plain": [
       "Sexe          1          2\n",
       "DOB                       \n",
       "1.0   70.735265  78.786087\n",
       "2.0   70.758838  79.040479\n",
       "3.0   70.745486  78.965645\n",
       "4.0   70.644538  78.909396\n",
       "5.0   70.290033  78.675513\n",
       "6.0   70.223591  78.603018\n",
       "7.0   70.109657  78.571664\n",
       "8.0   70.251603  78.719584\n",
       "9.0   70.324830  78.769988\n",
       "10.0  70.361080  78.836956\n",
       "11.0  70.470394  78.910913\n",
       "12.0  70.367196  78.723622"
      ]
     },
     "execution_count": 151,
     "metadata": {},
     "output_type": "execute_result"
    }
   ],
   "source": [
    "Pivot1[0:30]"
   ]
  },
  {
   "cell_type": "code",
   "execution_count": 152,
   "id": "093403dd",
   "metadata": {},
   "outputs": [
    {
     "data": {
      "text/plain": [
       "[<matplotlib.lines.Line2D at 0x2bb98701c70>]"
      ]
     },
     "execution_count": 152,
     "metadata": {},
     "output_type": "execute_result"
    },
    {
     "data": {
      "image/png": "[encoded data removed]",
      "text/plain": [
       "<Figure size 432x288 with 1 Axes>"
      ]
     },
     "metadata": {
      "needs_background": "light"
     },
     "output_type": "display_data"
    }
   ],
   "source": [
    "#Pivot1T=Pivot1.transform\n",
    "plt.plot(Pivot1[1])"
   ]
  },
  {
   "cell_type": "code",
   "execution_count": 153,
   "id": "937cf5ec",
   "metadata": {},
   "outputs": [],
   "source": [
    "Pivot2=All_deads.pivot_table(index=All_deads['Last'], columns='Sexe', values='Age')"
   ]
  },
  {
   "cell_type": "code",
   "execution_count": 177,
   "id": "15dba073",
   "metadata": {},
   "outputs": [
    {
     "data": {
      "text/plain": [
       "Index(['', '-BAILLEST', '-BARBAZANGE', '-BERNARD', '-BEYNAT', '-BIAU',\n",
       "       '-BOUVIER', '-BROCHARD', '-FOURCADE', '-LANDOIS',\n",
       "       ...\n",
       "       'ZYWIEC', 'ZYWIECKA', 'ZYWIECKI', 'ZYWINA', 'ZYWIOLEK', 'ZYWOCKI',\n",
       "       'ZYZANSKI', 'ZYZEK', 'ZYZNOWSKI', 'ZYZYNSKI'],\n",
       "      dtype='object', name='Last', length=502625)"
      ]
     },
     "execution_count": 177,
     "metadata": {},
     "output_type": "execute_result"
    }
   ],
   "source": [
    "Pivot2.index"
   ]
  },
  {
   "cell_type": "code",
   "execution_count": 158,
   "id": "800e2e39",
   "metadata": {},
   "outputs": [
    {
     "data": {
      "text/plain": [
       "MARTIN               17025\n",
       "BERNARD               9169\n",
       "THOMAS                8061\n",
       "PETIT                 7880\n",
       "DURAND                7530\n",
       "                     ...  \n",
       "MYCAK                    1\n",
       "JACQUAINT                1\n",
       "NICOLAU-BERTHELON        1\n",
       "BALAU                    1\n",
       "PAIXAO                   1\n",
       "Name: Last, Length: 502626, dtype: int64"
      ]
     },
     "execution_count": 158,
     "metadata": {},
     "output_type": "execute_result"
    }
   ],
   "source": []
  },
  {
   "cell_type": "code",
   "execution_count": 159,
   "id": "8d1287f3",
   "metadata": {},
   "outputs": [],
   "source": [
    "Toto=All_deads['Last'].value_counts()"
   ]
  },
  {
   "cell_type": "code",
   "execution_count": 167,
   "id": "98013f66",
   "metadata": {},
   "outputs": [
    {
     "data": {
      "text/plain": [
       "Index(['MARTIN', 'BERNARD', 'THOMAS', 'PETIT', 'DURAND', 'DUBOIS', 'RICHARD',\n",
       "       'ROBERT', 'MOREAU', 'LAURENT', 'MICHEL', 'SIMON', 'LEFEBVRE', 'LEROY',\n",
       "       'ROUX', 'BERTRAND', 'DAVID', 'FOURNIER', 'BONNET', 'GIRARD', 'MOREL',\n",
       "       'BLANC', 'FAURE', 'LAMBERT', 'VINCENT', 'ROUSSEAU', 'DUPONT', 'ANDRE',\n",
       "       'MULLER', 'MERCIER', 'GARNIER', 'GUERIN', 'LEFEVRE', 'GAUTHIER',\n",
       "       'FRANCOIS', 'CHEVALIER', 'LEGRAND', 'PERRIN', 'FONTAINE', 'ROBIN',\n",
       "       'CLEMENT', 'MATHIEU', 'NICOLAS', 'BOYER', 'ROUSSEL', 'HENRY', 'MORIN',\n",
       "       'MASSON', 'MARCHAND', 'GARCIA'],\n",
       "      dtype='object')"
      ]
     },
     "execution_count": 167,
     "metadata": {},
     "output_type": "execute_result"
    }
   ],
   "source": [
    "Toto.iloc[0:10].index"
   ]
  },
  {
   "cell_type": "code",
   "execution_count": 195,
   "id": "89d56af4",
   "metadata": {},
   "outputs": [
    {
     "data": {
      "text/html": [
       "<div>\n",
       "<style scoped>\n",
       "    .dataframe tbody tr th:only-of-type {\n",
       "        vertical-align: middle;\n",
       "    }\n",
       "\n",
       "    .dataframe tbody tr th {\n",
       "        vertical-align: top;\n",
       "    }\n",
       "\n",
       "    .dataframe thead th {\n",
       "        text-align: right;\n",
       "    }\n",
       "</style>\n",
       "<table border=\"1\" class=\"dataframe\">\n",
       "  <thead>\n",
       "    <tr style=\"text-align: right;\">\n",
       "      <th>Sexe</th>\n",
       "      <th>1</th>\n",
       "      <th>2</th>\n",
       "    </tr>\n",
       "  </thead>\n",
       "  <tbody>\n",
       "    <tr>\n",
       "      <th>MARTIN</th>\n",
       "      <td>71.176555</td>\n",
       "      <td>79.597134</td>\n",
       "    </tr>\n",
       "    <tr>\n",
       "      <th>BERNARD</th>\n",
       "      <td>71.214659</td>\n",
       "      <td>79.225335</td>\n",
       "    </tr>\n",
       "    <tr>\n",
       "      <th>THOMAS</th>\n",
       "      <td>70.994329</td>\n",
       "      <td>79.406906</td>\n",
       "    </tr>\n",
       "    <tr>\n",
       "      <th>PETIT</th>\n",
       "      <td>70.789064</td>\n",
       "      <td>78.813487</td>\n",
       "    </tr>\n",
       "    <tr>\n",
       "      <th>DURAND</th>\n",
       "      <td>72.007738</td>\n",
       "      <td>80.020890</td>\n",
       "    </tr>\n",
       "    <tr>\n",
       "      <th>DUBOIS</th>\n",
       "      <td>70.399747</td>\n",
       "      <td>78.684765</td>\n",
       "    </tr>\n",
       "    <tr>\n",
       "      <th>RICHARD</th>\n",
       "      <td>70.380432</td>\n",
       "      <td>78.963043</td>\n",
       "    </tr>\n",
       "    <tr>\n",
       "      <th>ROBERT</th>\n",
       "      <td>70.386046</td>\n",
       "      <td>79.017771</td>\n",
       "    </tr>\n",
       "    <tr>\n",
       "      <th>MOREAU</th>\n",
       "      <td>71.408318</td>\n",
       "      <td>79.895666</td>\n",
       "    </tr>\n",
       "    <tr>\n",
       "      <th>LAURENT</th>\n",
       "      <td>71.103717</td>\n",
       "      <td>79.014286</td>\n",
       "    </tr>\n",
       "    <tr>\n",
       "      <th>MICHEL</th>\n",
       "      <td>70.745243</td>\n",
       "      <td>79.200663</td>\n",
       "    </tr>\n",
       "    <tr>\n",
       "      <th>SIMON</th>\n",
       "      <td>70.216734</td>\n",
       "      <td>78.608801</td>\n",
       "    </tr>\n",
       "    <tr>\n",
       "      <th>LEFEBVRE</th>\n",
       "      <td>68.568639</td>\n",
       "      <td>77.187850</td>\n",
       "    </tr>\n",
       "    <tr>\n",
       "      <th>LEROY</th>\n",
       "      <td>69.726983</td>\n",
       "      <td>77.810614</td>\n",
       "    </tr>\n",
       "    <tr>\n",
       "      <th>ROUX</th>\n",
       "      <td>72.303133</td>\n",
       "      <td>80.689686</td>\n",
       "    </tr>\n",
       "    <tr>\n",
       "      <th>BERTRAND</th>\n",
       "      <td>71.861062</td>\n",
       "      <td>79.504122</td>\n",
       "    </tr>\n",
       "    <tr>\n",
       "      <th>DAVID</th>\n",
       "      <td>70.728354</td>\n",
       "      <td>79.294260</td>\n",
       "    </tr>\n",
       "    <tr>\n",
       "      <th>FOURNIER</th>\n",
       "      <td>71.355385</td>\n",
       "      <td>79.069616</td>\n",
       "    </tr>\n",
       "    <tr>\n",
       "      <th>BONNET</th>\n",
       "      <td>72.150358</td>\n",
       "      <td>79.754895</td>\n",
       "    </tr>\n",
       "    <tr>\n",
       "      <th>GIRARD</th>\n",
       "      <td>71.682701</td>\n",
       "      <td>79.898647</td>\n",
       "    </tr>\n",
       "    <tr>\n",
       "      <th>MOREL</th>\n",
       "      <td>70.975483</td>\n",
       "      <td>78.712703</td>\n",
       "    </tr>\n",
       "    <tr>\n",
       "      <th>BLANC</th>\n",
       "      <td>72.878402</td>\n",
       "      <td>80.395438</td>\n",
       "    </tr>\n",
       "    <tr>\n",
       "      <th>FAURE</th>\n",
       "      <td>72.742468</td>\n",
       "      <td>80.500629</td>\n",
       "    </tr>\n",
       "    <tr>\n",
       "      <th>LAMBERT</th>\n",
       "      <td>71.184674</td>\n",
       "      <td>79.211744</td>\n",
       "    </tr>\n",
       "    <tr>\n",
       "      <th>VINCENT</th>\n",
       "      <td>71.931522</td>\n",
       "      <td>79.991760</td>\n",
       "    </tr>\n",
       "    <tr>\n",
       "      <th>ROUSSEAU</th>\n",
       "      <td>71.264573</td>\n",
       "      <td>79.131708</td>\n",
       "    </tr>\n",
       "    <tr>\n",
       "      <th>DUPONT</th>\n",
       "      <td>69.879085</td>\n",
       "      <td>78.616947</td>\n",
       "    </tr>\n",
       "    <tr>\n",
       "      <th>ANDRE</th>\n",
       "      <td>71.418683</td>\n",
       "      <td>79.329335</td>\n",
       "    </tr>\n",
       "    <tr>\n",
       "      <th>MULLER</th>\n",
       "      <td>69.955072</td>\n",
       "      <td>78.401376</td>\n",
       "    </tr>\n",
       "    <tr>\n",
       "      <th>MERCIER</th>\n",
       "      <td>70.607665</td>\n",
       "      <td>79.589866</td>\n",
       "    </tr>\n",
       "    <tr>\n",
       "      <th>GARNIER</th>\n",
       "      <td>71.356209</td>\n",
       "      <td>79.660276</td>\n",
       "    </tr>\n",
       "    <tr>\n",
       "      <th>GUERIN</th>\n",
       "      <td>71.822592</td>\n",
       "      <td>80.017344</td>\n",
       "    </tr>\n",
       "    <tr>\n",
       "      <th>LEFEVRE</th>\n",
       "      <td>70.044588</td>\n",
       "      <td>78.148984</td>\n",
       "    </tr>\n",
       "    <tr>\n",
       "      <th>GAUTHIER</th>\n",
       "      <td>71.757152</td>\n",
       "      <td>79.273114</td>\n",
       "    </tr>\n",
       "    <tr>\n",
       "      <th>FRANCOIS</th>\n",
       "      <td>69.834127</td>\n",
       "      <td>78.170946</td>\n",
       "    </tr>\n",
       "    <tr>\n",
       "      <th>CHEVALIER</th>\n",
       "      <td>70.890237</td>\n",
       "      <td>79.390131</td>\n",
       "    </tr>\n",
       "    <tr>\n",
       "      <th>LEGRAND</th>\n",
       "      <td>69.980259</td>\n",
       "      <td>78.265888</td>\n",
       "    </tr>\n",
       "    <tr>\n",
       "      <th>PERRIN</th>\n",
       "      <td>71.714448</td>\n",
       "      <td>79.262783</td>\n",
       "    </tr>\n",
       "    <tr>\n",
       "      <th>FONTAINE</th>\n",
       "      <td>68.893796</td>\n",
       "      <td>77.786869</td>\n",
       "    </tr>\n",
       "    <tr>\n",
       "      <th>ROBIN</th>\n",
       "      <td>71.364938</td>\n",
       "      <td>79.397329</td>\n",
       "    </tr>\n",
       "    <tr>\n",
       "      <th>CLEMENT</th>\n",
       "      <td>70.599835</td>\n",
       "      <td>79.129602</td>\n",
       "    </tr>\n",
       "    <tr>\n",
       "      <th>MATHIEU</th>\n",
       "      <td>71.278627</td>\n",
       "      <td>79.523972</td>\n",
       "    </tr>\n",
       "    <tr>\n",
       "      <th>NICOLAS</th>\n",
       "      <td>69.937558</td>\n",
       "      <td>79.533002</td>\n",
       "    </tr>\n",
       "    <tr>\n",
       "      <th>BOYER</th>\n",
       "      <td>70.960834</td>\n",
       "      <td>79.220413</td>\n",
       "    </tr>\n",
       "    <tr>\n",
       "      <th>ROUSSEL</th>\n",
       "      <td>70.218626</td>\n",
       "      <td>79.022142</td>\n",
       "    </tr>\n",
       "    <tr>\n",
       "      <th>HENRY</th>\n",
       "      <td>70.558411</td>\n",
       "      <td>78.278665</td>\n",
       "    </tr>\n",
       "    <tr>\n",
       "      <th>MORIN</th>\n",
       "      <td>71.554298</td>\n",
       "      <td>79.247875</td>\n",
       "    </tr>\n",
       "    <tr>\n",
       "      <th>MASSON</th>\n",
       "      <td>70.627437</td>\n",
       "      <td>78.994085</td>\n",
       "    </tr>\n",
       "    <tr>\n",
       "      <th>MARCHAND</th>\n",
       "      <td>71.595731</td>\n",
       "      <td>79.894187</td>\n",
       "    </tr>\n",
       "    <tr>\n",
       "      <th>GARCIA</th>\n",
       "      <td>69.472595</td>\n",
       "      <td>78.266915</td>\n",
       "    </tr>\n",
       "  </tbody>\n",
       "</table>\n",
       "</div>"
      ],
      "text/plain": [
       "Sexe               1          2\n",
       "MARTIN     71.176555  79.597134\n",
       "BERNARD    71.214659  79.225335\n",
       "THOMAS     70.994329  79.406906\n",
       "PETIT      70.789064  78.813487\n",
       "DURAND     72.007738  80.020890\n",
       "DUBOIS     70.399747  78.684765\n",
       "RICHARD    70.380432  78.963043\n",
       "ROBERT     70.386046  79.017771\n",
       "MOREAU     71.408318  79.895666\n",
       "LAURENT    71.103717  79.014286\n",
       "MICHEL     70.745243  79.200663\n",
       "SIMON      70.216734  78.608801\n",
       "LEFEBVRE   68.568639  77.187850\n",
       "LEROY      69.726983  77.810614\n",
       "ROUX       72.303133  80.689686\n",
       "BERTRAND   71.861062  79.504122\n",
       "DAVID      70.728354  79.294260\n",
       "FOURNIER   71.355385  79.069616\n",
       "BONNET     72.150358  79.754895\n",
       "GIRARD     71.682701  79.898647\n",
       "MOREL      70.975483  78.712703\n",
       "BLANC      72.878402  80.395438\n",
       "FAURE      72.742468  80.500629\n",
       "LAMBERT    71.184674  79.211744\n",
       "VINCENT    71.931522  79.991760\n",
       "ROUSSEAU   71.264573  79.131708\n",
       "DUPONT     69.879085  78.616947\n",
       "ANDRE      71.418683  79.329335\n",
       "MULLER     69.955072  78.401376\n",
       "MERCIER    70.607665  79.589866\n",
       "GARNIER    71.356209  79.660276\n",
       "GUERIN     71.822592  80.017344\n",
       "LEFEVRE    70.044588  78.148984\n",
       "GAUTHIER   71.757152  79.273114\n",
       "FRANCOIS   69.834127  78.170946\n",
       "CHEVALIER  70.890237  79.390131\n",
       "LEGRAND    69.980259  78.265888\n",
       "PERRIN     71.714448  79.262783\n",
       "FONTAINE   68.893796  77.786869\n",
       "ROBIN      71.364938  79.397329\n",
       "CLEMENT    70.599835  79.129602\n",
       "MATHIEU    71.278627  79.523972\n",
       "NICOLAS    69.937558  79.533002\n",
       "BOYER      70.960834  79.220413\n",
       "ROUSSEL    70.218626  79.022142\n",
       "HENRY      70.558411  78.278665\n",
       "MORIN      71.554298  79.247875\n",
       "MASSON     70.627437  78.994085\n",
       "MARCHAND   71.595731  79.894187\n",
       "GARCIA     69.472595  78.266915"
      ]
     },
     "execution_count": 195,
     "metadata": {},
     "output_type": "execute_result"
    }
   ],
   "source": [
    "Pivot2.loc[Toto.iloc[0:50].index]"
   ]
  },
  {
   "cell_type": "code",
   "execution_count": 198,
   "id": "5a66caf4",
   "metadata": {},
   "outputs": [
    {
     "data": {
      "text/plain": [
       "[<matplotlib.lines.Line2D at 0x2bb98d2b8b0>,\n",
       " <matplotlib.lines.Line2D at 0x2bb98d2b850>]"
      ]
     },
     "execution_count": 198,
     "metadata": {},
     "output_type": "execute_result"
    },
    {
     "data": {
      "image/png": "[encoded data removed]",
      "text/plain": [
       "<Figure size 432x288 with 1 Axes>"
      ]
     },
     "metadata": {
      "needs_background": "light"
     },
     "output_type": "display_data"
    }
   ],
   "source": [
    "plt.plot(Pivot2.loc[Toto.iloc[0:50].index])"
   ]
  },
  {
   "cell_type": "code",
   "execution_count": 200,
   "id": "46265c01",
   "metadata": {},
   "outputs": [
    {
     "data": {
      "text/html": [
       "<div>\n",
       "<style scoped>\n",
       "    .dataframe tbody tr th:only-of-type {\n",
       "        vertical-align: middle;\n",
       "    }\n",
       "\n",
       "    .dataframe tbody tr th {\n",
       "        vertical-align: top;\n",
       "    }\n",
       "\n",
       "    .dataframe thead th {\n",
       "        text-align: right;\n",
       "    }\n",
       "</style>\n",
       "<table border=\"1\" class=\"dataframe\">\n",
       "  <thead>\n",
       "    <tr style=\"text-align: right;\">\n",
       "      <th></th>\n",
       "      <th>First</th>\n",
       "      <th>Last</th>\n",
       "      <th>Sexe</th>\n",
       "      <th>DOB</th>\n",
       "      <th>CodeLieuxNaissance</th>\n",
       "      <th>AdressseNaissance</th>\n",
       "      <th>Etranger</th>\n",
       "      <th>DOD</th>\n",
       "      <th>CodeLieuDeces</th>\n",
       "      <th>ActeDecesNumber</th>\n",
       "      <th>Age</th>\n",
       "    </tr>\n",
       "  </thead>\n",
       "  <tbody>\n",
       "    <tr>\n",
       "      <th>0</th>\n",
       "      <td>CLEMENT ANTOINE</td>\n",
       "      <td>THOUNY</td>\n",
       "      <td>1</td>\n",
       "      <td>1904-08-31</td>\n",
       "      <td>1001</td>\n",
       "      <td>L'ABERGEMENT-CLEMENCIAT</td>\n",
       "      <td>NaN</td>\n",
       "      <td>1975-09-25</td>\n",
       "      <td>1001</td>\n",
       "      <td>3</td>\n",
       "      <td>71.067852</td>\n",
       "    </tr>\n",
       "    <tr>\n",
       "      <th>1</th>\n",
       "      <td>JEAN ADOLPHE</td>\n",
       "      <td>MAZUY</td>\n",
       "      <td>1</td>\n",
       "      <td>1905-07-03</td>\n",
       "      <td>1001</td>\n",
       "      <td>L'ABERGEMENT-CLEMENCIAT</td>\n",
       "      <td>NaN</td>\n",
       "      <td>1975-11-03</td>\n",
       "      <td>1004</td>\n",
       "      <td>4</td>\n",
       "      <td>70.336831</td>\n",
       "    </tr>\n",
       "    <tr>\n",
       "      <th>2</th>\n",
       "      <td>CELINE</td>\n",
       "      <td>LONGIN</td>\n",
       "      <td>2</td>\n",
       "      <td>1907-03-26</td>\n",
       "      <td>1001</td>\n",
       "      <td>L'ABERGEMENT-CLEMENCIAT</td>\n",
       "      <td>NaN</td>\n",
       "      <td>1975-08-05</td>\n",
       "      <td>1146</td>\n",
       "      <td>1</td>\n",
       "      <td>68.362800</td>\n",
       "    </tr>\n",
       "    <tr>\n",
       "      <th>3</th>\n",
       "      <td>MARTHE MARIE</td>\n",
       "      <td>BATAILLARD</td>\n",
       "      <td>2</td>\n",
       "      <td>1914-09-04</td>\n",
       "      <td>1001</td>\n",
       "      <td>L'ABERGEMENT-CLEMENCIAT</td>\n",
       "      <td>NaN</td>\n",
       "      <td>1975-11-27</td>\n",
       "      <td>1335</td>\n",
       "      <td>1</td>\n",
       "      <td>61.230552</td>\n",
       "    </tr>\n",
       "    <tr>\n",
       "      <th>4</th>\n",
       "      <td>FRANCOISE</td>\n",
       "      <td>RICHONNIER</td>\n",
       "      <td>2</td>\n",
       "      <td>1896-02-27</td>\n",
       "      <td>1001</td>\n",
       "      <td>L'ABERGEMENT-CLEMENCIAT</td>\n",
       "      <td>NaN</td>\n",
       "      <td>1975-08-23</td>\n",
       "      <td>1265</td>\n",
       "      <td>9</td>\n",
       "      <td>79.484178</td>\n",
       "    </tr>\n",
       "    <tr>\n",
       "      <th>...</th>\n",
       "      <td>...</td>\n",
       "      <td>...</td>\n",
       "      <td>...</td>\n",
       "      <td>...</td>\n",
       "      <td>...</td>\n",
       "      <td>...</td>\n",
       "      <td>...</td>\n",
       "      <td>...</td>\n",
       "      <td>...</td>\n",
       "      <td>...</td>\n",
       "      <td>...</td>\n",
       "    </tr>\n",
       "    <tr>\n",
       "      <th>4792537</th>\n",
       "      <td>JEAN-LOUIS ANDRE ALBERT</td>\n",
       "      <td>FOURNIER</td>\n",
       "      <td>1</td>\n",
       "      <td>1957-08-05</td>\n",
       "      <td>75118</td>\n",
       "      <td>PARIS 18E  ARRONDISSEMENT</td>\n",
       "      <td>NaN</td>\n",
       "      <td>2020-02-09</td>\n",
       "      <td>99134</td>\n",
       "      <td>2162</td>\n",
       "      <td>62.514631</td>\n",
       "    </tr>\n",
       "    <tr>\n",
       "      <th>4792538</th>\n",
       "      <td>KAMEL</td>\n",
       "      <td>CHITOUR</td>\n",
       "      <td>1</td>\n",
       "      <td>1941-07-27</td>\n",
       "      <td>93352</td>\n",
       "      <td>DEPARTEMENT DE CONSTANTINE</td>\n",
       "      <td>NaN</td>\n",
       "      <td>2020-09-11</td>\n",
       "      <td>99134</td>\n",
       "      <td>2166</td>\n",
       "      <td>79.128250</td>\n",
       "    </tr>\n",
       "    <tr>\n",
       "      <th>4792539</th>\n",
       "      <td>WALTRAUD ROSINA</td>\n",
       "      <td>SCHOTTMULLER</td>\n",
       "      <td>2</td>\n",
       "      <td>1930-02-18</td>\n",
       "      <td>99109</td>\n",
       "      <td>LAHR</td>\n",
       "      <td>ALLEMAGNE</td>\n",
       "      <td>2020-11-11</td>\n",
       "      <td>99134</td>\n",
       "      <td>2165</td>\n",
       "      <td>90.731500</td>\n",
       "    </tr>\n",
       "    <tr>\n",
       "      <th>4792540</th>\n",
       "      <td>ANDRE CHARLES</td>\n",
       "      <td>MASSONNET</td>\n",
       "      <td>1</td>\n",
       "      <td>1943-10-01</td>\n",
       "      <td>01060</td>\n",
       "      <td>BRENOD</td>\n",
       "      <td>NaN</td>\n",
       "      <td>2020-09-29</td>\n",
       "      <td>99140</td>\n",
       "      <td>3588</td>\n",
       "      <td>76.998159</td>\n",
       "    </tr>\n",
       "    <tr>\n",
       "      <th>4792541</th>\n",
       "      <td>NICOLE MICHELINE</td>\n",
       "      <td>HOFMANN</td>\n",
       "      <td>2</td>\n",
       "      <td>1928-01-15</td>\n",
       "      <td>75114</td>\n",
       "      <td>PARIS 14E  ARRONDISSEMENT</td>\n",
       "      <td>NaN</td>\n",
       "      <td>2020-05-08</td>\n",
       "      <td>99140</td>\n",
       "      <td>3597</td>\n",
       "      <td>92.314011</td>\n",
       "    </tr>\n",
       "  </tbody>\n",
       "</table>\n",
       "<p>4792542 rows × 11 columns</p>\n",
       "</div>"
      ],
      "text/plain": [
       "                           First          Last  Sexe        DOB  \\\n",
       "0                CLEMENT ANTOINE        THOUNY     1 1904-08-31   \n",
       "1                   JEAN ADOLPHE         MAZUY     1 1905-07-03   \n",
       "2                         CELINE        LONGIN     2 1907-03-26   \n",
       "3                   MARTHE MARIE    BATAILLARD     2 1914-09-04   \n",
       "4                      FRANCOISE    RICHONNIER     2 1896-02-27   \n",
       "...                          ...           ...   ...        ...   \n",
       "4792537  JEAN-LOUIS ANDRE ALBERT      FOURNIER     1 1957-08-05   \n",
       "4792538                    KAMEL       CHITOUR     1 1941-07-27   \n",
       "4792539          WALTRAUD ROSINA  SCHOTTMULLER     2 1930-02-18   \n",
       "4792540            ANDRE CHARLES     MASSONNET     1 1943-10-01   \n",
       "4792541         NICOLE MICHELINE       HOFMANN     2 1928-01-15   \n",
       "\n",
       "        CodeLieuxNaissance           AdressseNaissance   Etranger        DOD  \\\n",
       "0                     1001     L'ABERGEMENT-CLEMENCIAT        NaN 1975-09-25   \n",
       "1                     1001     L'ABERGEMENT-CLEMENCIAT        NaN 1975-11-03   \n",
       "2                     1001     L'ABERGEMENT-CLEMENCIAT        NaN 1975-08-05   \n",
       "3                     1001     L'ABERGEMENT-CLEMENCIAT        NaN 1975-11-27   \n",
       "4                     1001     L'ABERGEMENT-CLEMENCIAT        NaN 1975-08-23   \n",
       "...                    ...                         ...        ...        ...   \n",
       "4792537              75118   PARIS 18E  ARRONDISSEMENT        NaN 2020-02-09   \n",
       "4792538              93352  DEPARTEMENT DE CONSTANTINE        NaN 2020-09-11   \n",
       "4792539              99109                        LAHR  ALLEMAGNE 2020-11-11   \n",
       "4792540              01060                      BRENOD        NaN 2020-09-29   \n",
       "4792541              75114   PARIS 14E  ARRONDISSEMENT        NaN 2020-05-08   \n",
       "\n",
       "        CodeLieuDeces ActeDecesNumber        Age  \n",
       "0                1001               3  71.067852  \n",
       "1                1004               4  70.336831  \n",
       "2                1146               1  68.362800  \n",
       "3                1335               1  61.230552  \n",
       "4                1265               9  79.484178  \n",
       "...               ...             ...        ...  \n",
       "4792537         99134            2162  62.514631  \n",
       "4792538         99134            2166  79.128250  \n",
       "4792539         99134            2165  90.731500  \n",
       "4792540         99140            3588  76.998159  \n",
       "4792541         99140            3597  92.314011  \n",
       "\n",
       "[4792542 rows x 11 columns]"
      ]
     },
     "execution_count": 200,
     "metadata": {},
     "output_type": "execute_result"
    }
   ],
   "source": [
    "All_deads"
   ]
  },
  {
   "cell_type": "code",
   "execution_count": 205,
   "id": "aaa5d81b",
   "metadata": {},
   "outputs": [],
   "source": [
    "PivotEtranger=All_deads.pivot_table(index=All_deads['CodeLieuxNaissance'], columns='Sexe', values='Age')"
   ]
  },
  {
   "cell_type": "code",
   "execution_count": 206,
   "id": "7b7d93e1",
   "metadata": {},
   "outputs": [
    {
     "data": {
      "text/html": [
       "<div>\n",
       "<style scoped>\n",
       "    .dataframe tbody tr th:only-of-type {\n",
       "        vertical-align: middle;\n",
       "    }\n",
       "\n",
       "    .dataframe tbody tr th {\n",
       "        vertical-align: top;\n",
       "    }\n",
       "\n",
       "    .dataframe thead th {\n",
       "        text-align: right;\n",
       "    }\n",
       "</style>\n",
       "<table border=\"1\" class=\"dataframe\">\n",
       "  <thead>\n",
       "    <tr style=\"text-align: right;\">\n",
       "      <th>Sexe</th>\n",
       "      <th>1</th>\n",
       "      <th>2</th>\n",
       "    </tr>\n",
       "    <tr>\n",
       "      <th>CodeLieuxNaissance</th>\n",
       "      <th></th>\n",
       "      <th></th>\n",
       "    </tr>\n",
       "  </thead>\n",
       "  <tbody>\n",
       "    <tr>\n",
       "      <th>1001</th>\n",
       "      <td>70.007806</td>\n",
       "      <td>80.080529</td>\n",
       "    </tr>\n",
       "    <tr>\n",
       "      <th>1002</th>\n",
       "      <td>87.457876</td>\n",
       "      <td>83.276727</td>\n",
       "    </tr>\n",
       "    <tr>\n",
       "      <th>1003</th>\n",
       "      <td>67.103363</td>\n",
       "      <td>83.066045</td>\n",
       "    </tr>\n",
       "    <tr>\n",
       "      <th>1004</th>\n",
       "      <td>61.938153</td>\n",
       "      <td>74.925389</td>\n",
       "    </tr>\n",
       "    <tr>\n",
       "      <th>1005</th>\n",
       "      <td>77.834216</td>\n",
       "      <td>80.546144</td>\n",
       "    </tr>\n",
       "    <tr>\n",
       "      <th>...</th>\n",
       "      <td>...</td>\n",
       "      <td>...</td>\n",
       "    </tr>\n",
       "    <tr>\n",
       "      <th>1096</th>\n",
       "      <td>71.844181</td>\n",
       "      <td>79.474498</td>\n",
       "    </tr>\n",
       "    <tr>\n",
       "      <th>1097</th>\n",
       "      <td>68.326112</td>\n",
       "      <td>80.113897</td>\n",
       "    </tr>\n",
       "    <tr>\n",
       "      <th>1098</th>\n",
       "      <td>72.656447</td>\n",
       "      <td>82.928009</td>\n",
       "    </tr>\n",
       "    <tr>\n",
       "      <th>1099</th>\n",
       "      <td>75.088925</td>\n",
       "      <td>77.647043</td>\n",
       "    </tr>\n",
       "    <tr>\n",
       "      <th>1100</th>\n",
       "      <td>80.443815</td>\n",
       "      <td>83.942039</td>\n",
       "    </tr>\n",
       "  </tbody>\n",
       "</table>\n",
       "<p>100 rows × 2 columns</p>\n",
       "</div>"
      ],
      "text/plain": [
       "Sexe                        1          2\n",
       "CodeLieuxNaissance                      \n",
       "1001                70.007806  80.080529\n",
       "1002                87.457876  83.276727\n",
       "1003                67.103363  83.066045\n",
       "1004                61.938153  74.925389\n",
       "1005                77.834216  80.546144\n",
       "...                       ...        ...\n",
       "1096                71.844181  79.474498\n",
       "1097                68.326112  80.113897\n",
       "1098                72.656447  82.928009\n",
       "1099                75.088925  77.647043\n",
       "1100                80.443815  83.942039\n",
       "\n",
       "[100 rows x 2 columns]"
      ]
     },
     "execution_count": 206,
     "metadata": {},
     "output_type": "execute_result"
    }
   ],
   "source": [
    "PivotEtranger[0:100]"
   ]
  },
  {
   "cell_type": "code",
   "execution_count": 216,
   "id": "8b645e2c",
   "metadata": {},
   "outputs": [],
   "source": [
    "#sns.barplot(x='DOD',y='Age',data=All_deads, hue='Sexe', palette='YlGnBu')"
   ]
  },
  {
   "cell_type": "code",
   "execution_count": 215,
   "id": "774162bd",
   "metadata": {},
   "outputs": [
    {
     "data": {
      "text/plain": [
       "<AxesSubplot:xlabel='Sexe', ylabel='Age'>"
      ]
     },
     "execution_count": 215,
     "metadata": {},
     "output_type": "execute_result"
    },
    {
     "data": {
      "image/png": "[encoded data removed]",
      "text/plain": [
       "<Figure size 432x288 with 1 Axes>"
      ]
     },
     "metadata": {
      "needs_background": "light"
     },
     "output_type": "display_data"
    }
   ],
   "source": [
    "sns.boxplot(x=dead_1975['Sexe'],y=dead_1975['Age'],palette='YlGnBu')"
   ]
  },
  {
   "cell_type": "code",
   "execution_count": 220,
   "id": "9394bc39",
   "metadata": {},
   "outputs": [],
   "source": [
    "def plot_mortality_year(Year):\n",
    "    #DOB Filter empty year\n",
    "    dead = pd.read_fwf('./deces-' + str(Year) + '.txt',widths=(80,1,8,5,30,30,8,5,9),header=0,names=('NomPrenom','Sexe','DOB','CodeLieuxNaissance','AdressseNaissance','Etranger','DOD','CodeLieuDeces','ActeDecesNumber'), encoding= 'unicode_escape')\n",
    "    dead.drop(dead[dead['DOB']/10**7%10==0].index,inplace=True)\n",
    "    dead.drop(dead[dead['DOB']/10**6%10==0].index,inplace=True)    \n",
    "    #DOB Filter empty day and force 00 to 01\n",
    "    dead['DOB'] = np.where((dead['DOB']%10==0) & (dead['DOB']/10%10==0), dead['DOB'] + 1, dead['DOB'])\n",
    "    #DOB Filter empty month and force 00 to 01\n",
    "    dead['DOB'] = np.where((np.trunc(dead['DOB']/100%10)==0) & (np.trunc(dead['DOB']/1000%10)==0), dead['DOB'] + 100, dead['DOB'])\n",
    "    \n",
    "    #DOD Filter empty year\n",
    "    dead.drop(dead[dead['DOD']<19000101].index,inplace=True)\n",
    "    dead.drop(dead[dead['DOD']/10**7%10==0].index,inplace=True)\n",
    "    dead.drop(dead[dead['DOD']/10**6%10==0].index,inplace=True)    \n",
    "    #DOD Filter empty day and force 00 to 01\n",
    "    dead['DOD'] = np.where((dead['DOD']%10==0) & (dead['DOD']/10%10==0), dead['DOD'] + 1, dead['DOD'])\n",
    "    #DOD Filter empty month and force 00 to 01\n",
    "    dead['DOD'] = np.where((np.trunc(dead['DOD']/100%10)==0) & (np.trunc(dead['DOD']/1000%10)==0), dead['DOD'] + 100, dead['DOD'])\n",
    "    \n",
    "    #Remove '/' in Col 1\n",
    "    dead.iloc[:,0]=dead.iloc[:,0].str[:-1]\n",
    "    #Split Name * Col 1\n",
    "    dead[['Last','First']] = dead.NomPrenom.str.split(\"*\",expand=True)\n",
    "    dead.drop(columns='NomPrenom',inplace=True)\n",
    "    # shift column to first position\n",
    "    first = dead.pop('Last')\n",
    "    second = dead.pop('First')\n",
    "\n",
    "    dead.insert(0, 'Last', first)\n",
    "    dead.insert(0, 'First', second)\n",
    "    #Change format DOB, DOD\n",
    "    dead[\"DOB\"] = pd.to_datetime(dead[\"DOB\"], yearfirst=True, errors='coerce', dayfirst=False, format=\"%Y%m%d\")\n",
    "    dead[\"DOD\"] = pd.to_datetime(dead[\"DOD\"], yearfirst=True, dayfirst=False, format=\"%Y%m%d\")\n",
    "    dead[\"Age\"]= (dead[\"DOD\"] - dead[\"DOB\"])/np.timedelta64(1,'Y')\n",
    "    dead.drop(dead[dead['Age']>130].index,inplace=True)\n",
    "    dead.drop(dead[dead['Age']<=0].index,inplace=True)\n",
    "    #Meuf=dead[dead['Sexe']==2]\n",
    "    #Kem=dead[dead['Sexe']==1]\n",
    "    #Mortality_plt=sns.histplot(Kem['Age'],bins=120,color=\"blue\")\n",
    "    #Mortality_plt=sns.histplot(Meuf['Age'],bins=120,color=\"m\")\n",
    "    #Mortality_plt.set(xlim=(0,120),ylim=(0, 15000))\n",
    "    #Mortality_plt.set_title('Mortality year: ' + str(Year))\n",
    "    #plt.savefig('./mortality_' + str(Year) + '.png')  \n",
    "    #plt.clf()\n",
    "    Box_plt2=sns.boxplot(x=dead['Sexe'],y=dead['Age'],palette='YlGnBu')\n",
    "    Box_plt2.set(ylim=(20,120))\n",
    "    Box_plt2.set_title('Mortality year: ' + str(Year))\n",
    "    plt.savefig('./Box_plot2_' + str(Year) + '.png')  \n",
    "    plt.clf()\n",
    "    \n",
    "    return dead"
   ]
  },
  {
   "cell_type": "code",
   "execution_count": 221,
   "id": "4f0b0e97",
   "metadata": {},
   "outputs": [
    {
     "data": {
      "text/plain": [
       "<Figure size 432x288 with 0 Axes>"
      ]
     },
     "metadata": {},
     "output_type": "display_data"
    }
   ],
   "source": [
    "for i in np.arange(1970,2022,5):\n",
    "    plot_mortality_year(i)\n"
   ]
  },
  {
   "cell_type": "code",
   "execution_count": 222,
   "id": "16320109",
   "metadata": {},
   "outputs": [
    {
     "data": {
      "text/plain": [
       "First                       0\n",
       "Last                        0\n",
       "Sexe                        0\n",
       "DOB                         8\n",
       "CodeLieuxNaissance          0\n",
       "AdressseNaissance        5385\n",
       "Etranger              4377464\n",
       "DOD                         0\n",
       "CodeLieuDeces             282\n",
       "ActeDecesNumber          2920\n",
       "Age                         8\n",
       "dtype: int64"
      ]
     },
     "execution_count": 222,
     "metadata": {},
     "output_type": "execute_result"
    }
   ],
   "source": [
    "#df.drop('New',axis=1,inplace=True)\n",
    "#ans7a_ = ans6a.isnull().sum()\n",
    "All_deads.isnull().sum()"
   ]
  },
  {
   "cell_type": "code",
   "execution_count": 303,
   "id": "9156fdf8",
   "metadata": {},
   "outputs": [
    {
     "data": {
      "text/plain": [
       "Int64Index([1971, 1971, 1971, 1971, 1971, 1971, 1971, 1971, 1971, 1971,\n",
       "            ...\n",
       "            2020, 2020, 2020, 2020, 2020, 2020, 2020, 2020, 2020, 2020],\n",
       "           dtype='int64', name='DOD', length=10488)"
      ]
     },
     "execution_count": 303,
     "metadata": {},
     "output_type": "execute_result"
    }
   ],
   "source": [
    "EXP=pd.pivot_table(All_deads,index=\"DOD\",values=\"Age\",aggfunc=np.mean)\n",
    "EXP=EXP[EXP.index.year>1970]\n",
    "EXP.index.year"
   ]
  },
  {
   "cell_type": "code",
   "execution_count": 304,
   "id": "1d7851ca",
   "metadata": {},
   "outputs": [
    {
     "data": {
      "text/plain": [
       "<AxesSubplot:xlabel='DOD', ylabel='Age'>"
      ]
     },
     "execution_count": 304,
     "metadata": {},
     "output_type": "execute_result"
    },
    {
     "data": {
      "image/png": "[encoded data removed]",
      "text/plain": [
       "<Figure size 432x288 with 1 Axes>"
      ]
     },
     "metadata": {
      "needs_background": "light"
     },
     "output_type": "display_data"
    }
   ],
   "source": [
    "sns.barplot(x=EXP.index.year,y=EXP['Age'])"
   ]
  },
  {
   "cell_type": "code",
   "execution_count": 307,
   "id": "2d4d2adb",
   "metadata": {},
   "outputs": [],
   "source": [
    "ALL_FILTERED=All_deads[All_deads['DOD'].dt.year>1970]"
   ]
  },
  {
   "cell_type": "code",
   "execution_count": 314,
   "id": "63a6dbec",
   "metadata": {},
   "outputs": [
    {
     "data": {
      "text/plain": [
       "<seaborn.axisgrid.JointGrid at 0x2bbe4572d60>"
      ]
     },
     "execution_count": 314,
     "metadata": {},
     "output_type": "execute_result"
    },
    {
     "data": {
      "image/png": "[encoded data removed]",
      "text/plain": [
       "<Figure size 432x432 with 3 Axes>"
      ]
     },
     "metadata": {
      "needs_background": "light"
     },
     "output_type": "display_data"
    }
   ],
   "source": [
    "sns.jointplot(x='DOD',y='Age',data=ALL_FILTERED, kind='kde',shade=True,cmap='YlGnBu')"
   ]
  },
  {
   "cell_type": "code",
   "execution_count": 213,
   "id": "143ef629",
   "metadata": {},
   "outputs": [
    {
     "name": "stdout",
     "output_type": "stream",
     "text": [
      "2018\n",
      "2019\n",
      "2020\n",
      "2021\n"
     ]
    },
    {
     "data": {
      "text/html": [
       "<div>\n",
       "<style scoped>\n",
       "    .dataframe tbody tr th:only-of-type {\n",
       "        vertical-align: middle;\n",
       "    }\n",
       "\n",
       "    .dataframe tbody tr th {\n",
       "        vertical-align: top;\n",
       "    }\n",
       "\n",
       "    .dataframe thead th {\n",
       "        text-align: right;\n",
       "    }\n",
       "</style>\n",
       "<table border=\"1\" class=\"dataframe\">\n",
       "  <thead>\n",
       "    <tr style=\"text-align: right;\">\n",
       "      <th></th>\n",
       "      <th>First</th>\n",
       "      <th>Last</th>\n",
       "      <th>Sexe</th>\n",
       "      <th>DOB</th>\n",
       "      <th>CodeLieuxNaissance</th>\n",
       "      <th>AdressseNaissance</th>\n",
       "      <th>Etranger</th>\n",
       "      <th>DOD</th>\n",
       "      <th>CodeLieuDeces</th>\n",
       "      <th>Age</th>\n",
       "      <th>DEP_B</th>\n",
       "    </tr>\n",
       "  </thead>\n",
       "  <tbody>\n",
       "    <tr>\n",
       "      <th>0</th>\n",
       "      <td>SIMONE PERINA</td>\n",
       "      <td>BONNEVIE</td>\n",
       "      <td>2</td>\n",
       "      <td>1924-07-28</td>\n",
       "      <td>69386</td>\n",
       "      <td>LYON 6E  ARRONDISSEMENT</td>\n",
       "      <td>NaN</td>\n",
       "      <td>2018-01-16</td>\n",
       "      <td>1004</td>\n",
       "      <td>93.472145</td>\n",
       "      <td>69</td>\n",
       "    </tr>\n",
       "    <tr>\n",
       "      <th>1</th>\n",
       "      <td>THERESE</td>\n",
       "      <td>FOREST</td>\n",
       "      <td>2</td>\n",
       "      <td>1927-01-19</td>\n",
       "      <td>69382</td>\n",
       "      <td>LYON 2E  ARRONDISSEMENT</td>\n",
       "      <td>NaN</td>\n",
       "      <td>2018-01-18</td>\n",
       "      <td>1004</td>\n",
       "      <td>90.999815</td>\n",
       "      <td>69</td>\n",
       "    </tr>\n",
       "    <tr>\n",
       "      <th>2</th>\n",
       "      <td>JEAN MARIE NOEL CANDIDE</td>\n",
       "      <td>PERNET</td>\n",
       "      <td>1</td>\n",
       "      <td>1938-12-10</td>\n",
       "      <td>1269</td>\n",
       "      <td>NANTUA</td>\n",
       "      <td>NaN</td>\n",
       "      <td>2018-01-23</td>\n",
       "      <td>1004</td>\n",
       "      <td>79.122775</td>\n",
       "      <td>1</td>\n",
       "    </tr>\n",
       "    <tr>\n",
       "      <th>3</th>\n",
       "      <td>BLANCHE</td>\n",
       "      <td>PERRIN</td>\n",
       "      <td>2</td>\n",
       "      <td>1923-02-26</td>\n",
       "      <td>69387</td>\n",
       "      <td>LYON 7E  ARRONDISSEMENT</td>\n",
       "      <td>NaN</td>\n",
       "      <td>2018-01-20</td>\n",
       "      <td>1004</td>\n",
       "      <td>94.901333</td>\n",
       "      <td>69</td>\n",
       "    </tr>\n",
       "    <tr>\n",
       "      <th>4</th>\n",
       "      <td>SUZANNE MARIE GEORGETTE</td>\n",
       "      <td>CHRISTIN</td>\n",
       "      <td>2</td>\n",
       "      <td>1933-10-08</td>\n",
       "      <td>1411</td>\n",
       "      <td>SOUCLIN</td>\n",
       "      <td>NaN</td>\n",
       "      <td>2017-05-14</td>\n",
       "      <td>1004</td>\n",
       "      <td>83.599253</td>\n",
       "      <td>1</td>\n",
       "    </tr>\n",
       "  </tbody>\n",
       "</table>\n",
       "</div>"
      ],
      "text/plain": [
       "                     First      Last  Sexe        DOB  CodeLieuxNaissance  \\\n",
       "0            SIMONE PERINA  BONNEVIE     2 1924-07-28               69386   \n",
       "1                  THERESE    FOREST     2 1927-01-19               69382   \n",
       "2  JEAN MARIE NOEL CANDIDE    PERNET     1 1938-12-10                1269   \n",
       "3                  BLANCHE    PERRIN     2 1923-02-26               69387   \n",
       "4  SUZANNE MARIE GEORGETTE  CHRISTIN     2 1933-10-08                1411   \n",
       "\n",
       "         AdressseNaissance Etranger        DOD  CodeLieuDeces        Age  \\\n",
       "0  LYON 6E  ARRONDISSEMENT      NaN 2018-01-16           1004  93.472145   \n",
       "1  LYON 2E  ARRONDISSEMENT      NaN 2018-01-18           1004  90.999815   \n",
       "2                   NANTUA      NaN 2018-01-23           1004  79.122775   \n",
       "3  LYON 7E  ARRONDISSEMENT      NaN 2018-01-20           1004  94.901333   \n",
       "4                  SOUCLIN      NaN 2017-05-14           1004  83.599253   \n",
       "\n",
       "   DEP_B  \n",
       "0     69  \n",
       "1     69  \n",
       "2      1  \n",
       "3     69  \n",
       "4      1  "
      ]
     },
     "execution_count": 213,
     "metadata": {},
     "output_type": "execute_result"
    }
   ],
   "source": [
    "COVID = pd.DataFrame()\n",
    "for i in np.arange(2018,2022,1):\n",
    "    print(i)\n",
    "    COVID=pd.concat([COVID,add_new_year(i)]).reset_index(drop=True)\n",
    "COVID.head()"
   ]
  },
  {
   "cell_type": "code",
   "execution_count": 214,
   "id": "4a371125",
   "metadata": {},
   "outputs": [],
   "source": [
    "COVID.drop(columns=['First','Last','AdressseNaissance'], axis=1 ,inplace=True)"
   ]
  },
  {
   "cell_type": "code",
   "execution_count": 215,
   "id": "57f9708c",
   "metadata": {},
   "outputs": [
    {
     "data": {
      "text/html": [
       "<div>\n",
       "<style scoped>\n",
       "    .dataframe tbody tr th:only-of-type {\n",
       "        vertical-align: middle;\n",
       "    }\n",
       "\n",
       "    .dataframe tbody tr th {\n",
       "        vertical-align: top;\n",
       "    }\n",
       "\n",
       "    .dataframe thead th {\n",
       "        text-align: right;\n",
       "    }\n",
       "</style>\n",
       "<table border=\"1\" class=\"dataframe\">\n",
       "  <thead>\n",
       "    <tr style=\"text-align: right;\">\n",
       "      <th></th>\n",
       "      <th>Sexe</th>\n",
       "      <th>DOB</th>\n",
       "      <th>CodeLieuxNaissance</th>\n",
       "      <th>Etranger</th>\n",
       "      <th>DOD</th>\n",
       "      <th>CodeLieuDeces</th>\n",
       "      <th>Age</th>\n",
       "      <th>DEP_B</th>\n",
       "    </tr>\n",
       "  </thead>\n",
       "  <tbody>\n",
       "    <tr>\n",
       "      <th>0</th>\n",
       "      <td>2</td>\n",
       "      <td>1924-07-28</td>\n",
       "      <td>69386</td>\n",
       "      <td>NaN</td>\n",
       "      <td>2018-01-16</td>\n",
       "      <td>1004</td>\n",
       "      <td>93.472145</td>\n",
       "      <td>69</td>\n",
       "    </tr>\n",
       "    <tr>\n",
       "      <th>1</th>\n",
       "      <td>2</td>\n",
       "      <td>1927-01-19</td>\n",
       "      <td>69382</td>\n",
       "      <td>NaN</td>\n",
       "      <td>2018-01-18</td>\n",
       "      <td>1004</td>\n",
       "      <td>90.999815</td>\n",
       "      <td>69</td>\n",
       "    </tr>\n",
       "    <tr>\n",
       "      <th>2</th>\n",
       "      <td>1</td>\n",
       "      <td>1938-12-10</td>\n",
       "      <td>1269</td>\n",
       "      <td>NaN</td>\n",
       "      <td>2018-01-23</td>\n",
       "      <td>1004</td>\n",
       "      <td>79.122775</td>\n",
       "      <td>1</td>\n",
       "    </tr>\n",
       "    <tr>\n",
       "      <th>3</th>\n",
       "      <td>2</td>\n",
       "      <td>1923-02-26</td>\n",
       "      <td>69387</td>\n",
       "      <td>NaN</td>\n",
       "      <td>2018-01-20</td>\n",
       "      <td>1004</td>\n",
       "      <td>94.901333</td>\n",
       "      <td>69</td>\n",
       "    </tr>\n",
       "    <tr>\n",
       "      <th>4</th>\n",
       "      <td>2</td>\n",
       "      <td>1933-10-08</td>\n",
       "      <td>1411</td>\n",
       "      <td>NaN</td>\n",
       "      <td>2017-05-14</td>\n",
       "      <td>1004</td>\n",
       "      <td>83.599253</td>\n",
       "      <td>1</td>\n",
       "    </tr>\n",
       "    <tr>\n",
       "      <th>...</th>\n",
       "      <td>...</td>\n",
       "      <td>...</td>\n",
       "      <td>...</td>\n",
       "      <td>...</td>\n",
       "      <td>...</td>\n",
       "      <td>...</td>\n",
       "      <td>...</td>\n",
       "      <td>...</td>\n",
       "    </tr>\n",
       "    <tr>\n",
       "      <th>2593953</th>\n",
       "      <td>1</td>\n",
       "      <td>1958-09-10</td>\n",
       "      <td>99330</td>\n",
       "      <td>GUINEE</td>\n",
       "      <td>2021-12-06</td>\n",
       "      <td>99330</td>\n",
       "      <td>63.240176</td>\n",
       "      <td>99</td>\n",
       "    </tr>\n",
       "    <tr>\n",
       "      <th>2593954</th>\n",
       "      <td>1</td>\n",
       "      <td>1946-12-31</td>\n",
       "      <td>99350</td>\n",
       "      <td>MAROC</td>\n",
       "      <td>2021-09-05</td>\n",
       "      <td>99350</td>\n",
       "      <td>74.681889</td>\n",
       "      <td>99</td>\n",
       "    </tr>\n",
       "    <tr>\n",
       "      <th>2593955</th>\n",
       "      <td>1</td>\n",
       "      <td>1946-07-01</td>\n",
       "      <td>75075</td>\n",
       "      <td>NaN</td>\n",
       "      <td>2021-11-28</td>\n",
       "      <td>99217</td>\n",
       "      <td>75.412911</td>\n",
       "      <td>75</td>\n",
       "    </tr>\n",
       "    <tr>\n",
       "      <th>2593956</th>\n",
       "      <td>1</td>\n",
       "      <td>1977-06-28</td>\n",
       "      <td>77055</td>\n",
       "      <td>NaN</td>\n",
       "      <td>2021-09-02</td>\n",
       "      <td>99327</td>\n",
       "      <td>44.181605</td>\n",
       "      <td>77</td>\n",
       "    </tr>\n",
       "    <tr>\n",
       "      <th>2593957</th>\n",
       "      <td>2</td>\n",
       "      <td>1936-11-29</td>\n",
       "      <td>99223</td>\n",
       "      <td>INDE</td>\n",
       "      <td>2021-11-19</td>\n",
       "      <td>99223</td>\n",
       "      <td>84.973682</td>\n",
       "      <td>99</td>\n",
       "    </tr>\n",
       "  </tbody>\n",
       "</table>\n",
       "<p>2593958 rows × 8 columns</p>\n",
       "</div>"
      ],
      "text/plain": [
       "         Sexe        DOB  CodeLieuxNaissance Etranger        DOD  \\\n",
       "0           2 1924-07-28               69386      NaN 2018-01-16   \n",
       "1           2 1927-01-19               69382      NaN 2018-01-18   \n",
       "2           1 1938-12-10                1269      NaN 2018-01-23   \n",
       "3           2 1923-02-26               69387      NaN 2018-01-20   \n",
       "4           2 1933-10-08                1411      NaN 2017-05-14   \n",
       "...       ...        ...                 ...      ...        ...   \n",
       "2593953     1 1958-09-10               99330   GUINEE 2021-12-06   \n",
       "2593954     1 1946-12-31               99350    MAROC 2021-09-05   \n",
       "2593955     1 1946-07-01               75075      NaN 2021-11-28   \n",
       "2593956     1 1977-06-28               77055      NaN 2021-09-02   \n",
       "2593957     2 1936-11-29               99223     INDE 2021-11-19   \n",
       "\n",
       "         CodeLieuDeces        Age  DEP_B  \n",
       "0                 1004  93.472145     69  \n",
       "1                 1004  90.999815     69  \n",
       "2                 1004  79.122775      1  \n",
       "3                 1004  94.901333     69  \n",
       "4                 1004  83.599253      1  \n",
       "...                ...        ...    ...  \n",
       "2593953          99330  63.240176     99  \n",
       "2593954          99350  74.681889     99  \n",
       "2593955          99217  75.412911     75  \n",
       "2593956          99327  44.181605     77  \n",
       "2593957          99223  84.973682     99  \n",
       "\n",
       "[2593958 rows x 8 columns]"
      ]
     },
     "execution_count": 215,
     "metadata": {},
     "output_type": "execute_result"
    }
   ],
   "source": [
    "COVID"
   ]
  },
  {
   "cell_type": "code",
   "execution_count": 216,
   "id": "a3672c1e",
   "metadata": {},
   "outputs": [],
   "source": [
    "Month=COVID['DOD'].dt.month.value_counts()"
   ]
  },
  {
   "cell_type": "code",
   "execution_count": 218,
   "id": "567b91c6",
   "metadata": {},
   "outputs": [
    {
     "data": {
      "text/plain": [
       "(array([1., 2., 2., 0., 1., 1., 2., 0., 1., 2.]),\n",
       " array([186691. , 192805.8, 198920.6, 205035.4, 211150.2, 217265. ,\n",
       "        223379.8, 229494.6, 235609.4, 241724.2, 247839. ]),\n",
       " <BarContainer object of 10 artists>)"
      ]
     },
     "execution_count": 218,
     "metadata": {},
     "output_type": "execute_result"
    },
    {
     "data": {
      "image/png": "[encoded data removed]",
      "text/plain": [
       "<Figure size 432x288 with 1 Axes>"
      ]
     },
     "metadata": {
      "needs_background": "light"
     },
     "output_type": "display_data"
    }
   ],
   "source": [
    "plt.hist(Month)"
   ]
  },
  {
   "cell_type": "code",
   "execution_count": 219,
   "id": "ff69acd5",
   "metadata": {},
   "outputs": [],
   "source": [
    "Month_2=pd.pivot_table(COVID,index=\"DOD\",values=\"Age\",aggfunc=np.mean)"
   ]
  },
  {
   "cell_type": "code",
   "execution_count": 220,
   "id": "d7aba79b",
   "metadata": {},
   "outputs": [
    {
     "data": {
      "text/html": [
       "<div>\n",
       "<style scoped>\n",
       "    .dataframe tbody tr th:only-of-type {\n",
       "        vertical-align: middle;\n",
       "    }\n",
       "\n",
       "    .dataframe tbody tr th {\n",
       "        vertical-align: top;\n",
       "    }\n",
       "\n",
       "    .dataframe thead th {\n",
       "        text-align: right;\n",
       "    }\n",
       "</style>\n",
       "<table border=\"1\" class=\"dataframe\">\n",
       "  <thead>\n",
       "    <tr style=\"text-align: right;\">\n",
       "      <th></th>\n",
       "      <th>Age</th>\n",
       "    </tr>\n",
       "    <tr>\n",
       "      <th>DOD</th>\n",
       "      <th></th>\n",
       "    </tr>\n",
       "  </thead>\n",
       "  <tbody>\n",
       "    <tr>\n",
       "      <th>1900-02-12</th>\n",
       "      <td>0.106778</td>\n",
       "    </tr>\n",
       "    <tr>\n",
       "      <th>1900-02-28</th>\n",
       "      <td>0.062972</td>\n",
       "    </tr>\n",
       "    <tr>\n",
       "      <th>1900-03-10</th>\n",
       "      <td>0.002738</td>\n",
       "    </tr>\n",
       "    <tr>\n",
       "      <th>1900-03-18</th>\n",
       "      <td>0.123206</td>\n",
       "    </tr>\n",
       "    <tr>\n",
       "      <th>1900-03-29</th>\n",
       "      <td>0.024641</td>\n",
       "    </tr>\n",
       "    <tr>\n",
       "      <th>...</th>\n",
       "      <td>...</td>\n",
       "    </tr>\n",
       "    <tr>\n",
       "      <th>2021-12-26</th>\n",
       "      <td>80.854427</td>\n",
       "    </tr>\n",
       "    <tr>\n",
       "      <th>2021-12-27</th>\n",
       "      <td>80.690762</td>\n",
       "    </tr>\n",
       "    <tr>\n",
       "      <th>2021-12-28</th>\n",
       "      <td>81.874309</td>\n",
       "    </tr>\n",
       "    <tr>\n",
       "      <th>2021-12-29</th>\n",
       "      <td>81.738939</td>\n",
       "    </tr>\n",
       "    <tr>\n",
       "      <th>2021-12-30</th>\n",
       "      <td>80.953221</td>\n",
       "    </tr>\n",
       "  </tbody>\n",
       "</table>\n",
       "<p>4572 rows × 1 columns</p>\n",
       "</div>"
      ],
      "text/plain": [
       "                  Age\n",
       "DOD                  \n",
       "1900-02-12   0.106778\n",
       "1900-02-28   0.062972\n",
       "1900-03-10   0.002738\n",
       "1900-03-18   0.123206\n",
       "1900-03-29   0.024641\n",
       "...               ...\n",
       "2021-12-26  80.854427\n",
       "2021-12-27  80.690762\n",
       "2021-12-28  81.874309\n",
       "2021-12-29  81.738939\n",
       "2021-12-30  80.953221\n",
       "\n",
       "[4572 rows x 1 columns]"
      ]
     },
     "execution_count": 220,
     "metadata": {},
     "output_type": "execute_result"
    }
   ],
   "source": [
    "Month_2"
   ]
  },
  {
   "cell_type": "code",
   "execution_count": 221,
   "id": "0e34d6ed",
   "metadata": {},
   "outputs": [],
   "source": [
    "Year=ALL_FILTERED"
   ]
  },
  {
   "cell_type": "code",
   "execution_count": 222,
   "id": "3b99bbc5",
   "metadata": {},
   "outputs": [],
   "source": [
    "Year['DOD']=Year['DOD'].dt.year"
   ]
  },
  {
   "cell_type": "code",
   "execution_count": 329,
   "id": "79344b3c",
   "metadata": {},
   "outputs": [
    {
     "data": {
      "text/html": [
       "<div>\n",
       "<style scoped>\n",
       "    .dataframe tbody tr th:only-of-type {\n",
       "        vertical-align: middle;\n",
       "    }\n",
       "\n",
       "    .dataframe tbody tr th {\n",
       "        vertical-align: top;\n",
       "    }\n",
       "\n",
       "    .dataframe thead tr th {\n",
       "        text-align: left;\n",
       "    }\n",
       "\n",
       "    .dataframe thead tr:last-of-type th {\n",
       "        text-align: right;\n",
       "    }\n",
       "</style>\n",
       "<table border=\"1\" class=\"dataframe\">\n",
       "  <thead>\n",
       "    <tr>\n",
       "      <th></th>\n",
       "      <th></th>\n",
       "      <th>mean</th>\n",
       "      <th>amax</th>\n",
       "    </tr>\n",
       "    <tr>\n",
       "      <th></th>\n",
       "      <th></th>\n",
       "      <th>Age</th>\n",
       "      <th>Age</th>\n",
       "    </tr>\n",
       "    <tr>\n",
       "      <th>Sexe</th>\n",
       "      <th>DOD</th>\n",
       "      <th></th>\n",
       "      <th></th>\n",
       "    </tr>\n",
       "  </thead>\n",
       "  <tbody>\n",
       "    <tr>\n",
       "      <th rowspan=\"5\" valign=\"top\">1</th>\n",
       "      <th>1971</th>\n",
       "      <td>55.581986</td>\n",
       "      <td>86.320732</td>\n",
       "    </tr>\n",
       "    <tr>\n",
       "      <th>1972</th>\n",
       "      <td>56.568735</td>\n",
       "      <td>90.460448</td>\n",
       "    </tr>\n",
       "    <tr>\n",
       "      <th>1973</th>\n",
       "      <td>61.807105</td>\n",
       "      <td>91.221586</td>\n",
       "    </tr>\n",
       "    <tr>\n",
       "      <th>1974</th>\n",
       "      <td>51.624044</td>\n",
       "      <td>90.356407</td>\n",
       "    </tr>\n",
       "    <tr>\n",
       "      <th>1975</th>\n",
       "      <td>63.636757</td>\n",
       "      <td>95.191551</td>\n",
       "    </tr>\n",
       "    <tr>\n",
       "      <th>...</th>\n",
       "      <th>...</th>\n",
       "      <td>...</td>\n",
       "      <td>...</td>\n",
       "    </tr>\n",
       "    <tr>\n",
       "      <th rowspan=\"5\" valign=\"top\">2</th>\n",
       "      <th>2017</th>\n",
       "      <td>82.808914</td>\n",
       "      <td>117.209799</td>\n",
       "    </tr>\n",
       "    <tr>\n",
       "      <th>2018</th>\n",
       "      <td>82.189266</td>\n",
       "      <td>111.309609</td>\n",
       "    </tr>\n",
       "    <tr>\n",
       "      <th>2019</th>\n",
       "      <td>83.051078</td>\n",
       "      <td>114.521174</td>\n",
       "    </tr>\n",
       "    <tr>\n",
       "      <th>2020</th>\n",
       "      <td>82.715434</td>\n",
       "      <td>110.767504</td>\n",
       "    </tr>\n",
       "    <tr>\n",
       "      <th>2021</th>\n",
       "      <td>83.182829</td>\n",
       "      <td>125.415306</td>\n",
       "    </tr>\n",
       "  </tbody>\n",
       "</table>\n",
       "<p>102 rows × 2 columns</p>\n",
       "</div>"
      ],
      "text/plain": [
       "                mean        amax\n",
       "                 Age         Age\n",
       "Sexe DOD                        \n",
       "1    1971  55.581986   86.320732\n",
       "     1972  56.568735   90.460448\n",
       "     1973  61.807105   91.221586\n",
       "     1974  51.624044   90.356407\n",
       "     1975  63.636757   95.191551\n",
       "...              ...         ...\n",
       "2    2017  82.808914  117.209799\n",
       "     2018  82.189266  111.309609\n",
       "     2019  83.051078  114.521174\n",
       "     2020  82.715434  110.767504\n",
       "     2021  83.182829  125.415306\n",
       "\n",
       "[102 rows x 2 columns]"
      ]
     },
     "execution_count": 329,
     "metadata": {},
     "output_type": "execute_result"
    }
   ],
   "source": [
    "Year2=pd.pivot_table(Year,index=['Sexe','DOD'],values='Age',aggfunc=[np.mean,np.max])\n",
    "Year2"
   ]
  },
  {
   "cell_type": "code",
   "execution_count": 330,
   "id": "a7813593",
   "metadata": {},
   "outputs": [],
   "source": [
    "#Year2=pd.pivot_table(Year,index=['Sexe','DOD'],values='Age',aggfunc=[np.mean,np.max])\n",
    "#Year2\n",
    "\n",
    "X=Year2.loc[(2,slice(None)),('mean','Age')]\n",
    "ttt=pd.DataFrame(X)\n",
    "\n",
    "#plt.plot(X)\n",
    "#plt.plot(Year2.loc[(2,slice(None)),('mean','Age')])\n",
    "\n",
    "#plt.plot(Year2.loc[(1,slice(None)),('amax','Age')])\n",
    "#plt.plot(Year2.loc[(2,slice(None)),('amax','Age')])\n",
    "\n",
    "#plt.ylim(20,130)"
   ]
  },
  {
   "cell_type": "code",
   "execution_count": null,
   "id": "cc3eb7e4",
   "metadata": {},
   "outputs": [],
   "source": []
  },
  {
   "cell_type": "code",
   "execution_count": 355,
   "id": "d1d8d2d2",
   "metadata": {},
   "outputs": [],
   "source": [
    "Kem=pd.pivot_table(Year[Year['Sexe']==1],index='DOD',values='Age',aggfunc=[np.mean,np.max])\n",
    "Meuf=pd.pivot_table(Year[Year['Sexe']==2],index='DOD',values='Age',aggfunc=[np.mean,np.max])"
   ]
  },
  {
   "cell_type": "code",
   "execution_count": 357,
   "id": "8a645aca",
   "metadata": {},
   "outputs": [
    {
     "data": {
      "text/plain": [
       "array([ 95.85960013,  85.67732397,  92.98753568,  97.13272689,\n",
       "        94.27982779,  96.29492734, 102.71805718,  96.33052013,\n",
       "       100.70843344, 101.58182577, 101.37374484,  99.48732691,\n",
       "       102.2964195 , 101.39291019, 103.36694114, 108.00495561,\n",
       "       110.39514843,  99.75837971, 109.13844911, 121.96554344,\n",
       "       112.69225241, 109.75447819, 114.92364662, 107.96388701,\n",
       "       118.18996968, 109.00155376, 122.45015298, 112.35001403,\n",
       "       120.10102877, 109.34653005, 115.11530011, 107.57510421,\n",
       "       115.12898964, 107.85984654, 114.47189196, 114.46915406,\n",
       "       117.18789571, 116.28986221, 119.33715271, 114.71556569,\n",
       "       113.39863242, 111.29044402, 122.57062089, 110.64429797,\n",
       "       121.2865425 , 109.25344121, 117.20979897, 111.30960937,\n",
       "       114.52117429, 110.76750378, 125.41530627])"
      ]
     },
     "execution_count": 357,
     "metadata": {},
     "output_type": "execute_result"
    }
   ],
   "source": [
    "Meuf.values[:,1]"
   ]
  },
  {
   "cell_type": "code",
   "execution_count": 359,
   "id": "7f5701d6",
   "metadata": {},
   "outputs": [
    {
     "data": {
      "text/plain": [
       "[<matplotlib.lines.Line2D at 0x1c028438af0>]"
      ]
     },
     "execution_count": 359,
     "metadata": {},
     "output_type": "execute_result"
    },
    {
     "data": {
      "image/png": "[encoded data removed]",
      "text/plain": [
       "<Figure size 432x288 with 1 Axes>"
      ]
     },
     "metadata": {
      "needs_background": "light"
     },
     "output_type": "display_data"
    }
   ],
   "source": [
    "plt.plot(Meuf.values[:,0])\n",
    "plt.plot(Kem.values[:,0])\n",
    "plt.plot(Meuf.values[:,1])\n",
    "plt.plot(Kem.values[:,1])"
   ]
  },
  {
   "cell_type": "code",
   "execution_count": 378,
   "id": "8c9366ef",
   "metadata": {},
   "outputs": [
    {
     "ename": "SyntaxError",
     "evalue": "positional argument follows keyword argument (Temp/ipykernel_8872/3795673436.py, line 1)",
     "output_type": "error",
     "traceback": [
      "\u001b[1;36m  File \u001b[1;32m\"C:\\Users\\cni4\\AppData\\Local\\Temp/ipykernel_8872/3795673436.py\"\u001b[1;36m, line \u001b[1;32m1\u001b[0m\n\u001b[1;33m    sns.scatterplot(x=Kem.index,y=Kem.values[:,0],'-')\u001b[0m\n\u001b[1;37m                                                     ^\u001b[0m\n\u001b[1;31mSyntaxError\u001b[0m\u001b[1;31m:\u001b[0m positional argument follows keyword argument\n"
     ]
    }
   ],
   "source": [
    "sns.scatterplot(x=Kem.index,y=Kem.values[:,0],'-')\n",
    "sns.scatterplot(x=Kem.index,y=Kem.values[:,1])\n",
    "sns.scatterplot(x=Meuf.index,y=Meuf.values[:,0])\n",
    "sns.scatterplot(x=Meuf.index,y=Meuf.values[:,1])"
   ]
  },
  {
   "cell_type": "code",
   "execution_count": 377,
   "id": "f7dbe4c4",
   "metadata": {},
   "outputs": [
    {
     "data": {
      "image/png": "[encoded data removed]",
      "text/plain": [
       "<Figure size 432x288 with 1 Axes>"
      ]
     },
     "metadata": {
      "needs_background": "light"
     },
     "output_type": "display_data"
    }
   ],
   "source": [
    "x = Kem.index\n",
    "y = Kem.values[:,0]\n",
    "f = interp1d(x, y)\n",
    "f2 = interp1d(x, y, kind='cubic')\n",
    "xnew = np.linspace(1972, 2020, num=41, endpoint=True)\n",
    "plt.plot(x, y, '+', xnew, f(xnew), '-', xnew, f2(xnew), '--')\n",
    "plt.legend(['data', 'linear', 'cubic'], loc='best')\n",
    "plt.show()"
   ]
  },
  {
   "cell_type": "code",
   "execution_count": 384,
   "id": "df789845",
   "metadata": {},
   "outputs": [
    {
     "data": {
      "text/plain": [
       "0           1971\n",
       "1           1971\n",
       "2           1971\n",
       "3           1971\n",
       "4           1971\n",
       "            ... \n",
       "13348608    2021\n",
       "13348609    2021\n",
       "13348610    2021\n",
       "13348611    2021\n",
       "13348612    2021\n",
       "Name: DOD, Length: 13344285, dtype: int64"
      ]
     },
     "execution_count": 384,
     "metadata": {},
     "output_type": "execute_result"
    }
   ],
   "source": [
    "Month=ALL_FILTERED['DOD']\n",
    "Month"
   ]
  },
  {
   "cell_type": "code",
   "execution_count": null,
   "id": "eb09c31c",
   "metadata": {},
   "outputs": [],
   "source": [
    "sns.lineplot(data=flights, x=\"year\", y=\"passengers\", hue=\"month\")"
   ]
  }
 ],
 "metadata": {
  "kernelspec": {
   "display_name": "Python 3 (ipykernel)",
   "language": "python",
   "name": "python3"
  },
  "language_info": {
   "codemirror_mode": {
    "name": "ipython",
    "version": 3
   },
   "file_extension": ".py",
   "mimetype": "text/x-python",
   "name": "python",
   "nbconvert_exporter": "python",
   "pygments_lexer": "ipython3",
   "version": "3.9.7"
  }
 },
 "nbformat": 4,
 "nbformat_minor": 5
}
