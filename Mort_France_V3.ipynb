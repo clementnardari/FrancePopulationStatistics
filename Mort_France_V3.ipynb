{
 "cells": [
  {
   "cell_type": "code",
   "execution_count": 3,
   "id": "73e404b8",
   "metadata": {},
   "outputs": [],
   "source": [
    "import numpy as np\n",
    "import matplotlib.pyplot as plt\n",
    "import pandas as pd\n",
    "import seaborn as sns\n",
    "pd.options.mode.chained_assignment = None  # default='warn'"
   ]
  },
  {
   "cell_type": "code",
   "execution_count": 237,
   "id": "0eb619f2",
   "metadata": {},
   "outputs": [],
   "source": [
    "def add_new_year(Year):\n",
    "    #DOB Filter empty year\n",
    "    dead = pd.read_fwf('./deces-' + str(Year) + '.txt',widths=(80,1,8,5,30,30,8,5),header=0,names=('NomPrenom','Sexe','DOB','CodeLieuxNaissance','AdressseNaissance','Etranger','DOD','CodeLieuDeces'), encoding= 'unicode_escape')\n",
    "    dead.drop(dead[dead['DOB']/10**7%10==0].index,inplace=True)\n",
    "    dead.drop(dead[dead['DOB']/10**6%10==0].index,inplace=True)    \n",
    "    #DOB Filter empty day and force 00 to 01\n",
    "    dead['DOB'] = np.where((dead['DOB']%10==0) & (dead['DOB']/10%10==0), dead['DOB'] + 1, dead['DOB'])\n",
    "    #DOB Filter empty month and force 00 to 01\n",
    "    dead['DOB'] = np.where((np.trunc(dead['DOB']/100%10)==0) & (np.trunc(dead['DOB']/1000%10)==0), dead['DOB'] + 100, dead['DOB'])\n",
    "    \n",
    "    #DOD Filter empty year\n",
    "    dead.drop(dead[dead['DOD']<19000101].index,inplace=True)\n",
    "    dead.drop(dead[dead['DOD']/10**7%10==0].index,inplace=True)\n",
    "    dead.drop(dead[dead['DOD']/10**6%10==0].index,inplace=True)    \n",
    "    #DOD Filter empty day and force 00 to 01\n",
    "    dead['DOD'] = np.where((dead['DOD']%10==0) & (dead['DOD']/10%10==0), dead['DOD'] + 1, dead['DOD'])\n",
    "    #DOD Filter empty month and force 00 to 01\n",
    "    dead['DOD'] = np.where((np.trunc(dead['DOD']/100%10)==0) & (np.trunc(dead['DOD']/1000%10)==0), dead['DOD'] + 100, dead['DOD'])\n",
    "    \n",
    "    #Remove '/' in Col 1\n",
    "    dead.iloc[:,0]=dead.iloc[:,0].str[:-1]\n",
    "    #Split Name * Col 1\n",
    "    dead[['Last','First']] = dead.NomPrenom.str.split(\"*\",expand=True)\n",
    "    dead.drop(columns='NomPrenom',inplace=True)\n",
    "    # shift column to first position\n",
    "    first = dead.pop('Last')\n",
    "    second = dead.pop('First')\n",
    "\n",
    "    dead.insert(0, 'Last', first)\n",
    "    dead.insert(0, 'First', second)\n",
    "    #Change format DOB, DOD\n",
    "    dead[\"DOB\"] = pd.to_datetime(dead[\"DOB\"], yearfirst=True, errors='coerce', dayfirst=False, format=\"%Y%m%d\")\n",
    "    dead[\"DOD\"] = pd.to_datetime(dead[\"DOD\"], yearfirst=True, dayfirst=False, format=\"%Y%m%d\")\n",
    "    dead[\"Age\"]= (dead[\"DOD\"] - dead[\"DOB\"])/np.timedelta64(1,'Y')\n",
    "    dead.drop(dead[dead['Age']>130].index,inplace=True)\n",
    "    dead.drop(dead[dead['Age']<=0].index,inplace=True)\n",
    "    #Departement Naissance\n",
    "    dead['DEP_B'] = np.trunc(dead['CodeLieuxNaissance']/1000)\n",
    "    dead=dead.astype({'DEP_B': 'int64'})\n",
    "    return dead"
   ]
  },
  {
   "cell_type": "code",
   "execution_count": 238,
   "id": "cb3f3db6",
   "metadata": {},
   "outputs": [],
   "source": [
    "dead=add_new_year(1978)"
   ]
  },
  {
   "cell_type": "code",
   "execution_count": 240,
   "id": "09af6ab3",
   "metadata": {},
   "outputs": [
    {
     "data": {
      "text/html": [
       "<div>\n",
       "<style scoped>\n",
       "    .dataframe tbody tr th:only-of-type {\n",
       "        vertical-align: middle;\n",
       "    }\n",
       "\n",
       "    .dataframe tbody tr th {\n",
       "        vertical-align: top;\n",
       "    }\n",
       "\n",
       "    .dataframe thead th {\n",
       "        text-align: right;\n",
       "    }\n",
       "</style>\n",
       "<table border=\"1\" class=\"dataframe\">\n",
       "  <thead>\n",
       "    <tr style=\"text-align: right;\">\n",
       "      <th></th>\n",
       "      <th>Sexe</th>\n",
       "      <th>CodeLieuxNaissance</th>\n",
       "      <th>Etranger</th>\n",
       "      <th>CodeLieuDeces</th>\n",
       "      <th>Age</th>\n",
       "      <th>DEP_B</th>\n",
       "    </tr>\n",
       "  </thead>\n",
       "  <tbody>\n",
       "    <tr>\n",
       "      <th>Sexe</th>\n",
       "      <td>1.000000</td>\n",
       "      <td>-0.004450</td>\n",
       "      <td>NaN</td>\n",
       "      <td>0.004912</td>\n",
       "      <td>0.185733</td>\n",
       "      <td>-0.004424</td>\n",
       "    </tr>\n",
       "    <tr>\n",
       "      <th>CodeLieuxNaissance</th>\n",
       "      <td>-0.004450</td>\n",
       "      <td>1.000000</td>\n",
       "      <td>NaN</td>\n",
       "      <td>0.571272</td>\n",
       "      <td>-0.045585</td>\n",
       "      <td>0.999974</td>\n",
       "    </tr>\n",
       "    <tr>\n",
       "      <th>Etranger</th>\n",
       "      <td>NaN</td>\n",
       "      <td>NaN</td>\n",
       "      <td>NaN</td>\n",
       "      <td>NaN</td>\n",
       "      <td>NaN</td>\n",
       "      <td>NaN</td>\n",
       "    </tr>\n",
       "    <tr>\n",
       "      <th>CodeLieuDeces</th>\n",
       "      <td>0.004912</td>\n",
       "      <td>0.571272</td>\n",
       "      <td>NaN</td>\n",
       "      <td>1.000000</td>\n",
       "      <td>-0.035448</td>\n",
       "      <td>0.571070</td>\n",
       "    </tr>\n",
       "    <tr>\n",
       "      <th>Age</th>\n",
       "      <td>0.185733</td>\n",
       "      <td>-0.045585</td>\n",
       "      <td>NaN</td>\n",
       "      <td>-0.035448</td>\n",
       "      <td>1.000000</td>\n",
       "      <td>-0.045514</td>\n",
       "    </tr>\n",
       "    <tr>\n",
       "      <th>DEP_B</th>\n",
       "      <td>-0.004424</td>\n",
       "      <td>0.999974</td>\n",
       "      <td>NaN</td>\n",
       "      <td>0.571070</td>\n",
       "      <td>-0.045514</td>\n",
       "      <td>1.000000</td>\n",
       "    </tr>\n",
       "  </tbody>\n",
       "</table>\n",
       "</div>"
      ],
      "text/plain": [
       "                        Sexe  CodeLieuxNaissance  Etranger  CodeLieuDeces  \\\n",
       "Sexe                1.000000           -0.004450       NaN       0.004912   \n",
       "CodeLieuxNaissance -0.004450            1.000000       NaN       0.571272   \n",
       "Etranger                 NaN                 NaN       NaN            NaN   \n",
       "CodeLieuDeces       0.004912            0.571272       NaN       1.000000   \n",
       "Age                 0.185733           -0.045585       NaN      -0.035448   \n",
       "DEP_B              -0.004424            0.999974       NaN       0.571070   \n",
       "\n",
       "                         Age     DEP_B  \n",
       "Sexe                0.185733 -0.004424  \n",
       "CodeLieuxNaissance -0.045585  0.999974  \n",
       "Etranger                 NaN       NaN  \n",
       "CodeLieuDeces      -0.035448  0.571070  \n",
       "Age                 1.000000 -0.045514  \n",
       "DEP_B              -0.045514  1.000000  "
      ]
     },
     "execution_count": 240,
     "metadata": {},
     "output_type": "execute_result"
    }
   ],
   "source": [
    "dead.corr()"
   ]
  },
  {
   "cell_type": "code",
   "execution_count": 239,
   "id": "f915d269",
   "metadata": {},
   "outputs": [
    {
     "data": {
      "text/html": [
       "<div>\n",
       "<style scoped>\n",
       "    .dataframe tbody tr th:only-of-type {\n",
       "        vertical-align: middle;\n",
       "    }\n",
       "\n",
       "    .dataframe tbody tr th {\n",
       "        vertical-align: top;\n",
       "    }\n",
       "\n",
       "    .dataframe thead th {\n",
       "        text-align: right;\n",
       "    }\n",
       "</style>\n",
       "<table border=\"1\" class=\"dataframe\">\n",
       "  <thead>\n",
       "    <tr style=\"text-align: right;\">\n",
       "      <th></th>\n",
       "      <th>Sexe</th>\n",
       "      <th>CodeLieuxNaissance</th>\n",
       "      <th>Etranger</th>\n",
       "      <th>CodeLieuDeces</th>\n",
       "      <th>Age</th>\n",
       "      <th>DEP_B</th>\n",
       "    </tr>\n",
       "  </thead>\n",
       "  <tbody>\n",
       "    <tr>\n",
       "      <th>count</th>\n",
       "      <td>420663.000000</td>\n",
       "      <td>420663.000000</td>\n",
       "      <td>0.0</td>\n",
       "      <td>420663.000000</td>\n",
       "      <td>420663.000000</td>\n",
       "      <td>420663.000000</td>\n",
       "    </tr>\n",
       "    <tr>\n",
       "      <th>mean</th>\n",
       "      <td>1.449783</td>\n",
       "      <td>50187.343715</td>\n",
       "      <td>NaN</td>\n",
       "      <td>52416.681757</td>\n",
       "      <td>68.295696</td>\n",
       "      <td>49.960248</td>\n",
       "    </tr>\n",
       "    <tr>\n",
       "      <th>std</th>\n",
       "      <td>0.497472</td>\n",
       "      <td>24460.198977</td>\n",
       "      <td>NaN</td>\n",
       "      <td>26268.234584</td>\n",
       "      <td>17.601814</td>\n",
       "      <td>24.453053</td>\n",
       "    </tr>\n",
       "    <tr>\n",
       "      <th>min</th>\n",
       "      <td>1.000000</td>\n",
       "      <td>1001.000000</td>\n",
       "      <td>NaN</td>\n",
       "      <td>0.000000</td>\n",
       "      <td>0.002738</td>\n",
       "      <td>1.000000</td>\n",
       "    </tr>\n",
       "    <tr>\n",
       "      <th>25%</th>\n",
       "      <td>1.000000</td>\n",
       "      <td>29232.000000</td>\n",
       "      <td>NaN</td>\n",
       "      <td>31483.000000</td>\n",
       "      <td>62.862345</td>\n",
       "      <td>29.000000</td>\n",
       "    </tr>\n",
       "    <tr>\n",
       "      <th>50%</th>\n",
       "      <td>1.000000</td>\n",
       "      <td>56127.000000</td>\n",
       "      <td>NaN</td>\n",
       "      <td>57463.000000</td>\n",
       "      <td>73.507327</td>\n",
       "      <td>56.000000</td>\n",
       "    </tr>\n",
       "    <tr>\n",
       "      <th>75%</th>\n",
       "      <td>2.000000</td>\n",
       "      <td>71547.000000</td>\n",
       "      <td>NaN</td>\n",
       "      <td>75110.000000</td>\n",
       "      <td>80.212462</td>\n",
       "      <td>71.000000</td>\n",
       "    </tr>\n",
       "    <tr>\n",
       "      <th>max</th>\n",
       "      <td>2.000000</td>\n",
       "      <td>95680.000000</td>\n",
       "      <td>NaN</td>\n",
       "      <td>99999.000000</td>\n",
       "      <td>87.990855</td>\n",
       "      <td>95.000000</td>\n",
       "    </tr>\n",
       "  </tbody>\n",
       "</table>\n",
       "</div>"
      ],
      "text/plain": [
       "                Sexe  CodeLieuxNaissance  Etranger  CodeLieuDeces  \\\n",
       "count  420663.000000       420663.000000       0.0  420663.000000   \n",
       "mean        1.449783        50187.343715       NaN   52416.681757   \n",
       "std         0.497472        24460.198977       NaN   26268.234584   \n",
       "min         1.000000         1001.000000       NaN       0.000000   \n",
       "25%         1.000000        29232.000000       NaN   31483.000000   \n",
       "50%         1.000000        56127.000000       NaN   57463.000000   \n",
       "75%         2.000000        71547.000000       NaN   75110.000000   \n",
       "max         2.000000        95680.000000       NaN   99999.000000   \n",
       "\n",
       "                 Age          DEP_B  \n",
       "count  420663.000000  420663.000000  \n",
       "mean       68.295696      49.960248  \n",
       "std        17.601814      24.453053  \n",
       "min         0.002738       1.000000  \n",
       "25%        62.862345      29.000000  \n",
       "50%        73.507327      56.000000  \n",
       "75%        80.212462      71.000000  \n",
       "max        87.990855      95.000000  "
      ]
     },
     "execution_count": 239,
     "metadata": {},
     "output_type": "execute_result"
    }
   ],
   "source": [
    "dead.describe()"
   ]
  },
  {
   "cell_type": "code",
   "execution_count": 278,
   "id": "83bc0ce4",
   "metadata": {},
   "outputs": [
    {
     "data": {
      "text/plain": [
       "(50.0, 90.0)"
      ]
     },
     "execution_count": 278,
     "metadata": {},
     "output_type": "execute_result"
    },
    {
     "data": {
      "image/png": "[encoded data removed]",
      "text/plain": [
       "<Figure size 432x288 with 1 Axes>"
      ]
     },
     "metadata": {
      "needs_background": "light"
     },
     "output_type": "display_data"
    }
   ],
   "source": [
    "DEP=pd.pivot_table(dead,index=[\"Sexe\",\"DEP_B\"],values=[\"Age\"],aggfunc=[np.mean])\n",
    "\n",
    "DEP2=DEP['mean']\n",
    "DEP2\n",
    "DEP3=pd.pivot_table(dead,index=[\"DEP_B\"],columns='Sexe',values=[\"Age\"])\n",
    "plt.plot(DEP3)\n",
    "plt.legend([1,2])\n",
    "plt.xlim(0,98)\n",
    "plt.ylim(50,90)"
   ]
  },
  {
   "cell_type": "code",
   "execution_count": 80,
   "id": "25e77c11",
   "metadata": {},
   "outputs": [
    {
     "name": "stderr",
     "output_type": "stream",
     "text": [
      "C:\\ProgramData\\Anaconda3\\lib\\site-packages\\seaborn\\_decorators.py:36: FutureWarning: Pass the following variables as keyword args: x, y. From version 0.12, the only valid positional argument will be `data`, and passing other arguments without an explicit keyword will result in an error or misinterpretation.\n",
      "  warnings.warn(\n"
     ]
    },
    {
     "data": {
      "text/plain": [
       "0    61467\n",
       "6    60668\n",
       "5    60341\n",
       "1    60237\n",
       "2    59620\n",
       "4    59384\n",
       "3    58946\n",
       "Name: DOD, dtype: int64"
      ]
     },
     "execution_count": 80,
     "metadata": {},
     "output_type": "execute_result"
    },
    {
     "data": {
      "image/png": "[encoded data removed]",
      "text/plain": [
       "<Figure size 432x288 with 1 Axes>"
      ]
     },
     "metadata": {
      "needs_background": "light"
     },
     "output_type": "display_data"
    }
   ],
   "source": [
    "Day=dead['DOD'].dt.dayofweek.value_counts()\n",
    "sns.barplot(Day.index,Day.values)\n",
    "plt.gca().set_ylim(25000, 90000)\n",
    "Day"
   ]
  },
  {
   "cell_type": "code",
   "execution_count": 81,
   "id": "4479a992",
   "metadata": {},
   "outputs": [
    {
     "name": "stderr",
     "output_type": "stream",
     "text": [
      "C:\\ProgramData\\Anaconda3\\lib\\site-packages\\seaborn\\_decorators.py:36: FutureWarning: Pass the following variables as keyword args: x, y. From version 0.12, the only valid positional argument will be `data`, and passing other arguments without an explicit keyword will result in an error or misinterpretation.\n",
      "  warnings.warn(\n"
     ]
    },
    {
     "data": {
      "text/plain": [
       "2     38703\n",
       "1     38191\n",
       "12    38108\n",
       "3     37259\n",
       "10    35055\n",
       "5     34718\n",
       "4     34626\n",
       "11    34359\n",
       "7     34273\n",
       "6     32435\n",
       "8     31656\n",
       "9     31280\n",
       "Name: DOD, dtype: int64"
      ]
     },
     "execution_count": 81,
     "metadata": {},
     "output_type": "execute_result"
    },
    {
     "data": {
      "image/png": "[encoded data removed]",
      "text/plain": [
       "<Figure size 432x288 with 1 Axes>"
      ]
     },
     "metadata": {
      "needs_background": "light"
     },
     "output_type": "display_data"
    }
   ],
   "source": [
    "Day=dead['DOD'].dt.month.value_counts()\n",
    "sns.barplot(Day.index,Day.values)\n",
    "plt.gca().set_ylim(25000, 45000)\n",
    "Day"
   ]
  },
  {
   "cell_type": "code",
   "execution_count": 51,
   "id": "6a4214c1",
   "metadata": {},
   "outputs": [
    {
     "ename": "NameError",
     "evalue": "name 'dead_2021' is not defined",
     "output_type": "error",
     "traceback": [
      "\u001b[1;31m---------------------------------------------------------------------------\u001b[0m",
      "\u001b[1;31mNameError\u001b[0m                                 Traceback (most recent call last)",
      "\u001b[1;32m~\\AppData\\Local\\Temp/ipykernel_30304/2534865459.py\u001b[0m in \u001b[0;36m<module>\u001b[1;34m\u001b[0m\n\u001b[1;32m----> 1\u001b[1;33m \u001b[0mMeuf2021\u001b[0m\u001b[1;33m=\u001b[0m\u001b[0mdead_2021\u001b[0m\u001b[1;33m[\u001b[0m\u001b[0mdead_2021\u001b[0m\u001b[1;33m[\u001b[0m\u001b[1;34m'Sexe'\u001b[0m\u001b[1;33m]\u001b[0m\u001b[1;33m==\u001b[0m\u001b[1;36m2\u001b[0m\u001b[1;33m]\u001b[0m\u001b[1;33m\u001b[0m\u001b[1;33m\u001b[0m\u001b[0m\n\u001b[0m\u001b[0;32m      2\u001b[0m \u001b[0mKem2021\u001b[0m\u001b[1;33m=\u001b[0m\u001b[0mdead_2021\u001b[0m\u001b[1;33m[\u001b[0m\u001b[0mdead_2021\u001b[0m\u001b[1;33m[\u001b[0m\u001b[1;34m'Sexe'\u001b[0m\u001b[1;33m]\u001b[0m\u001b[1;33m==\u001b[0m\u001b[1;36m1\u001b[0m\u001b[1;33m]\u001b[0m\u001b[1;33m\u001b[0m\u001b[1;33m\u001b[0m\u001b[0m\n\u001b[0;32m      3\u001b[0m \u001b[1;33m\u001b[0m\u001b[0m\n\u001b[0;32m      4\u001b[0m \u001b[0msns\u001b[0m\u001b[1;33m.\u001b[0m\u001b[0mhistplot\u001b[0m\u001b[1;33m(\u001b[0m\u001b[0mMeuf2021\u001b[0m\u001b[1;33m[\u001b[0m\u001b[1;34m'Age'\u001b[0m\u001b[1;33m]\u001b[0m\u001b[1;33m,\u001b[0m\u001b[0mkde\u001b[0m\u001b[1;33m=\u001b[0m\u001b[1;32mTrue\u001b[0m\u001b[1;33m,\u001b[0m\u001b[0mcolor\u001b[0m\u001b[1;33m=\u001b[0m\u001b[1;34m\"y\"\u001b[0m\u001b[1;33m)\u001b[0m\u001b[1;33m\u001b[0m\u001b[1;33m\u001b[0m\u001b[0m\n\u001b[0;32m      5\u001b[0m \u001b[0msns\u001b[0m\u001b[1;33m.\u001b[0m\u001b[0mhistplot\u001b[0m\u001b[1;33m(\u001b[0m\u001b[0mKem2021\u001b[0m\u001b[1;33m[\u001b[0m\u001b[1;34m'Age'\u001b[0m\u001b[1;33m]\u001b[0m\u001b[1;33m,\u001b[0m\u001b[0mkde\u001b[0m\u001b[1;33m=\u001b[0m\u001b[1;32mTrue\u001b[0m\u001b[1;33m,\u001b[0m\u001b[0mcolor\u001b[0m\u001b[1;33m=\u001b[0m\u001b[1;34m\"r\"\u001b[0m\u001b[1;33m)\u001b[0m\u001b[1;33m\u001b[0m\u001b[1;33m\u001b[0m\u001b[0m\n",
      "\u001b[1;31mNameError\u001b[0m: name 'dead_2021' is not defined"
     ]
    }
   ],
   "source": [
    "Meuf2021=dead_2021[dead_2021['Sexe']==2]\n",
    "Kem2021=dead_2021[dead_2021['Sexe']==1]\n",
    "\n",
    "sns.histplot(Meuf2021['Age'],kde=True,color=\"y\")\n",
    "sns.histplot(Kem2021['Age'],kde=True,color=\"r\")\n",
    "\n",
    "Meuf1975=dead_1975[dead_1975['Sexe']==2]\n",
    "Kem1975=dead_1975[dead_1975['Sexe']==1]\n",
    "\n",
    "sns.histplot(Meuf1975['Age'],kde=True,color=\"g\")\n",
    "sns.histplot(Kem1975['Age'],kde=True,color=\"b\")\n",
    "      "
   ]
  },
  {
   "cell_type": "code",
   "execution_count": null,
   "id": "dc1969c3",
   "metadata": {},
   "outputs": [],
   "source": [
    "sns.scatterplot(x=dead_2021['DOB_AAAA'],y=dead_2021['Age'],hue=dead_2021['Sexe'],palette='YlGnBu')"
   ]
  },
  {
   "cell_type": "code",
   "execution_count": null,
   "id": "416b310e",
   "metadata": {},
   "outputs": [],
   "source": [
    "sns.boxplot(x='DOB_AAAA',y='Age',data=All_deads, hue='Sexe', palette='YlGnBu')"
   ]
  },
  {
   "cell_type": "code",
   "execution_count": 97,
   "id": "1693e0a3",
   "metadata": {},
   "outputs": [],
   "source": [
    "All_deads=pd.concat([dead_1975,dead_1985,dead_1995,dead_2005,dead_2021]).reset_index(drop=True)"
   ]
  },
  {
   "cell_type": "code",
   "execution_count": 115,
   "id": "f0dd8b51",
   "metadata": {
    "scrolled": true
   },
   "outputs": [
    {
     "data": {
      "text/plain": [
       "<AxesSubplot:xlabel='DOB_AAAA', ylabel='Age'>"
      ]
     },
     "execution_count": 115,
     "metadata": {},
     "output_type": "execute_result"
    },
    {
     "data": {
      "image/png": "[encoded data removed]",
      "text/plain": [
       "<Figure size 432x288 with 1 Axes>"
      ]
     },
     "metadata": {
      "needs_background": "light"
     },
     "output_type": "display_data"
    }
   ],
   "source": [
    "sns.scatterplot(x=All_deads['DOB_AAAA'],y=All_deads['Age'],hue=All_deads['Sexe'],palette='YlGnBu')"
   ]
  },
  {
   "cell_type": "code",
   "execution_count": 116,
   "id": "129f8ee9",
   "metadata": {},
   "outputs": [
    {
     "data": {
      "text/plain": [
       "<AxesSubplot:xlabel='DOB_AAAA', ylabel='Age'>"
      ]
     },
     "execution_count": 116,
     "metadata": {},
     "output_type": "execute_result"
    },
    {
     "data": {
      "image/png": "[encoded data removed]",
      "text/plain": [
       "<Figure size 432x288 with 1 Axes>"
      ]
     },
     "metadata": {
      "needs_background": "light"
     },
     "output_type": "display_data"
    }
   ],
   "source": [
    "sns.boxplot(x='DOB_AAAA',y='Age',data=All_deads, hue='Sexe', palette='YlGnBu')"
   ]
  },
  {
   "cell_type": "code",
   "execution_count": 99,
   "id": "53bf04de",
   "metadata": {},
   "outputs": [
    {
     "data": {
      "text/html": [
       "<div>\n",
       "<style scoped>\n",
       "    .dataframe tbody tr th:only-of-type {\n",
       "        vertical-align: middle;\n",
       "    }\n",
       "\n",
       "    .dataframe tbody tr th {\n",
       "        vertical-align: top;\n",
       "    }\n",
       "\n",
       "    .dataframe thead th {\n",
       "        text-align: right;\n",
       "    }\n",
       "</style>\n",
       "<table border=\"1\" class=\"dataframe\">\n",
       "  <thead>\n",
       "    <tr style=\"text-align: right;\">\n",
       "      <th></th>\n",
       "      <th>Sexe</th>\n",
       "      <th>DOB_AAAA</th>\n",
       "      <th>DOB_MM</th>\n",
       "      <th>DOB_DD</th>\n",
       "      <th>DOD_AAAA</th>\n",
       "      <th>DOD_MM</th>\n",
       "      <th>DOD_DD</th>\n",
       "      <th>Age</th>\n",
       "    </tr>\n",
       "  </thead>\n",
       "  <tbody>\n",
       "    <tr>\n",
       "      <th>count</th>\n",
       "      <td>2.573144e+06</td>\n",
       "      <td>2.573144e+06</td>\n",
       "      <td>2.573144e+06</td>\n",
       "      <td>2.573144e+06</td>\n",
       "      <td>2.573144e+06</td>\n",
       "      <td>2.573144e+06</td>\n",
       "      <td>2.573144e+06</td>\n",
       "      <td>2.573144e+06</td>\n",
       "    </tr>\n",
       "    <tr>\n",
       "      <th>mean</th>\n",
       "      <td>1.479075e+00</td>\n",
       "      <td>1.923634e+03</td>\n",
       "      <td>6.365762e+00</td>\n",
       "      <td>1.559772e+01</td>\n",
       "      <td>1.997700e+03</td>\n",
       "      <td>6.358856e+00</td>\n",
       "      <td>1.570011e+01</td>\n",
       "      <td>7.566943e+01</td>\n",
       "    </tr>\n",
       "    <tr>\n",
       "      <th>std</th>\n",
       "      <td>4.995620e-01</td>\n",
       "      <td>2.042834e+01</td>\n",
       "      <td>3.452918e+00</td>\n",
       "      <td>8.848039e+00</td>\n",
       "      <td>1.490556e+01</td>\n",
       "      <td>3.528580e+00</td>\n",
       "      <td>8.802009e+00</td>\n",
       "      <td>1.783138e+01</td>\n",
       "    </tr>\n",
       "    <tr>\n",
       "      <th>min</th>\n",
       "      <td>1.000000e+00</td>\n",
       "      <td>1.000000e+03</td>\n",
       "      <td>0.000000e+00</td>\n",
       "      <td>0.000000e+00</td>\n",
       "      <td>1.890000e+03</td>\n",
       "      <td>0.000000e+00</td>\n",
       "      <td>0.000000e+00</td>\n",
       "      <td>0.000000e+00</td>\n",
       "    </tr>\n",
       "    <tr>\n",
       "      <th>25%</th>\n",
       "      <td>1.000000e+00</td>\n",
       "      <td>1.908000e+03</td>\n",
       "      <td>3.000000e+00</td>\n",
       "      <td>8.000000e+00</td>\n",
       "      <td>1.985000e+03</td>\n",
       "      <td>3.000000e+00</td>\n",
       "      <td>8.000000e+00</td>\n",
       "      <td>6.800000e+01</td>\n",
       "    </tr>\n",
       "    <tr>\n",
       "      <th>50%</th>\n",
       "      <td>1.000000e+00</td>\n",
       "      <td>1.922000e+03</td>\n",
       "      <td>6.000000e+00</td>\n",
       "      <td>1.600000e+01</td>\n",
       "      <td>1.995000e+03</td>\n",
       "      <td>6.000000e+00</td>\n",
       "      <td>1.600000e+01</td>\n",
       "      <td>8.000000e+01</td>\n",
       "    </tr>\n",
       "    <tr>\n",
       "      <th>75%</th>\n",
       "      <td>2.000000e+00</td>\n",
       "      <td>1.934000e+03</td>\n",
       "      <td>9.000000e+00</td>\n",
       "      <td>2.300000e+01</td>\n",
       "      <td>2.005000e+03</td>\n",
       "      <td>9.000000e+00</td>\n",
       "      <td>2.300000e+01</td>\n",
       "      <td>8.800000e+01</td>\n",
       "    </tr>\n",
       "    <tr>\n",
       "      <th>max</th>\n",
       "      <td>2.000000e+00</td>\n",
       "      <td>2.018000e+03</td>\n",
       "      <td>1.200000e+01</td>\n",
       "      <td>3.100000e+01</td>\n",
       "      <td>2.018000e+03</td>\n",
       "      <td>1.200000e+01</td>\n",
       "      <td>3.100000e+01</td>\n",
       "      <td>9.960000e+02</td>\n",
       "    </tr>\n",
       "  </tbody>\n",
       "</table>\n",
       "</div>"
      ],
      "text/plain": [
       "               Sexe      DOB_AAAA        DOB_MM        DOB_DD      DOD_AAAA  \\\n",
       "count  2.573144e+06  2.573144e+06  2.573144e+06  2.573144e+06  2.573144e+06   \n",
       "mean   1.479075e+00  1.923634e+03  6.365762e+00  1.559772e+01  1.997700e+03   \n",
       "std    4.995620e-01  2.042834e+01  3.452918e+00  8.848039e+00  1.490556e+01   \n",
       "min    1.000000e+00  1.000000e+03  0.000000e+00  0.000000e+00  1.890000e+03   \n",
       "25%    1.000000e+00  1.908000e+03  3.000000e+00  8.000000e+00  1.985000e+03   \n",
       "50%    1.000000e+00  1.922000e+03  6.000000e+00  1.600000e+01  1.995000e+03   \n",
       "75%    2.000000e+00  1.934000e+03  9.000000e+00  2.300000e+01  2.005000e+03   \n",
       "max    2.000000e+00  2.018000e+03  1.200000e+01  3.100000e+01  2.018000e+03   \n",
       "\n",
       "             DOD_MM        DOD_DD           Age  \n",
       "count  2.573144e+06  2.573144e+06  2.573144e+06  \n",
       "mean   6.358856e+00  1.570011e+01  7.566943e+01  \n",
       "std    3.528580e+00  8.802009e+00  1.783138e+01  \n",
       "min    0.000000e+00  0.000000e+00  0.000000e+00  \n",
       "25%    3.000000e+00  8.000000e+00  6.800000e+01  \n",
       "50%    6.000000e+00  1.600000e+01  8.000000e+01  \n",
       "75%    9.000000e+00  2.300000e+01  8.800000e+01  \n",
       "max    1.200000e+01  3.100000e+01  9.960000e+02  "
      ]
     },
     "execution_count": 99,
     "metadata": {},
     "output_type": "execute_result"
    }
   ],
   "source": [
    "All_deads.describe()"
   ]
  },
  {
   "cell_type": "code",
   "execution_count": 114,
   "id": "042aba79",
   "metadata": {},
   "outputs": [
    {
     "data": {
      "text/html": [
       "<div>\n",
       "<style scoped>\n",
       "    .dataframe tbody tr th:only-of-type {\n",
       "        vertical-align: middle;\n",
       "    }\n",
       "\n",
       "    .dataframe tbody tr th {\n",
       "        vertical-align: top;\n",
       "    }\n",
       "\n",
       "    .dataframe thead th {\n",
       "        text-align: right;\n",
       "    }\n",
       "</style>\n",
       "<table border=\"1\" class=\"dataframe\">\n",
       "  <thead>\n",
       "    <tr style=\"text-align: right;\">\n",
       "      <th></th>\n",
       "      <th>Sexe</th>\n",
       "      <th>DOB_AAAA</th>\n",
       "      <th>DOB_MM</th>\n",
       "      <th>DOB_DD</th>\n",
       "      <th>DOD_AAAA</th>\n",
       "      <th>DOD_MM</th>\n",
       "      <th>DOD_DD</th>\n",
       "      <th>Age</th>\n",
       "    </tr>\n",
       "  </thead>\n",
       "  <tbody>\n",
       "    <tr>\n",
       "      <th>count</th>\n",
       "      <td>2.573140e+06</td>\n",
       "      <td>2.573140e+06</td>\n",
       "      <td>2.573140e+06</td>\n",
       "      <td>2.573140e+06</td>\n",
       "      <td>2.573140e+06</td>\n",
       "      <td>2.573140e+06</td>\n",
       "      <td>2.573140e+06</td>\n",
       "      <td>2.573140e+06</td>\n",
       "    </tr>\n",
       "    <tr>\n",
       "      <th>mean</th>\n",
       "      <td>1.479075e+00</td>\n",
       "      <td>1.923636e+03</td>\n",
       "      <td>6.365772e+00</td>\n",
       "      <td>1.559774e+01</td>\n",
       "      <td>1.997700e+03</td>\n",
       "      <td>6.358856e+00</td>\n",
       "      <td>1.570010e+01</td>\n",
       "      <td>7.566822e+01</td>\n",
       "    </tr>\n",
       "    <tr>\n",
       "      <th>std</th>\n",
       "      <td>4.995620e-01</td>\n",
       "      <td>2.040493e+01</td>\n",
       "      <td>3.452912e+00</td>\n",
       "      <td>8.848024e+00</td>\n",
       "      <td>1.490557e+01</td>\n",
       "      <td>3.528579e+00</td>\n",
       "      <td>8.802004e+00</td>\n",
       "      <td>1.780484e+01</td>\n",
       "    </tr>\n",
       "    <tr>\n",
       "      <th>min</th>\n",
       "      <td>1.000000e+00</td>\n",
       "      <td>1.875000e+03</td>\n",
       "      <td>0.000000e+00</td>\n",
       "      <td>0.000000e+00</td>\n",
       "      <td>1.890000e+03</td>\n",
       "      <td>0.000000e+00</td>\n",
       "      <td>0.000000e+00</td>\n",
       "      <td>0.000000e+00</td>\n",
       "    </tr>\n",
       "    <tr>\n",
       "      <th>25%</th>\n",
       "      <td>1.000000e+00</td>\n",
       "      <td>1.908000e+03</td>\n",
       "      <td>3.000000e+00</td>\n",
       "      <td>8.000000e+00</td>\n",
       "      <td>1.985000e+03</td>\n",
       "      <td>3.000000e+00</td>\n",
       "      <td>8.000000e+00</td>\n",
       "      <td>6.800000e+01</td>\n",
       "    </tr>\n",
       "    <tr>\n",
       "      <th>50%</th>\n",
       "      <td>1.000000e+00</td>\n",
       "      <td>1.922000e+03</td>\n",
       "      <td>6.000000e+00</td>\n",
       "      <td>1.600000e+01</td>\n",
       "      <td>1.995000e+03</td>\n",
       "      <td>6.000000e+00</td>\n",
       "      <td>1.600000e+01</td>\n",
       "      <td>8.000000e+01</td>\n",
       "    </tr>\n",
       "    <tr>\n",
       "      <th>75%</th>\n",
       "      <td>2.000000e+00</td>\n",
       "      <td>1.934000e+03</td>\n",
       "      <td>9.000000e+00</td>\n",
       "      <td>2.300000e+01</td>\n",
       "      <td>2.005000e+03</td>\n",
       "      <td>9.000000e+00</td>\n",
       "      <td>2.300000e+01</td>\n",
       "      <td>8.800000e+01</td>\n",
       "    </tr>\n",
       "    <tr>\n",
       "      <th>max</th>\n",
       "      <td>2.000000e+00</td>\n",
       "      <td>2.018000e+03</td>\n",
       "      <td>1.200000e+01</td>\n",
       "      <td>3.100000e+01</td>\n",
       "      <td>2.018000e+03</td>\n",
       "      <td>1.200000e+01</td>\n",
       "      <td>3.100000e+01</td>\n",
       "      <td>1.190000e+02</td>\n",
       "    </tr>\n",
       "  </tbody>\n",
       "</table>\n",
       "</div>"
      ],
      "text/plain": [
       "               Sexe      DOB_AAAA        DOB_MM        DOB_DD      DOD_AAAA  \\\n",
       "count  2.573140e+06  2.573140e+06  2.573140e+06  2.573140e+06  2.573140e+06   \n",
       "mean   1.479075e+00  1.923636e+03  6.365772e+00  1.559774e+01  1.997700e+03   \n",
       "std    4.995620e-01  2.040493e+01  3.452912e+00  8.848024e+00  1.490557e+01   \n",
       "min    1.000000e+00  1.875000e+03  0.000000e+00  0.000000e+00  1.890000e+03   \n",
       "25%    1.000000e+00  1.908000e+03  3.000000e+00  8.000000e+00  1.985000e+03   \n",
       "50%    1.000000e+00  1.922000e+03  6.000000e+00  1.600000e+01  1.995000e+03   \n",
       "75%    2.000000e+00  1.934000e+03  9.000000e+00  2.300000e+01  2.005000e+03   \n",
       "max    2.000000e+00  2.018000e+03  1.200000e+01  3.100000e+01  2.018000e+03   \n",
       "\n",
       "             DOD_MM        DOD_DD           Age  \n",
       "count  2.573140e+06  2.573140e+06  2.573140e+06  \n",
       "mean   6.358856e+00  1.570010e+01  7.566822e+01  \n",
       "std    3.528579e+00  8.802004e+00  1.780484e+01  \n",
       "min    0.000000e+00  0.000000e+00  0.000000e+00  \n",
       "25%    3.000000e+00  8.000000e+00  6.800000e+01  \n",
       "50%    6.000000e+00  1.600000e+01  8.000000e+01  \n",
       "75%    9.000000e+00  2.300000e+01  8.800000e+01  \n",
       "max    1.200000e+01  3.100000e+01  1.190000e+02  "
      ]
     },
     "execution_count": 114,
     "metadata": {},
     "output_type": "execute_result"
    }
   ],
   "source": []
  },
  {
   "cell_type": "code",
   "execution_count": 117,
   "id": "9d3daa05",
   "metadata": {},
   "outputs": [
    {
     "data": {
      "text/plain": [
       "<AxesSubplot:xlabel='DOB_AAAA', ylabel='Age'>"
      ]
     },
     "execution_count": 117,
     "metadata": {},
     "output_type": "execute_result"
    },
    {
     "data": {
      "image/png": "[encoded data removed]",
      "text/plain": [
       "<Figure size 432x288 with 1 Axes>"
      ]
     },
     "metadata": {
      "needs_background": "light"
     },
     "output_type": "display_data"
    }
   ],
   "source": [
    "sns.barplot(x='DOB_AAAA',y='Age',data=All_deads, hue='Sexe', palette='YlGnBu')"
   ]
  },
  {
   "cell_type": "code",
   "execution_count": 118,
   "id": "f965b7e6",
   "metadata": {},
   "outputs": [
    {
     "data": {
      "text/plain": [
       "<seaborn.axisgrid.JointGrid at 0x24cf5900e50>"
      ]
     },
     "execution_count": 118,
     "metadata": {},
     "output_type": "execute_result"
    },
    {
     "data": {
      "image/png": "[encoded data removed]",
      "text/plain": [
       "<Figure size 432x432 with 3 Axes>"
      ]
     },
     "metadata": {
      "needs_background": "light"
     },
     "output_type": "display_data"
    }
   ],
   "source": [
    "sns.jointplot(x='DOB_AAAA',y='Age',data=All_deads, kind='reg')"
   ]
  },
  {
   "cell_type": "code",
   "execution_count": null,
   "id": "e9fe2629",
   "metadata": {},
   "outputs": [],
   "source": [
    "sns.jointplot(x='DOB_AAAA',y='Age',data=All_deads, kind='kde')"
   ]
  },
  {
   "cell_type": "code",
   "execution_count": 56,
   "id": "1bff570b",
   "metadata": {},
   "outputs": [],
   "source": [
    "dead_1975=add_new_year(1975)\n",
    "dead_1980=add_new_year(1980)\n",
    "dead_1985=add_new_year(1985)\n",
    "dead_1990=add_new_year(1990)\n",
    "dead_1995=add_new_year(1995)\n",
    "dead_2000=add_new_year(2000)\n",
    "dead_2005=add_new_year(2005)\n",
    "dead_2010=add_new_year(2010)\n",
    "dead_2015=add_new_year(2015)\n",
    "dead_2020=add_new_year(2020)"
   ]
  },
  {
   "cell_type": "code",
   "execution_count": 114,
   "id": "39f399bd",
   "metadata": {},
   "outputs": [
    {
     "data": {
      "text/html": [
       "<div>\n",
       "<style scoped>\n",
       "    .dataframe tbody tr th:only-of-type {\n",
       "        vertical-align: middle;\n",
       "    }\n",
       "\n",
       "    .dataframe tbody tr th {\n",
       "        vertical-align: top;\n",
       "    }\n",
       "\n",
       "    .dataframe thead th {\n",
       "        text-align: right;\n",
       "    }\n",
       "</style>\n",
       "<table border=\"1\" class=\"dataframe\">\n",
       "  <thead>\n",
       "    <tr style=\"text-align: right;\">\n",
       "      <th></th>\n",
       "      <th>1975</th>\n",
       "      <th>1980</th>\n",
       "      <th>1985</th>\n",
       "      <th>1990</th>\n",
       "      <th>1995</th>\n",
       "      <th>2000</th>\n",
       "      <th>2005</th>\n",
       "      <th>2010</th>\n",
       "      <th>2015</th>\n",
       "      <th>2020</th>\n",
       "    </tr>\n",
       "  </thead>\n",
       "  <tbody>\n",
       "    <tr>\n",
       "      <th>0</th>\n",
       "      <td>57713</td>\n",
       "      <td>63061</td>\n",
       "      <td>69020</td>\n",
       "      <td>79386</td>\n",
       "      <td>75912</td>\n",
       "      <td>82345</td>\n",
       "      <td>80561</td>\n",
       "      <td>79496</td>\n",
       "      <td>88150</td>\n",
       "      <td>97908</td>\n",
       "    </tr>\n",
       "    <tr>\n",
       "      <th>1</th>\n",
       "      <td>56643</td>\n",
       "      <td>63813</td>\n",
       "      <td>69087</td>\n",
       "      <td>78191</td>\n",
       "      <td>75605</td>\n",
       "      <td>82229</td>\n",
       "      <td>80183</td>\n",
       "      <td>79520</td>\n",
       "      <td>88290</td>\n",
       "      <td>98224</td>\n",
       "    </tr>\n",
       "    <tr>\n",
       "      <th>2</th>\n",
       "      <td>58270</td>\n",
       "      <td>63793</td>\n",
       "      <td>67652</td>\n",
       "      <td>77805</td>\n",
       "      <td>74318</td>\n",
       "      <td>81271</td>\n",
       "      <td>79523</td>\n",
       "      <td>78734</td>\n",
       "      <td>87028</td>\n",
       "      <td>97190</td>\n",
       "    </tr>\n",
       "    <tr>\n",
       "      <th>3</th>\n",
       "      <td>56777</td>\n",
       "      <td>61804</td>\n",
       "      <td>67573</td>\n",
       "      <td>77648</td>\n",
       "      <td>74730</td>\n",
       "      <td>81062</td>\n",
       "      <td>79883</td>\n",
       "      <td>78770</td>\n",
       "      <td>86843</td>\n",
       "      <td>97575</td>\n",
       "    </tr>\n",
       "    <tr>\n",
       "      <th>4</th>\n",
       "      <td>56845</td>\n",
       "      <td>62488</td>\n",
       "      <td>67438</td>\n",
       "      <td>78516</td>\n",
       "      <td>74833</td>\n",
       "      <td>81594</td>\n",
       "      <td>79678</td>\n",
       "      <td>79223</td>\n",
       "      <td>87550</td>\n",
       "      <td>98255</td>\n",
       "    </tr>\n",
       "    <tr>\n",
       "      <th>5</th>\n",
       "      <td>56705</td>\n",
       "      <td>61648</td>\n",
       "      <td>67278</td>\n",
       "      <td>78283</td>\n",
       "      <td>73849</td>\n",
       "      <td>81153</td>\n",
       "      <td>78947</td>\n",
       "      <td>77389</td>\n",
       "      <td>86871</td>\n",
       "      <td>95782</td>\n",
       "    </tr>\n",
       "    <tr>\n",
       "      <th>6</th>\n",
       "      <td>55727</td>\n",
       "      <td>60887</td>\n",
       "      <td>66328</td>\n",
       "      <td>76811</td>\n",
       "      <td>72170</td>\n",
       "      <td>79931</td>\n",
       "      <td>77522</td>\n",
       "      <td>76612</td>\n",
       "      <td>84089</td>\n",
       "      <td>94298</td>\n",
       "    </tr>\n",
       "  </tbody>\n",
       "</table>\n",
       "</div>"
      ],
      "text/plain": [
       "    1975   1980   1985   1990   1995   2000   2005   2010   2015   2020\n",
       "0  57713  63061  69020  79386  75912  82345  80561  79496  88150  97908\n",
       "1  56643  63813  69087  78191  75605  82229  80183  79520  88290  98224\n",
       "2  58270  63793  67652  77805  74318  81271  79523  78734  87028  97190\n",
       "3  56777  61804  67573  77648  74730  81062  79883  78770  86843  97575\n",
       "4  56845  62488  67438  78516  74833  81594  79678  79223  87550  98255\n",
       "5  56705  61648  67278  78283  73849  81153  78947  77389  86871  95782\n",
       "6  55727  60887  66328  76811  72170  79931  77522  76612  84089  94298"
      ]
     },
     "execution_count": 114,
     "metadata": {},
     "output_type": "execute_result"
    }
   ],
   "source": [
    "Day=dead_1975['DOD'].dt.dayofweek.value_counts()\n",
    "\n",
    "Days=pd.DataFrame([dead_1975['DOD'].dt.dayofweek.value_counts(),dead_1980['DOD'].dt.dayofweek.value_counts(),dead_1985['DOD'].dt.dayofweek.value_counts(),dead_1990['DOD'].dt.dayofweek.value_counts(),dead_1995['DOD'].dt.dayofweek.value_counts(),dead_2000['DOD'].dt.dayofweek.value_counts(),dead_2005['DOD'].dt.dayofweek.value_counts(),dead_2010['DOD'].dt.dayofweek.value_counts(),dead_2015['DOD'].dt.dayofweek.value_counts(),dead_2020['DOD'].dt.dayofweek.value_counts()], index=[1975,1980,1985,1990,1995,2000,2005,2010,2015,2020])\n",
    "#sns.barplot(x='DOB_AAAA',y='Age',data=All_deads, hue='Sexe', palette='YlGnBu')\n",
    "Days\n",
    "DaysT=Days.transpose()\n",
    "DaysT"
   ]
  },
  {
   "cell_type": "code",
   "execution_count": 115,
   "id": "77a51149",
   "metadata": {},
   "outputs": [
    {
     "data": {
      "text/plain": [
       "[<matplotlib.lines.Line2D at 0x2bb39995be0>,\n",
       " <matplotlib.lines.Line2D at 0x2bb39995c10>,\n",
       " <matplotlib.lines.Line2D at 0x2bb39995d30>,\n",
       " <matplotlib.lines.Line2D at 0x2bb39995e50>,\n",
       " <matplotlib.lines.Line2D at 0x2bb39995f70>,\n",
       " <matplotlib.lines.Line2D at 0x2bb3fbc70d0>,\n",
       " <matplotlib.lines.Line2D at 0x2bb3fbc71f0>,\n",
       " <matplotlib.lines.Line2D at 0x2bb3fbc7310>,\n",
       " <matplotlib.lines.Line2D at 0x2bb3fbc7430>,\n",
       " <matplotlib.lines.Line2D at 0x2bb3fbc7550>]"
      ]
     },
     "execution_count": 115,
     "metadata": {},
     "output_type": "execute_result"
    },
    {
     "data": {
      "image/png": "[encoded data removed]",
      "text/plain": [
       "<Figure size 432x288 with 1 Axes>"
      ]
     },
     "metadata": {
      "needs_background": "light"
     },
     "output_type": "display_data"
    }
   ],
   "source": [
    "plt.plot(DaysT)"
   ]
  },
  {
   "cell_type": "code",
   "execution_count": 121,
   "id": "492ef083",
   "metadata": {},
   "outputs": [
    {
     "data": {
      "text/html": [
       "<div>\n",
       "<style scoped>\n",
       "    .dataframe tbody tr th:only-of-type {\n",
       "        vertical-align: middle;\n",
       "    }\n",
       "\n",
       "    .dataframe tbody tr th {\n",
       "        vertical-align: top;\n",
       "    }\n",
       "\n",
       "    .dataframe thead th {\n",
       "        text-align: right;\n",
       "    }\n",
       "</style>\n",
       "<table border=\"1\" class=\"dataframe\">\n",
       "  <thead>\n",
       "    <tr style=\"text-align: right;\">\n",
       "      <th></th>\n",
       "      <th>1975</th>\n",
       "      <th>1980</th>\n",
       "      <th>1985</th>\n",
       "      <th>1990</th>\n",
       "      <th>1995</th>\n",
       "      <th>2000</th>\n",
       "      <th>2005</th>\n",
       "      <th>2010</th>\n",
       "      <th>2015</th>\n",
       "      <th>2020</th>\n",
       "    </tr>\n",
       "  </thead>\n",
       "  <tbody>\n",
       "    <tr>\n",
       "      <th>1</th>\n",
       "      <td>38409</td>\n",
       "      <td>40402</td>\n",
       "      <td>49178</td>\n",
       "      <td>57682</td>\n",
       "      <td>49680</td>\n",
       "      <td>61777</td>\n",
       "      <td>50491</td>\n",
       "      <td>52621</td>\n",
       "      <td>59569</td>\n",
       "      <td>58146</td>\n",
       "    </tr>\n",
       "    <tr>\n",
       "      <th>2</th>\n",
       "      <td>31049</td>\n",
       "      <td>35315</td>\n",
       "      <td>40478</td>\n",
       "      <td>44774</td>\n",
       "      <td>41857</td>\n",
       "      <td>49638</td>\n",
       "      <td>51942</td>\n",
       "      <td>47056</td>\n",
       "      <td>58490</td>\n",
       "      <td>52038</td>\n",
       "    </tr>\n",
       "    <tr>\n",
       "      <th>3</th>\n",
       "      <td>34196</td>\n",
       "      <td>35708</td>\n",
       "      <td>43993</td>\n",
       "      <td>46080</td>\n",
       "      <td>47310</td>\n",
       "      <td>46978</td>\n",
       "      <td>55300</td>\n",
       "      <td>48813</td>\n",
       "      <td>56070</td>\n",
       "      <td>63858</td>\n",
       "    </tr>\n",
       "    <tr>\n",
       "      <th>4</th>\n",
       "      <td>33442</td>\n",
       "      <td>36602</td>\n",
       "      <td>39064</td>\n",
       "      <td>44756</td>\n",
       "      <td>46672</td>\n",
       "      <td>44134</td>\n",
       "      <td>45121</td>\n",
       "      <td>44968</td>\n",
       "      <td>48713</td>\n",
       "      <td>67638</td>\n",
       "    </tr>\n",
       "    <tr>\n",
       "      <th>5</th>\n",
       "      <td>32934</td>\n",
       "      <td>36756</td>\n",
       "      <td>39112</td>\n",
       "      <td>43019</td>\n",
       "      <td>44756</td>\n",
       "      <td>43578</td>\n",
       "      <td>44454</td>\n",
       "      <td>45286</td>\n",
       "      <td>47207</td>\n",
       "      <td>49773</td>\n",
       "    </tr>\n",
       "    <tr>\n",
       "      <th>6</th>\n",
       "      <td>31383</td>\n",
       "      <td>34317</td>\n",
       "      <td>35902</td>\n",
       "      <td>41757</td>\n",
       "      <td>42443</td>\n",
       "      <td>42231</td>\n",
       "      <td>42583</td>\n",
       "      <td>42442</td>\n",
       "      <td>45656</td>\n",
       "      <td>46874</td>\n",
       "    </tr>\n",
       "    <tr>\n",
       "      <th>7</th>\n",
       "      <td>32099</td>\n",
       "      <td>35781</td>\n",
       "      <td>37275</td>\n",
       "      <td>44212</td>\n",
       "      <td>44696</td>\n",
       "      <td>43712</td>\n",
       "      <td>41469</td>\n",
       "      <td>43238</td>\n",
       "      <td>47811</td>\n",
       "      <td>47910</td>\n",
       "    </tr>\n",
       "    <tr>\n",
       "      <th>8</th>\n",
       "      <td>32811</td>\n",
       "      <td>34170</td>\n",
       "      <td>35568</td>\n",
       "      <td>43679</td>\n",
       "      <td>42846</td>\n",
       "      <td>42813</td>\n",
       "      <td>40714</td>\n",
       "      <td>42400</td>\n",
       "      <td>47557</td>\n",
       "      <td>50008</td>\n",
       "    </tr>\n",
       "    <tr>\n",
       "      <th>9</th>\n",
       "      <td>30682</td>\n",
       "      <td>32761</td>\n",
       "      <td>33609</td>\n",
       "      <td>40855</td>\n",
       "      <td>41483</td>\n",
       "      <td>41061</td>\n",
       "      <td>40518</td>\n",
       "      <td>42369</td>\n",
       "      <td>45888</td>\n",
       "      <td>50070</td>\n",
       "    </tr>\n",
       "    <tr>\n",
       "      <th>10</th>\n",
       "      <td>33923</td>\n",
       "      <td>37122</td>\n",
       "      <td>38012</td>\n",
       "      <td>45303</td>\n",
       "      <td>42996</td>\n",
       "      <td>47117</td>\n",
       "      <td>44301</td>\n",
       "      <td>46534</td>\n",
       "      <td>51234</td>\n",
       "      <td>58888</td>\n",
       "    </tr>\n",
       "    <tr>\n",
       "      <th>11</th>\n",
       "      <td>32266</td>\n",
       "      <td>38278</td>\n",
       "      <td>40864</td>\n",
       "      <td>41352</td>\n",
       "      <td>33310</td>\n",
       "      <td>52003</td>\n",
       "      <td>43919</td>\n",
       "      <td>44692</td>\n",
       "      <td>47778</td>\n",
       "      <td>67008</td>\n",
       "    </tr>\n",
       "    <tr>\n",
       "      <th>12</th>\n",
       "      <td>35486</td>\n",
       "      <td>40282</td>\n",
       "      <td>41321</td>\n",
       "      <td>53171</td>\n",
       "      <td>43368</td>\n",
       "      <td>54543</td>\n",
       "      <td>55485</td>\n",
       "      <td>49325</td>\n",
       "      <td>52848</td>\n",
       "      <td>67021</td>\n",
       "    </tr>\n",
       "  </tbody>\n",
       "</table>\n",
       "</div>"
      ],
      "text/plain": [
       "     1975   1980   1985   1990   1995   2000   2005   2010   2015   2020\n",
       "1   38409  40402  49178  57682  49680  61777  50491  52621  59569  58146\n",
       "2   31049  35315  40478  44774  41857  49638  51942  47056  58490  52038\n",
       "3   34196  35708  43993  46080  47310  46978  55300  48813  56070  63858\n",
       "4   33442  36602  39064  44756  46672  44134  45121  44968  48713  67638\n",
       "5   32934  36756  39112  43019  44756  43578  44454  45286  47207  49773\n",
       "6   31383  34317  35902  41757  42443  42231  42583  42442  45656  46874\n",
       "7   32099  35781  37275  44212  44696  43712  41469  43238  47811  47910\n",
       "8   32811  34170  35568  43679  42846  42813  40714  42400  47557  50008\n",
       "9   30682  32761  33609  40855  41483  41061  40518  42369  45888  50070\n",
       "10  33923  37122  38012  45303  42996  47117  44301  46534  51234  58888\n",
       "11  32266  38278  40864  41352  33310  52003  43919  44692  47778  67008\n",
       "12  35486  40282  41321  53171  43368  54543  55485  49325  52848  67021"
      ]
     },
     "execution_count": 121,
     "metadata": {},
     "output_type": "execute_result"
    }
   ],
   "source": [
    "Month=dead_1975['DOD'].dt.month.value_counts()\n",
    "\n",
    "Months=pd.DataFrame([dead_1975['DOD'].dt.month.value_counts(),dead_1980['DOD'].dt.month.value_counts(),dead_1985['DOD'].dt.month.value_counts(),dead_1990['DOD'].dt.month.value_counts(),dead_1995['DOD'].dt.month.value_counts(),dead_2000['DOD'].dt.month.value_counts(),dead_2005['DOD'].dt.month.value_counts(),dead_2010['DOD'].dt.month.value_counts(),dead_2015['DOD'].dt.month.value_counts(),dead_2020['DOD'].dt.month.value_counts()], index=[1975,1980,1985,1990,1995,2000,2005,2010,2015,2020])\n",
    "#sns.barplot(x='DOB_AAAA',y='Age',data=All_deads, hue='Sexe', palette='YlGnBu')\n",
    "MonthsT=Months.transpose()\n",
    "MonthsT"
   ]
  },
  {
   "cell_type": "code",
   "execution_count": 129,
   "id": "726fcf12",
   "metadata": {},
   "outputs": [
    {
     "data": {
      "text/plain": [
       "<matplotlib.legend.Legend at 0x2bb4b3995e0>"
      ]
     },
     "execution_count": 129,
     "metadata": {},
     "output_type": "execute_result"
    },
    {
     "data": {
      "image/png": "[encoded data removed]",
      "text/plain": [
       "<Figure size 432x288 with 1 Axes>"
      ]
     },
     "metadata": {
      "needs_background": "light"
     },
     "output_type": "display_data"
    }
   ],
   "source": [
    "plt.plot(MonthsT)\n",
    "plt.legend([1975,1980,1985,1990,1995,2000,2005,2010,2015,2020])"
   ]
  },
  {
   "cell_type": "code",
   "execution_count": 132,
   "id": "83cf6a75",
   "metadata": {},
   "outputs": [],
   "source": [
    "All_deads=pd.concat([dead_1975,dead_1980,dead_1985,dead_1990,dead_1995,dead_2000,dead_2005,dead_2015,dead_2020]).reset_index(drop=True)"
   ]
  },
  {
   "cell_type": "code",
   "execution_count": 133,
   "id": "980685ab",
   "metadata": {},
   "outputs": [
    {
     "data": {
      "text/html": [
       "<div>\n",
       "<style scoped>\n",
       "    .dataframe tbody tr th:only-of-type {\n",
       "        vertical-align: middle;\n",
       "    }\n",
       "\n",
       "    .dataframe tbody tr th {\n",
       "        vertical-align: top;\n",
       "    }\n",
       "\n",
       "    .dataframe thead th {\n",
       "        text-align: right;\n",
       "    }\n",
       "</style>\n",
       "<table border=\"1\" class=\"dataframe\">\n",
       "  <thead>\n",
       "    <tr style=\"text-align: right;\">\n",
       "      <th></th>\n",
       "      <th>First</th>\n",
       "      <th>Last</th>\n",
       "      <th>Sexe</th>\n",
       "      <th>DOB</th>\n",
       "      <th>CodeLieuxNaissance</th>\n",
       "      <th>AdressseNaissance</th>\n",
       "      <th>Etranger</th>\n",
       "      <th>DOD</th>\n",
       "      <th>CodeLieuDeces</th>\n",
       "      <th>ActeDecesNumber</th>\n",
       "      <th>Age</th>\n",
       "    </tr>\n",
       "  </thead>\n",
       "  <tbody>\n",
       "    <tr>\n",
       "      <th>0</th>\n",
       "      <td>CLEMENT ANTOINE</td>\n",
       "      <td>THOUNY</td>\n",
       "      <td>1</td>\n",
       "      <td>1904-08-31</td>\n",
       "      <td>1001</td>\n",
       "      <td>L'ABERGEMENT-CLEMENCIAT</td>\n",
       "      <td>NaN</td>\n",
       "      <td>1975-09-25</td>\n",
       "      <td>1001</td>\n",
       "      <td>3</td>\n",
       "      <td>71.067852</td>\n",
       "    </tr>\n",
       "    <tr>\n",
       "      <th>1</th>\n",
       "      <td>JEAN ADOLPHE</td>\n",
       "      <td>MAZUY</td>\n",
       "      <td>1</td>\n",
       "      <td>1905-07-03</td>\n",
       "      <td>1001</td>\n",
       "      <td>L'ABERGEMENT-CLEMENCIAT</td>\n",
       "      <td>NaN</td>\n",
       "      <td>1975-11-03</td>\n",
       "      <td>1004</td>\n",
       "      <td>4</td>\n",
       "      <td>70.336831</td>\n",
       "    </tr>\n",
       "    <tr>\n",
       "      <th>2</th>\n",
       "      <td>CELINE</td>\n",
       "      <td>LONGIN</td>\n",
       "      <td>2</td>\n",
       "      <td>1907-03-26</td>\n",
       "      <td>1001</td>\n",
       "      <td>L'ABERGEMENT-CLEMENCIAT</td>\n",
       "      <td>NaN</td>\n",
       "      <td>1975-08-05</td>\n",
       "      <td>1146</td>\n",
       "      <td>1</td>\n",
       "      <td>68.362800</td>\n",
       "    </tr>\n",
       "    <tr>\n",
       "      <th>3</th>\n",
       "      <td>MARTHE MARIE</td>\n",
       "      <td>BATAILLARD</td>\n",
       "      <td>2</td>\n",
       "      <td>1914-09-04</td>\n",
       "      <td>1001</td>\n",
       "      <td>L'ABERGEMENT-CLEMENCIAT</td>\n",
       "      <td>NaN</td>\n",
       "      <td>1975-11-27</td>\n",
       "      <td>1335</td>\n",
       "      <td>1</td>\n",
       "      <td>61.230552</td>\n",
       "    </tr>\n",
       "    <tr>\n",
       "      <th>4</th>\n",
       "      <td>FRANCOISE</td>\n",
       "      <td>RICHONNIER</td>\n",
       "      <td>2</td>\n",
       "      <td>1896-02-27</td>\n",
       "      <td>1001</td>\n",
       "      <td>L'ABERGEMENT-CLEMENCIAT</td>\n",
       "      <td>NaN</td>\n",
       "      <td>1975-08-23</td>\n",
       "      <td>1265</td>\n",
       "      <td>9</td>\n",
       "      <td>79.484178</td>\n",
       "    </tr>\n",
       "  </tbody>\n",
       "</table>\n",
       "</div>"
      ],
      "text/plain": [
       "             First        Last  Sexe        DOB CodeLieuxNaissance  \\\n",
       "0  CLEMENT ANTOINE      THOUNY     1 1904-08-31               1001   \n",
       "1     JEAN ADOLPHE       MAZUY     1 1905-07-03               1001   \n",
       "2           CELINE      LONGIN     2 1907-03-26               1001   \n",
       "3     MARTHE MARIE  BATAILLARD     2 1914-09-04               1001   \n",
       "4        FRANCOISE  RICHONNIER     2 1896-02-27               1001   \n",
       "\n",
       "         AdressseNaissance Etranger        DOD CodeLieuDeces ActeDecesNumber  \\\n",
       "0  L'ABERGEMENT-CLEMENCIAT      NaN 1975-09-25          1001               3   \n",
       "1  L'ABERGEMENT-CLEMENCIAT      NaN 1975-11-03          1004               4   \n",
       "2  L'ABERGEMENT-CLEMENCIAT      NaN 1975-08-05          1146               1   \n",
       "3  L'ABERGEMENT-CLEMENCIAT      NaN 1975-11-27          1335               1   \n",
       "4  L'ABERGEMENT-CLEMENCIAT      NaN 1975-08-23          1265               9   \n",
       "\n",
       "         Age  \n",
       "0  71.067852  \n",
       "1  70.336831  \n",
       "2  68.362800  \n",
       "3  61.230552  \n",
       "4  79.484178  "
      ]
     },
     "execution_count": 133,
     "metadata": {},
     "output_type": "execute_result"
    }
   ],
   "source": [
    "All_deads.head()"
   ]
  },
  {
   "cell_type": "code",
   "execution_count": 150,
   "id": "40d8ca84",
   "metadata": {},
   "outputs": [],
   "source": [
    "Pivot1=All_deads.pivot_table(index=All_deads['DOB'].dt.month, columns='Sexe', values='Age')"
   ]
  },
  {
   "cell_type": "code",
   "execution_count": 151,
   "id": "c1a37e4b",
   "metadata": {},
   "outputs": [
    {
     "data": {
      "text/html": [
       "<div>\n",
       "<style scoped>\n",
       "    .dataframe tbody tr th:only-of-type {\n",
       "        vertical-align: middle;\n",
       "    }\n",
       "\n",
       "    .dataframe tbody tr th {\n",
       "        vertical-align: top;\n",
       "    }\n",
       "\n",
       "    .dataframe thead th {\n",
       "        text-align: right;\n",
       "    }\n",
       "</style>\n",
       "<table border=\"1\" class=\"dataframe\">\n",
       "  <thead>\n",
       "    <tr style=\"text-align: right;\">\n",
       "      <th>Sexe</th>\n",
       "      <th>1</th>\n",
       "      <th>2</th>\n",
       "    </tr>\n",
       "    <tr>\n",
       "      <th>DOB</th>\n",
       "      <th></th>\n",
       "      <th></th>\n",
       "    </tr>\n",
       "  </thead>\n",
       "  <tbody>\n",
       "    <tr>\n",
       "      <th>1.0</th>\n",
       "      <td>70.735265</td>\n",
       "      <td>78.786087</td>\n",
       "    </tr>\n",
       "    <tr>\n",
       "      <th>2.0</th>\n",
       "      <td>70.758838</td>\n",
       "      <td>79.040479</td>\n",
       "    </tr>\n",
       "    <tr>\n",
       "      <th>3.0</th>\n",
       "      <td>70.745486</td>\n",
       "      <td>78.965645</td>\n",
       "    </tr>\n",
       "    <tr>\n",
       "      <th>4.0</th>\n",
       "      <td>70.644538</td>\n",
       "      <td>78.909396</td>\n",
       "    </tr>\n",
       "    <tr>\n",
       "      <th>5.0</th>\n",
       "      <td>70.290033</td>\n",
       "      <td>78.675513</td>\n",
       "    </tr>\n",
       "    <tr>\n",
       "      <th>6.0</th>\n",
       "      <td>70.223591</td>\n",
       "      <td>78.603018</td>\n",
       "    </tr>\n",
       "    <tr>\n",
       "      <th>7.0</th>\n",
       "      <td>70.109657</td>\n",
       "      <td>78.571664</td>\n",
       "    </tr>\n",
       "    <tr>\n",
       "      <th>8.0</th>\n",
       "      <td>70.251603</td>\n",
       "      <td>78.719584</td>\n",
       "    </tr>\n",
       "    <tr>\n",
       "      <th>9.0</th>\n",
       "      <td>70.324830</td>\n",
       "      <td>78.769988</td>\n",
       "    </tr>\n",
       "    <tr>\n",
       "      <th>10.0</th>\n",
       "      <td>70.361080</td>\n",
       "      <td>78.836956</td>\n",
       "    </tr>\n",
       "    <tr>\n",
       "      <th>11.0</th>\n",
       "      <td>70.470394</td>\n",
       "      <td>78.910913</td>\n",
       "    </tr>\n",
       "    <tr>\n",
       "      <th>12.0</th>\n",
       "      <td>70.367196</td>\n",
       "      <td>78.723622</td>\n",
       "    </tr>\n",
       "  </tbody>\n",
       "</table>\n",
       "</div>"
      ],
      "text/plain": [
       "Sexe          1          2\n",
       "DOB                       \n",
       "1.0   70.735265  78.786087\n",
       "2.0   70.758838  79.040479\n",
       "3.0   70.745486  78.965645\n",
       "4.0   70.644538  78.909396\n",
       "5.0   70.290033  78.675513\n",
       "6.0   70.223591  78.603018\n",
       "7.0   70.109657  78.571664\n",
       "8.0   70.251603  78.719584\n",
       "9.0   70.324830  78.769988\n",
       "10.0  70.361080  78.836956\n",
       "11.0  70.470394  78.910913\n",
       "12.0  70.367196  78.723622"
      ]
     },
     "execution_count": 151,
     "metadata": {},
     "output_type": "execute_result"
    }
   ],
   "source": [
    "Pivot1[0:30]"
   ]
  },
  {
   "cell_type": "code",
   "execution_count": 152,
   "id": "defbb331",
   "metadata": {},
   "outputs": [
    {
     "data": {
      "text/plain": [
       "[<matplotlib.lines.Line2D at 0x2bb98701c70>]"
      ]
     },
     "execution_count": 152,
     "metadata": {},
     "output_type": "execute_result"
    },
    {
     "data": {
      "image/png": "[encoded data removed]",
      "text/plain": [
       "<Figure size 432x288 with 1 Axes>"
      ]
     },
     "metadata": {
      "needs_background": "light"
     },
     "output_type": "display_data"
    }
   ],
   "source": [
    "#Pivot1T=Pivot1.transform\n",
    "plt.plot(Pivot1[1])"
   ]
  },
  {
   "cell_type": "code",
   "execution_count": 153,
   "id": "d63e4bcb",
   "metadata": {},
   "outputs": [],
   "source": [
    "Pivot2=All_deads.pivot_table(index=All_deads['Last'], columns='Sexe', values='Age')"
   ]
  },
  {
   "cell_type": "code",
   "execution_count": 177,
   "id": "3d5b6e74",
   "metadata": {},
   "outputs": [
    {
     "data": {
      "text/plain": [
       "Index(['', '-BAILLEST', '-BARBAZANGE', '-BERNARD', '-BEYNAT', '-BIAU',\n",
       "       '-BOUVIER', '-BROCHARD', '-FOURCADE', '-LANDOIS',\n",
       "       ...\n",
       "       'ZYWIEC', 'ZYWIECKA', 'ZYWIECKI', 'ZYWINA', 'ZYWIOLEK', 'ZYWOCKI',\n",
       "       'ZYZANSKI', 'ZYZEK', 'ZYZNOWSKI', 'ZYZYNSKI'],\n",
       "      dtype='object', name='Last', length=502625)"
      ]
     },
     "execution_count": 177,
     "metadata": {},
     "output_type": "execute_result"
    }
   ],
   "source": [
    "Pivot2.index"
   ]
  },
  {
   "cell_type": "code",
   "execution_count": 158,
   "id": "6d27faf2",
   "metadata": {},
   "outputs": [
    {
     "data": {
      "text/plain": [
       "MARTIN               17025\n",
       "BERNARD               9169\n",
       "THOMAS                8061\n",
       "PETIT                 7880\n",
       "DURAND                7530\n",
       "                     ...  \n",
       "MYCAK                    1\n",
       "JACQUAINT                1\n",
       "NICOLAU-BERTHELON        1\n",
       "BALAU                    1\n",
       "PAIXAO                   1\n",
       "Name: Last, Length: 502626, dtype: int64"
      ]
     },
     "execution_count": 158,
     "metadata": {},
     "output_type": "execute_result"
    }
   ],
   "source": []
  },
  {
   "cell_type": "code",
   "execution_count": 159,
   "id": "d8546eba",
   "metadata": {},
   "outputs": [],
   "source": [
    "Toto=All_deads['Last'].value_counts()"
   ]
  },
  {
   "cell_type": "code",
   "execution_count": 167,
   "id": "e84e57f5",
   "metadata": {},
   "outputs": [
    {
     "data": {
      "text/plain": [
       "Index(['MARTIN', 'BERNARD', 'THOMAS', 'PETIT', 'DURAND', 'DUBOIS', 'RICHARD',\n",
       "       'ROBERT', 'MOREAU', 'LAURENT', 'MICHEL', 'SIMON', 'LEFEBVRE', 'LEROY',\n",
       "       'ROUX', 'BERTRAND', 'DAVID', 'FOURNIER', 'BONNET', 'GIRARD', 'MOREL',\n",
       "       'BLANC', 'FAURE', 'LAMBERT', 'VINCENT', 'ROUSSEAU', 'DUPONT', 'ANDRE',\n",
       "       'MULLER', 'MERCIER', 'GARNIER', 'GUERIN', 'LEFEVRE', 'GAUTHIER',\n",
       "       'FRANCOIS', 'CHEVALIER', 'LEGRAND', 'PERRIN', 'FONTAINE', 'ROBIN',\n",
       "       'CLEMENT', 'MATHIEU', 'NICOLAS', 'BOYER', 'ROUSSEL', 'HENRY', 'MORIN',\n",
       "       'MASSON', 'MARCHAND', 'GARCIA'],\n",
       "      dtype='object')"
      ]
     },
     "execution_count": 167,
     "metadata": {},
     "output_type": "execute_result"
    }
   ],
   "source": [
    "Toto.iloc[0:10].index"
   ]
  },
  {
   "cell_type": "code",
   "execution_count": 195,
   "id": "f443038f",
   "metadata": {},
   "outputs": [
    {
     "data": {
      "text/html": [
       "<div>\n",
       "<style scoped>\n",
       "    .dataframe tbody tr th:only-of-type {\n",
       "        vertical-align: middle;\n",
       "    }\n",
       "\n",
       "    .dataframe tbody tr th {\n",
       "        vertical-align: top;\n",
       "    }\n",
       "\n",
       "    .dataframe thead th {\n",
       "        text-align: right;\n",
       "    }\n",
       "</style>\n",
       "<table border=\"1\" class=\"dataframe\">\n",
       "  <thead>\n",
       "    <tr style=\"text-align: right;\">\n",
       "      <th>Sexe</th>\n",
       "      <th>1</th>\n",
       "      <th>2</th>\n",
       "    </tr>\n",
       "  </thead>\n",
       "  <tbody>\n",
       "    <tr>\n",
       "      <th>MARTIN</th>\n",
       "      <td>71.176555</td>\n",
       "      <td>79.597134</td>\n",
       "    </tr>\n",
       "    <tr>\n",
       "      <th>BERNARD</th>\n",
       "      <td>71.214659</td>\n",
       "      <td>79.225335</td>\n",
       "    </tr>\n",
       "    <tr>\n",
       "      <th>THOMAS</th>\n",
       "      <td>70.994329</td>\n",
       "      <td>79.406906</td>\n",
       "    </tr>\n",
       "    <tr>\n",
       "      <th>PETIT</th>\n",
       "      <td>70.789064</td>\n",
       "      <td>78.813487</td>\n",
       "    </tr>\n",
       "    <tr>\n",
       "      <th>DURAND</th>\n",
       "      <td>72.007738</td>\n",
       "      <td>80.020890</td>\n",
       "    </tr>\n",
       "    <tr>\n",
       "      <th>DUBOIS</th>\n",
       "      <td>70.399747</td>\n",
       "      <td>78.684765</td>\n",
       "    </tr>\n",
       "    <tr>\n",
       "      <th>RICHARD</th>\n",
       "      <td>70.380432</td>\n",
       "      <td>78.963043</td>\n",
       "    </tr>\n",
       "    <tr>\n",
       "      <th>ROBERT</th>\n",
       "      <td>70.386046</td>\n",
       "      <td>79.017771</td>\n",
       "    </tr>\n",
       "    <tr>\n",
       "      <th>MOREAU</th>\n",
       "      <td>71.408318</td>\n",
       "      <td>79.895666</td>\n",
       "    </tr>\n",
       "    <tr>\n",
       "      <th>LAURENT</th>\n",
       "      <td>71.103717</td>\n",
       "      <td>79.014286</td>\n",
       "    </tr>\n",
       "    <tr>\n",
       "      <th>MICHEL</th>\n",
       "      <td>70.745243</td>\n",
       "      <td>79.200663</td>\n",
       "    </tr>\n",
       "    <tr>\n",
       "      <th>SIMON</th>\n",
       "      <td>70.216734</td>\n",
       "      <td>78.608801</td>\n",
       "    </tr>\n",
       "    <tr>\n",
       "      <th>LEFEBVRE</th>\n",
       "      <td>68.568639</td>\n",
       "      <td>77.187850</td>\n",
       "    </tr>\n",
       "    <tr>\n",
       "      <th>LEROY</th>\n",
       "      <td>69.726983</td>\n",
       "      <td>77.810614</td>\n",
       "    </tr>\n",
       "    <tr>\n",
       "      <th>ROUX</th>\n",
       "      <td>72.303133</td>\n",
       "      <td>80.689686</td>\n",
       "    </tr>\n",
       "    <tr>\n",
       "      <th>BERTRAND</th>\n",
       "      <td>71.861062</td>\n",
       "      <td>79.504122</td>\n",
       "    </tr>\n",
       "    <tr>\n",
       "      <th>DAVID</th>\n",
       "      <td>70.728354</td>\n",
       "      <td>79.294260</td>\n",
       "    </tr>\n",
       "    <tr>\n",
       "      <th>FOURNIER</th>\n",
       "      <td>71.355385</td>\n",
       "      <td>79.069616</td>\n",
       "    </tr>\n",
       "    <tr>\n",
       "      <th>BONNET</th>\n",
       "      <td>72.150358</td>\n",
       "      <td>79.754895</td>\n",
       "    </tr>\n",
       "    <tr>\n",
       "      <th>GIRARD</th>\n",
       "      <td>71.682701</td>\n",
       "      <td>79.898647</td>\n",
       "    </tr>\n",
       "    <tr>\n",
       "      <th>MOREL</th>\n",
       "      <td>70.975483</td>\n",
       "      <td>78.712703</td>\n",
       "    </tr>\n",
       "    <tr>\n",
       "      <th>BLANC</th>\n",
       "      <td>72.878402</td>\n",
       "      <td>80.395438</td>\n",
       "    </tr>\n",
       "    <tr>\n",
       "      <th>FAURE</th>\n",
       "      <td>72.742468</td>\n",
       "      <td>80.500629</td>\n",
       "    </tr>\n",
       "    <tr>\n",
       "      <th>LAMBERT</th>\n",
       "      <td>71.184674</td>\n",
       "      <td>79.211744</td>\n",
       "    </tr>\n",
       "    <tr>\n",
       "      <th>VINCENT</th>\n",
       "      <td>71.931522</td>\n",
       "      <td>79.991760</td>\n",
       "    </tr>\n",
       "    <tr>\n",
       "      <th>ROUSSEAU</th>\n",
       "      <td>71.264573</td>\n",
       "      <td>79.131708</td>\n",
       "    </tr>\n",
       "    <tr>\n",
       "      <th>DUPONT</th>\n",
       "      <td>69.879085</td>\n",
       "      <td>78.616947</td>\n",
       "    </tr>\n",
       "    <tr>\n",
       "      <th>ANDRE</th>\n",
       "      <td>71.418683</td>\n",
       "      <td>79.329335</td>\n",
       "    </tr>\n",
       "    <tr>\n",
       "      <th>MULLER</th>\n",
       "      <td>69.955072</td>\n",
       "      <td>78.401376</td>\n",
       "    </tr>\n",
       "    <tr>\n",
       "      <th>MERCIER</th>\n",
       "      <td>70.607665</td>\n",
       "      <td>79.589866</td>\n",
       "    </tr>\n",
       "    <tr>\n",
       "      <th>GARNIER</th>\n",
       "      <td>71.356209</td>\n",
       "      <td>79.660276</td>\n",
       "    </tr>\n",
       "    <tr>\n",
       "      <th>GUERIN</th>\n",
       "      <td>71.822592</td>\n",
       "      <td>80.017344</td>\n",
       "    </tr>\n",
       "    <tr>\n",
       "      <th>LEFEVRE</th>\n",
       "      <td>70.044588</td>\n",
       "      <td>78.148984</td>\n",
       "    </tr>\n",
       "    <tr>\n",
       "      <th>GAUTHIER</th>\n",
       "      <td>71.757152</td>\n",
       "      <td>79.273114</td>\n",
       "    </tr>\n",
       "    <tr>\n",
       "      <th>FRANCOIS</th>\n",
       "      <td>69.834127</td>\n",
       "      <td>78.170946</td>\n",
       "    </tr>\n",
       "    <tr>\n",
       "      <th>CHEVALIER</th>\n",
       "      <td>70.890237</td>\n",
       "      <td>79.390131</td>\n",
       "    </tr>\n",
       "    <tr>\n",
       "      <th>LEGRAND</th>\n",
       "      <td>69.980259</td>\n",
       "      <td>78.265888</td>\n",
       "    </tr>\n",
       "    <tr>\n",
       "      <th>PERRIN</th>\n",
       "      <td>71.714448</td>\n",
       "      <td>79.262783</td>\n",
       "    </tr>\n",
       "    <tr>\n",
       "      <th>FONTAINE</th>\n",
       "      <td>68.893796</td>\n",
       "      <td>77.786869</td>\n",
       "    </tr>\n",
       "    <tr>\n",
       "      <th>ROBIN</th>\n",
       "      <td>71.364938</td>\n",
       "      <td>79.397329</td>\n",
       "    </tr>\n",
       "    <tr>\n",
       "      <th>CLEMENT</th>\n",
       "      <td>70.599835</td>\n",
       "      <td>79.129602</td>\n",
       "    </tr>\n",
       "    <tr>\n",
       "      <th>MATHIEU</th>\n",
       "      <td>71.278627</td>\n",
       "      <td>79.523972</td>\n",
       "    </tr>\n",
       "    <tr>\n",
       "      <th>NICOLAS</th>\n",
       "      <td>69.937558</td>\n",
       "      <td>79.533002</td>\n",
       "    </tr>\n",
       "    <tr>\n",
       "      <th>BOYER</th>\n",
       "      <td>70.960834</td>\n",
       "      <td>79.220413</td>\n",
       "    </tr>\n",
       "    <tr>\n",
       "      <th>ROUSSEL</th>\n",
       "      <td>70.218626</td>\n",
       "      <td>79.022142</td>\n",
       "    </tr>\n",
       "    <tr>\n",
       "      <th>HENRY</th>\n",
       "      <td>70.558411</td>\n",
       "      <td>78.278665</td>\n",
       "    </tr>\n",
       "    <tr>\n",
       "      <th>MORIN</th>\n",
       "      <td>71.554298</td>\n",
       "      <td>79.247875</td>\n",
       "    </tr>\n",
       "    <tr>\n",
       "      <th>MASSON</th>\n",
       "      <td>70.627437</td>\n",
       "      <td>78.994085</td>\n",
       "    </tr>\n",
       "    <tr>\n",
       "      <th>MARCHAND</th>\n",
       "      <td>71.595731</td>\n",
       "      <td>79.894187</td>\n",
       "    </tr>\n",
       "    <tr>\n",
       "      <th>GARCIA</th>\n",
       "      <td>69.472595</td>\n",
       "      <td>78.266915</td>\n",
       "    </tr>\n",
       "  </tbody>\n",
       "</table>\n",
       "</div>"
      ],
      "text/plain": [
       "Sexe               1          2\n",
       "MARTIN     71.176555  79.597134\n",
       "BERNARD    71.214659  79.225335\n",
       "THOMAS     70.994329  79.406906\n",
       "PETIT      70.789064  78.813487\n",
       "DURAND     72.007738  80.020890\n",
       "DUBOIS     70.399747  78.684765\n",
       "RICHARD    70.380432  78.963043\n",
       "ROBERT     70.386046  79.017771\n",
       "MOREAU     71.408318  79.895666\n",
       "LAURENT    71.103717  79.014286\n",
       "MICHEL     70.745243  79.200663\n",
       "SIMON      70.216734  78.608801\n",
       "LEFEBVRE   68.568639  77.187850\n",
       "LEROY      69.726983  77.810614\n",
       "ROUX       72.303133  80.689686\n",
       "BERTRAND   71.861062  79.504122\n",
       "DAVID      70.728354  79.294260\n",
       "FOURNIER   71.355385  79.069616\n",
       "BONNET     72.150358  79.754895\n",
       "GIRARD     71.682701  79.898647\n",
       "MOREL      70.975483  78.712703\n",
       "BLANC      72.878402  80.395438\n",
       "FAURE      72.742468  80.500629\n",
       "LAMBERT    71.184674  79.211744\n",
       "VINCENT    71.931522  79.991760\n",
       "ROUSSEAU   71.264573  79.131708\n",
       "DUPONT     69.879085  78.616947\n",
       "ANDRE      71.418683  79.329335\n",
       "MULLER     69.955072  78.401376\n",
       "MERCIER    70.607665  79.589866\n",
       "GARNIER    71.356209  79.660276\n",
       "GUERIN     71.822592  80.017344\n",
       "LEFEVRE    70.044588  78.148984\n",
       "GAUTHIER   71.757152  79.273114\n",
       "FRANCOIS   69.834127  78.170946\n",
       "CHEVALIER  70.890237  79.390131\n",
       "LEGRAND    69.980259  78.265888\n",
       "PERRIN     71.714448  79.262783\n",
       "FONTAINE   68.893796  77.786869\n",
       "ROBIN      71.364938  79.397329\n",
       "CLEMENT    70.599835  79.129602\n",
       "MATHIEU    71.278627  79.523972\n",
       "NICOLAS    69.937558  79.533002\n",
       "BOYER      70.960834  79.220413\n",
       "ROUSSEL    70.218626  79.022142\n",
       "HENRY      70.558411  78.278665\n",
       "MORIN      71.554298  79.247875\n",
       "MASSON     70.627437  78.994085\n",
       "MARCHAND   71.595731  79.894187\n",
       "GARCIA     69.472595  78.266915"
      ]
     },
     "execution_count": 195,
     "metadata": {},
     "output_type": "execute_result"
    }
   ],
   "source": [
    "Pivot2.loc[Toto.iloc[0:50].index]"
   ]
  },
  {
   "cell_type": "code",
   "execution_count": 198,
   "id": "11c0cdaf",
   "metadata": {},
   "outputs": [
    {
     "data": {
      "text/plain": [
       "[<matplotlib.lines.Line2D at 0x2bb98d2b8b0>,\n",
       " <matplotlib.lines.Line2D at 0x2bb98d2b850>]"
      ]
     },
     "execution_count": 198,
     "metadata": {},
     "output_type": "execute_result"
    },
    {
     "data": {
      "image/png": "[encoded data removed]",
      "text/plain": [
       "<Figure size 432x288 with 1 Axes>"
      ]
     },
     "metadata": {
      "needs_background": "light"
     },
     "output_type": "display_data"
    }
   ],
   "source": [
    "plt.plot(Pivot2.loc[Toto.iloc[0:50].index])"
   ]
  },
  {
   "cell_type": "code",
   "execution_count": 200,
   "id": "0219d56f",
   "metadata": {},
   "outputs": [
    {
     "data": {
      "text/html": [
       "<div>\n",
       "<style scoped>\n",
       "    .dataframe tbody tr th:only-of-type {\n",
       "        vertical-align: middle;\n",
       "    }\n",
       "\n",
       "    .dataframe tbody tr th {\n",
       "        vertical-align: top;\n",
       "    }\n",
       "\n",
       "    .dataframe thead th {\n",
       "        text-align: right;\n",
       "    }\n",
       "</style>\n",
       "<table border=\"1\" class=\"dataframe\">\n",
       "  <thead>\n",
       "    <tr style=\"text-align: right;\">\n",
       "      <th></th>\n",
       "      <th>First</th>\n",
       "      <th>Last</th>\n",
       "      <th>Sexe</th>\n",
       "      <th>DOB</th>\n",
       "      <th>CodeLieuxNaissance</th>\n",
       "      <th>AdressseNaissance</th>\n",
       "      <th>Etranger</th>\n",
       "      <th>DOD</th>\n",
       "      <th>CodeLieuDeces</th>\n",
       "      <th>ActeDecesNumber</th>\n",
       "      <th>Age</th>\n",
       "    </tr>\n",
       "  </thead>\n",
       "  <tbody>\n",
       "    <tr>\n",
       "      <th>0</th>\n",
       "      <td>CLEMENT ANTOINE</td>\n",
       "      <td>THOUNY</td>\n",
       "      <td>1</td>\n",
       "      <td>1904-08-31</td>\n",
       "      <td>1001</td>\n",
       "      <td>L'ABERGEMENT-CLEMENCIAT</td>\n",
       "      <td>NaN</td>\n",
       "      <td>1975-09-25</td>\n",
       "      <td>1001</td>\n",
       "      <td>3</td>\n",
       "      <td>71.067852</td>\n",
       "    </tr>\n",
       "    <tr>\n",
       "      <th>1</th>\n",
       "      <td>JEAN ADOLPHE</td>\n",
       "      <td>MAZUY</td>\n",
       "      <td>1</td>\n",
       "      <td>1905-07-03</td>\n",
       "      <td>1001</td>\n",
       "      <td>L'ABERGEMENT-CLEMENCIAT</td>\n",
       "      <td>NaN</td>\n",
       "      <td>1975-11-03</td>\n",
       "      <td>1004</td>\n",
       "      <td>4</td>\n",
       "      <td>70.336831</td>\n",
       "    </tr>\n",
       "    <tr>\n",
       "      <th>2</th>\n",
       "      <td>CELINE</td>\n",
       "      <td>LONGIN</td>\n",
       "      <td>2</td>\n",
       "      <td>1907-03-26</td>\n",
       "      <td>1001</td>\n",
       "      <td>L'ABERGEMENT-CLEMENCIAT</td>\n",
       "      <td>NaN</td>\n",
       "      <td>1975-08-05</td>\n",
       "      <td>1146</td>\n",
       "      <td>1</td>\n",
       "      <td>68.362800</td>\n",
       "    </tr>\n",
       "    <tr>\n",
       "      <th>3</th>\n",
       "      <td>MARTHE MARIE</td>\n",
       "      <td>BATAILLARD</td>\n",
       "      <td>2</td>\n",
       "      <td>1914-09-04</td>\n",
       "      <td>1001</td>\n",
       "      <td>L'ABERGEMENT-CLEMENCIAT</td>\n",
       "      <td>NaN</td>\n",
       "      <td>1975-11-27</td>\n",
       "      <td>1335</td>\n",
       "      <td>1</td>\n",
       "      <td>61.230552</td>\n",
       "    </tr>\n",
       "    <tr>\n",
       "      <th>4</th>\n",
       "      <td>FRANCOISE</td>\n",
       "      <td>RICHONNIER</td>\n",
       "      <td>2</td>\n",
       "      <td>1896-02-27</td>\n",
       "      <td>1001</td>\n",
       "      <td>L'ABERGEMENT-CLEMENCIAT</td>\n",
       "      <td>NaN</td>\n",
       "      <td>1975-08-23</td>\n",
       "      <td>1265</td>\n",
       "      <td>9</td>\n",
       "      <td>79.484178</td>\n",
       "    </tr>\n",
       "    <tr>\n",
       "      <th>...</th>\n",
       "      <td>...</td>\n",
       "      <td>...</td>\n",
       "      <td>...</td>\n",
       "      <td>...</td>\n",
       "      <td>...</td>\n",
       "      <td>...</td>\n",
       "      <td>...</td>\n",
       "      <td>...</td>\n",
       "      <td>...</td>\n",
       "      <td>...</td>\n",
       "      <td>...</td>\n",
       "    </tr>\n",
       "    <tr>\n",
       "      <th>4792537</th>\n",
       "      <td>JEAN-LOUIS ANDRE ALBERT</td>\n",
       "      <td>FOURNIER</td>\n",
       "      <td>1</td>\n",
       "      <td>1957-08-05</td>\n",
       "      <td>75118</td>\n",
       "      <td>PARIS 18E  ARRONDISSEMENT</td>\n",
       "      <td>NaN</td>\n",
       "      <td>2020-02-09</td>\n",
       "      <td>99134</td>\n",
       "      <td>2162</td>\n",
       "      <td>62.514631</td>\n",
       "    </tr>\n",
       "    <tr>\n",
       "      <th>4792538</th>\n",
       "      <td>KAMEL</td>\n",
       "      <td>CHITOUR</td>\n",
       "      <td>1</td>\n",
       "      <td>1941-07-27</td>\n",
       "      <td>93352</td>\n",
       "      <td>DEPARTEMENT DE CONSTANTINE</td>\n",
       "      <td>NaN</td>\n",
       "      <td>2020-09-11</td>\n",
       "      <td>99134</td>\n",
       "      <td>2166</td>\n",
       "      <td>79.128250</td>\n",
       "    </tr>\n",
       "    <tr>\n",
       "      <th>4792539</th>\n",
       "      <td>WALTRAUD ROSINA</td>\n",
       "      <td>SCHOTTMULLER</td>\n",
       "      <td>2</td>\n",
       "      <td>1930-02-18</td>\n",
       "      <td>99109</td>\n",
       "      <td>LAHR</td>\n",
       "      <td>ALLEMAGNE</td>\n",
       "      <td>2020-11-11</td>\n",
       "      <td>99134</td>\n",
       "      <td>2165</td>\n",
       "      <td>90.731500</td>\n",
       "    </tr>\n",
       "    <tr>\n",
       "      <th>4792540</th>\n",
       "      <td>ANDRE CHARLES</td>\n",
       "      <td>MASSONNET</td>\n",
       "      <td>1</td>\n",
       "      <td>1943-10-01</td>\n",
       "      <td>01060</td>\n",
       "      <td>BRENOD</td>\n",
       "      <td>NaN</td>\n",
       "      <td>2020-09-29</td>\n",
       "      <td>99140</td>\n",
       "      <td>3588</td>\n",
       "      <td>76.998159</td>\n",
       "    </tr>\n",
       "    <tr>\n",
       "      <th>4792541</th>\n",
       "      <td>NICOLE MICHELINE</td>\n",
       "      <td>HOFMANN</td>\n",
       "      <td>2</td>\n",
       "      <td>1928-01-15</td>\n",
       "      <td>75114</td>\n",
       "      <td>PARIS 14E  ARRONDISSEMENT</td>\n",
       "      <td>NaN</td>\n",
       "      <td>2020-05-08</td>\n",
       "      <td>99140</td>\n",
       "      <td>3597</td>\n",
       "      <td>92.314011</td>\n",
       "    </tr>\n",
       "  </tbody>\n",
       "</table>\n",
       "<p>4792542 rows × 11 columns</p>\n",
       "</div>"
      ],
      "text/plain": [
       "                           First          Last  Sexe        DOB  \\\n",
       "0                CLEMENT ANTOINE        THOUNY     1 1904-08-31   \n",
       "1                   JEAN ADOLPHE         MAZUY     1 1905-07-03   \n",
       "2                         CELINE        LONGIN     2 1907-03-26   \n",
       "3                   MARTHE MARIE    BATAILLARD     2 1914-09-04   \n",
       "4                      FRANCOISE    RICHONNIER     2 1896-02-27   \n",
       "...                          ...           ...   ...        ...   \n",
       "4792537  JEAN-LOUIS ANDRE ALBERT      FOURNIER     1 1957-08-05   \n",
       "4792538                    KAMEL       CHITOUR     1 1941-07-27   \n",
       "4792539          WALTRAUD ROSINA  SCHOTTMULLER     2 1930-02-18   \n",
       "4792540            ANDRE CHARLES     MASSONNET     1 1943-10-01   \n",
       "4792541         NICOLE MICHELINE       HOFMANN     2 1928-01-15   \n",
       "\n",
       "        CodeLieuxNaissance           AdressseNaissance   Etranger        DOD  \\\n",
       "0                     1001     L'ABERGEMENT-CLEMENCIAT        NaN 1975-09-25   \n",
       "1                     1001     L'ABERGEMENT-CLEMENCIAT        NaN 1975-11-03   \n",
       "2                     1001     L'ABERGEMENT-CLEMENCIAT        NaN 1975-08-05   \n",
       "3                     1001     L'ABERGEMENT-CLEMENCIAT        NaN 1975-11-27   \n",
       "4                     1001     L'ABERGEMENT-CLEMENCIAT        NaN 1975-08-23   \n",
       "...                    ...                         ...        ...        ...   \n",
       "4792537              75118   PARIS 18E  ARRONDISSEMENT        NaN 2020-02-09   \n",
       "4792538              93352  DEPARTEMENT DE CONSTANTINE        NaN 2020-09-11   \n",
       "4792539              99109                        LAHR  ALLEMAGNE 2020-11-11   \n",
       "4792540              01060                      BRENOD        NaN 2020-09-29   \n",
       "4792541              75114   PARIS 14E  ARRONDISSEMENT        NaN 2020-05-08   \n",
       "\n",
       "        CodeLieuDeces ActeDecesNumber        Age  \n",
       "0                1001               3  71.067852  \n",
       "1                1004               4  70.336831  \n",
       "2                1146               1  68.362800  \n",
       "3                1335               1  61.230552  \n",
       "4                1265               9  79.484178  \n",
       "...               ...             ...        ...  \n",
       "4792537         99134            2162  62.514631  \n",
       "4792538         99134            2166  79.128250  \n",
       "4792539         99134            2165  90.731500  \n",
       "4792540         99140            3588  76.998159  \n",
       "4792541         99140            3597  92.314011  \n",
       "\n",
       "[4792542 rows x 11 columns]"
      ]
     },
     "execution_count": 200,
     "metadata": {},
     "output_type": "execute_result"
    }
   ],
   "source": [
    "All_deads"
   ]
  },
  {
   "cell_type": "code",
   "execution_count": 205,
   "id": "12043a0c",
   "metadata": {},
   "outputs": [],
   "source": [
    "PivotEtranger=All_deads.pivot_table(index=All_deads['CodeLieuxNaissance'], columns='Sexe', values='Age')"
   ]
  },
  {
   "cell_type": "code",
   "execution_count": 206,
   "id": "07bcdb43",
   "metadata": {},
   "outputs": [
    {
     "data": {
      "text/html": [
       "<div>\n",
       "<style scoped>\n",
       "    .dataframe tbody tr th:only-of-type {\n",
       "        vertical-align: middle;\n",
       "    }\n",
       "\n",
       "    .dataframe tbody tr th {\n",
       "        vertical-align: top;\n",
       "    }\n",
       "\n",
       "    .dataframe thead th {\n",
       "        text-align: right;\n",
       "    }\n",
       "</style>\n",
       "<table border=\"1\" class=\"dataframe\">\n",
       "  <thead>\n",
       "    <tr style=\"text-align: right;\">\n",
       "      <th>Sexe</th>\n",
       "      <th>1</th>\n",
       "      <th>2</th>\n",
       "    </tr>\n",
       "    <tr>\n",
       "      <th>CodeLieuxNaissance</th>\n",
       "      <th></th>\n",
       "      <th></th>\n",
       "    </tr>\n",
       "  </thead>\n",
       "  <tbody>\n",
       "    <tr>\n",
       "      <th>1001</th>\n",
       "      <td>70.007806</td>\n",
       "      <td>80.080529</td>\n",
       "    </tr>\n",
       "    <tr>\n",
       "      <th>1002</th>\n",
       "      <td>87.457876</td>\n",
       "      <td>83.276727</td>\n",
       "    </tr>\n",
       "    <tr>\n",
       "      <th>1003</th>\n",
       "      <td>67.103363</td>\n",
       "      <td>83.066045</td>\n",
       "    </tr>\n",
       "    <tr>\n",
       "      <th>1004</th>\n",
       "      <td>61.938153</td>\n",
       "      <td>74.925389</td>\n",
       "    </tr>\n",
       "    <tr>\n",
       "      <th>1005</th>\n",
       "      <td>77.834216</td>\n",
       "      <td>80.546144</td>\n",
       "    </tr>\n",
       "    <tr>\n",
       "      <th>...</th>\n",
       "      <td>...</td>\n",
       "      <td>...</td>\n",
       "    </tr>\n",
       "    <tr>\n",
       "      <th>1096</th>\n",
       "      <td>71.844181</td>\n",
       "      <td>79.474498</td>\n",
       "    </tr>\n",
       "    <tr>\n",
       "      <th>1097</th>\n",
       "      <td>68.326112</td>\n",
       "      <td>80.113897</td>\n",
       "    </tr>\n",
       "    <tr>\n",
       "      <th>1098</th>\n",
       "      <td>72.656447</td>\n",
       "      <td>82.928009</td>\n",
       "    </tr>\n",
       "    <tr>\n",
       "      <th>1099</th>\n",
       "      <td>75.088925</td>\n",
       "      <td>77.647043</td>\n",
       "    </tr>\n",
       "    <tr>\n",
       "      <th>1100</th>\n",
       "      <td>80.443815</td>\n",
       "      <td>83.942039</td>\n",
       "    </tr>\n",
       "  </tbody>\n",
       "</table>\n",
       "<p>100 rows × 2 columns</p>\n",
       "</div>"
      ],
      "text/plain": [
       "Sexe                        1          2\n",
       "CodeLieuxNaissance                      \n",
       "1001                70.007806  80.080529\n",
       "1002                87.457876  83.276727\n",
       "1003                67.103363  83.066045\n",
       "1004                61.938153  74.925389\n",
       "1005                77.834216  80.546144\n",
       "...                       ...        ...\n",
       "1096                71.844181  79.474498\n",
       "1097                68.326112  80.113897\n",
       "1098                72.656447  82.928009\n",
       "1099                75.088925  77.647043\n",
       "1100                80.443815  83.942039\n",
       "\n",
       "[100 rows x 2 columns]"
      ]
     },
     "execution_count": 206,
     "metadata": {},
     "output_type": "execute_result"
    }
   ],
   "source": [
    "PivotEtranger[0:100]"
   ]
  },
  {
   "cell_type": "code",
   "execution_count": 216,
   "id": "7ddfa864",
   "metadata": {},
   "outputs": [],
   "source": [
    "#sns.barplot(x='DOD',y='Age',data=All_deads, hue='Sexe', palette='YlGnBu')"
   ]
  },
  {
   "cell_type": "code",
   "execution_count": 215,
   "id": "11d0ea73",
   "metadata": {},
   "outputs": [
    {
     "data": {
      "text/plain": [
       "<AxesSubplot:xlabel='Sexe', ylabel='Age'>"
      ]
     },
     "execution_count": 215,
     "metadata": {},
     "output_type": "execute_result"
    },
    {
     "data": {
      "image/png": "[encoded data removed]",
      "text/plain": [
       "<Figure size 432x288 with 1 Axes>"
      ]
     },
     "metadata": {
      "needs_background": "light"
     },
     "output_type": "display_data"
    }
   ],
   "source": [
    "sns.boxplot(x=dead_1975['Sexe'],y=dead_1975['Age'],palette='YlGnBu')"
   ]
  },
  {
   "cell_type": "code",
   "execution_count": 220,
   "id": "c363debf",
   "metadata": {},
   "outputs": [],
   "source": [
    "def plot_mortality_year(Year):\n",
    "    #DOB Filter empty year\n",
    "    dead = pd.read_fwf('./deces-' + str(Year) + '.txt',widths=(80,1,8,5,30,30,8,5,9),header=0,names=('NomPrenom','Sexe','DOB','CodeLieuxNaissance','AdressseNaissance','Etranger','DOD','CodeLieuDeces','ActeDecesNumber'), encoding= 'unicode_escape')\n",
    "    dead.drop(dead[dead['DOB']/10**7%10==0].index,inplace=True)\n",
    "    dead.drop(dead[dead['DOB']/10**6%10==0].index,inplace=True)    \n",
    "    #DOB Filter empty day and force 00 to 01\n",
    "    dead['DOB'] = np.where((dead['DOB']%10==0) & (dead['DOB']/10%10==0), dead['DOB'] + 1, dead['DOB'])\n",
    "    #DOB Filter empty month and force 00 to 01\n",
    "    dead['DOB'] = np.where((np.trunc(dead['DOB']/100%10)==0) & (np.trunc(dead['DOB']/1000%10)==0), dead['DOB'] + 100, dead['DOB'])\n",
    "    \n",
    "    #DOD Filter empty year\n",
    "    dead.drop(dead[dead['DOD']<19000101].index,inplace=True)\n",
    "    dead.drop(dead[dead['DOD']/10**7%10==0].index,inplace=True)\n",
    "    dead.drop(dead[dead['DOD']/10**6%10==0].index,inplace=True)    \n",
    "    #DOD Filter empty day and force 00 to 01\n",
    "    dead['DOD'] = np.where((dead['DOD']%10==0) & (dead['DOD']/10%10==0), dead['DOD'] + 1, dead['DOD'])\n",
    "    #DOD Filter empty month and force 00 to 01\n",
    "    dead['DOD'] = np.where((np.trunc(dead['DOD']/100%10)==0) & (np.trunc(dead['DOD']/1000%10)==0), dead['DOD'] + 100, dead['DOD'])\n",
    "    \n",
    "    #Remove '/' in Col 1\n",
    "    dead.iloc[:,0]=dead.iloc[:,0].str[:-1]\n",
    "    #Split Name * Col 1\n",
    "    dead[['Last','First']] = dead.NomPrenom.str.split(\"*\",expand=True)\n",
    "    dead.drop(columns='NomPrenom',inplace=True)\n",
    "    # shift column to first position\n",
    "    first = dead.pop('Last')\n",
    "    second = dead.pop('First')\n",
    "\n",
    "    dead.insert(0, 'Last', first)\n",
    "    dead.insert(0, 'First', second)\n",
    "    #Change format DOB, DOD\n",
    "    dead[\"DOB\"] = pd.to_datetime(dead[\"DOB\"], yearfirst=True, errors='coerce', dayfirst=False, format=\"%Y%m%d\")\n",
    "    dead[\"DOD\"] = pd.to_datetime(dead[\"DOD\"], yearfirst=True, dayfirst=False, format=\"%Y%m%d\")\n",
    "    dead[\"Age\"]= (dead[\"DOD\"] - dead[\"DOB\"])/np.timedelta64(1,'Y')\n",
    "    dead.drop(dead[dead['Age']>130].index,inplace=True)\n",
    "    dead.drop(dead[dead['Age']<=0].index,inplace=True)\n",
    "    #Meuf=dead[dead['Sexe']==2]\n",
    "    #Kem=dead[dead['Sexe']==1]\n",
    "    #Mortality_plt=sns.histplot(Kem['Age'],bins=120,color=\"blue\")\n",
    "    #Mortality_plt=sns.histplot(Meuf['Age'],bins=120,color=\"m\")\n",
    "    #Mortality_plt.set(xlim=(0,120),ylim=(0, 15000))\n",
    "    #Mortality_plt.set_title('Mortality year: ' + str(Year))\n",
    "    #plt.savefig('./mortality_' + str(Year) + '.png')  \n",
    "    #plt.clf()\n",
    "    Box_plt2=sns.boxplot(x=dead['Sexe'],y=dead['Age'],palette='YlGnBu')\n",
    "    Box_plt2.set(ylim=(20,120))\n",
    "    Box_plt2.set_title('Mortality year: ' + str(Year))\n",
    "    plt.savefig('./Box_plot2_' + str(Year) + '.png')  \n",
    "    plt.clf()\n",
    "    \n",
    "    return dead"
   ]
  },
  {
   "cell_type": "code",
   "execution_count": 221,
   "id": "7c24b64c",
   "metadata": {},
   "outputs": [
    {
     "data": {
      "text/plain": [
       "<Figure size 432x288 with 0 Axes>"
      ]
     },
     "metadata": {},
     "output_type": "display_data"
    }
   ],
   "source": [
    "for i in np.arange(1970,2022,5):\n",
    "    plot_mortality_year(i)\n"
   ]
  },
  {
   "cell_type": "code",
   "execution_count": 222,
   "id": "58250d18",
   "metadata": {},
   "outputs": [
    {
     "data": {
      "text/plain": [
       "First                       0\n",
       "Last                        0\n",
       "Sexe                        0\n",
       "DOB                         8\n",
       "CodeLieuxNaissance          0\n",
       "AdressseNaissance        5385\n",
       "Etranger              4377464\n",
       "DOD                         0\n",
       "CodeLieuDeces             282\n",
       "ActeDecesNumber          2920\n",
       "Age                         8\n",
       "dtype: int64"
      ]
     },
     "execution_count": 222,
     "metadata": {},
     "output_type": "execute_result"
    }
   ],
   "source": [
    "#df.drop('New',axis=1,inplace=True)\n",
    "#ans7a_ = ans6a.isnull().sum()\n",
    "All_deads.isnull().sum()"
   ]
  },
  {
   "cell_type": "code",
   "execution_count": 303,
   "id": "38d8ba43",
   "metadata": {},
   "outputs": [
    {
     "data": {
      "text/plain": [
       "Int64Index([1971, 1971, 1971, 1971, 1971, 1971, 1971, 1971, 1971, 1971,\n",
       "            ...\n",
       "            2020, 2020, 2020, 2020, 2020, 2020, 2020, 2020, 2020, 2020],\n",
       "           dtype='int64', name='DOD', length=10488)"
      ]
     },
     "execution_count": 303,
     "metadata": {},
     "output_type": "execute_result"
    }
   ],
   "source": [
    "EXP=pd.pivot_table(All_deads,index=\"DOD\",values=\"Age\",aggfunc=np.mean)\n",
    "EXP=EXP[EXP.index.year>1970]\n",
    "EXP.index.year"
   ]
  },
  {
   "cell_type": "code",
   "execution_count": 304,
   "id": "c3aa80e9",
   "metadata": {},
   "outputs": [
    {
     "data": {
      "text/plain": [
       "<AxesSubplot:xlabel='DOD', ylabel='Age'>"
      ]
     },
     "execution_count": 304,
     "metadata": {},
     "output_type": "execute_result"
    },
    {
     "data": {
      "image/png": "[encoded data removed]",
      "text/plain": [
       "<Figure size 432x288 with 1 Axes>"
      ]
     },
     "metadata": {
      "needs_background": "light"
     },
     "output_type": "display_data"
    }
   ],
   "source": [
    "sns.barplot(x=EXP.index.year,y=EXP['Age'])"
   ]
  },
  {
   "cell_type": "code",
   "execution_count": 307,
   "id": "696510fc",
   "metadata": {},
   "outputs": [],
   "source": [
    "ALL_FILTERED=All_deads[All_deads['DOD'].dt.year>1970]"
   ]
  },
  {
   "cell_type": "code",
   "execution_count": 314,
   "id": "771e71b6",
   "metadata": {},
   "outputs": [
    {
     "data": {
      "text/plain": [
       "<seaborn.axisgrid.JointGrid at 0x2bbe4572d60>"
      ]
     },
     "execution_count": 314,
     "metadata": {},
     "output_type": "execute_result"
    },
    {
     "data": {
      "image/png": "[encoded data removed]",
      "text/plain": [
       "<Figure size 432x432 with 3 Axes>"
      ]
     },
     "metadata": {
      "needs_background": "light"
     },
     "output_type": "display_data"
    }
   ],
   "source": [
    "sns.jointplot(x='DOD',y='Age',data=ALL_FILTERED, kind='kde',shade=True,cmap='YlGnBu')"
   ]
  },
  {
   "cell_type": "code",
   "execution_count": null,
   "id": "7e6900fc",
   "metadata": {},
   "outputs": [],
   "source": []
  }
 ],
 "metadata": {
  "kernelspec": {
   "display_name": "Python 3 (ipykernel)",
   "language": "python",
   "name": "python3"
  },
  "language_info": {
   "codemirror_mode": {
    "name": "ipython",
    "version": 3
   },
   "file_extension": ".py",
   "mimetype": "text/x-python",
   "name": "python",
   "nbconvert_exporter": "python",
   "pygments_lexer": "ipython3",
   "version": "3.9.7"
  }
 },
 "nbformat": 4,
 "nbformat_minor": 5
}
